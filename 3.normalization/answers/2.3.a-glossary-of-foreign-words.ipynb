{
 "cells": [
  {
   "cell_type": "markdown",
   "id": "c24c358f-bfe6-4909-9095-d900c13f5b89",
   "metadata": {},
   "source": [
    "# Construire un lexique des mots étrangers"
   ]
  },
  {
   "cell_type": "markdown",
   "id": "b839cab8-a6bb-4fa6-99e8-acbe1fc94692",
   "metadata": {},
   "source": [
    "Dans cet exercice très spécifique, vous allez construire un lexique des mots en grec dans un texte de Friedrich Nietzsche en vous servant des expressions rationnelles."
   ]
  },
  {
   "cell_type": "markdown",
   "id": "6f80e3b8-3154-4570-bc52-47d2b0430e86",
   "metadata": {},
   "source": [
    "## Préparation"
   ]
  },
  {
   "cell_type": "markdown",
   "id": "b8513dce-521c-45cb-beca-ffce21df1ef6",
   "metadata": {},
   "source": [
    "Commencez par charger le texte :"
   ]
  },
  {
   "cell_type": "code",
   "execution_count": null,
   "id": "4a148c75-34d8-43be-9de6-a54f17e487f6",
   "metadata": {},
   "outputs": [],
   "source": [
    "with open('../data/pg51548.txt') as f:\n",
    "    text = f.read()"
   ]
  },
  {
   "cell_type": "markdown",
   "id": "88edfa47-cbec-4ba2-aee2-ff55731ea212",
   "metadata": {},
   "source": [
    "Il est désormais disponible dans une variable `text`. Affichez les 250 premiers caractères pour vous en assurer :"
   ]
  },
  {
   "cell_type": "code",
   "execution_count": null,
   "id": "4cdbabf8-e455-41a5-b66b-7331c9826bda",
   "metadata": {},
   "outputs": [],
   "source": [
    "print(text[:250])"
   ]
  },
  {
   "cell_type": "markdown",
   "id": "3be557c7-974d-422d-82c5-816489ec000c",
   "metadata": {},
   "source": [
    "## À vous de jouer !"
   ]
  },
  {
   "cell_type": "markdown",
   "id": "eeebc543-de67-4be7-9c2e-6cd66ee94507",
   "metadata": {},
   "source": [
    "Avant de commencer, il peut vous être utile de savoir que l’alphabet grec occupe un espace continu dans l’encodage UTF-8 `α-ω` et `Α-Ω` pour les majuscules."
   ]
  },
  {
   "cell_type": "code",
   "execution_count": null,
   "id": "10bacc80-4d82-48bf-87be-5710242c87b9",
   "metadata": {},
   "outputs": [],
   "source": [
    "# your code here\n",
    "\n",
    "import re\n",
    "import unicodedata as ud\n",
    "\n",
    "# first step: normalize text\n",
    "norm_text = \"\"\n",
    "for c in text:\n",
    "    norm_text += ud.normalize('NFKD', c)[0]\n",
    "\n",
    "pattern = r'[α-ωΑ-Ω]+'\n",
    "results = re.findall(pattern, norm_text)\n",
    "\n",
    "display(results)"
   ]
  }
 ],
 "metadata": {
  "kernelspec": {
   "display_name": "Python 3 (ipykernel)",
   "language": "python",
   "name": "python3"
  },
  "language_info": {
   "codemirror_mode": {
    "name": "ipython",
    "version": 3
   },
   "file_extension": ".py",
   "mimetype": "text/x-python",
   "name": "python",
   "nbconvert_exporter": "python",
   "pygments_lexer": "ipython3",
   "version": "3.12.1"
  }
 },
 "nbformat": 4,
 "nbformat_minor": 5
}
