{
 "cells": [
  {
   "cell_type": "markdown",
   "id": "c6294e68-ebac-46d4-a6a8-41b055c68d7b",
   "metadata": {},
   "source": [
    "# Un service d’ordre"
   ]
  },
  {
   "cell_type": "markdown",
   "id": "4d2ee7e5-eb94-446a-8a71-1e4e2b190a52",
   "metadata": {},
   "source": [
    "Le problème est classique : votre source de données est un carnet d’adresses avec deux colonnes, que l’on vous demande de reformater en *Prénom Nom*.\n",
    "\n",
    "Commencez par importer le module `re` :"
   ]
  },
  {
   "cell_type": "code",
   "execution_count": null,
   "id": "7649bb18-fa70-4f07-b7bf-ccbbff201ef8",
   "metadata": {},
   "outputs": [],
   "source": [
    "import re"
   ]
  },
  {
   "cell_type": "markdown",
   "id": "287aedcd-b608-49d7-928f-abb5db1036d2",
   "metadata": {},
   "source": [
    "## Source CSV"
   ]
  },
  {
   "cell_type": "markdown",
   "id": "d804db94-746f-4845-aa98-fdf82a382645",
   "metadata": {},
   "source": [
    "Soit une entrée au format CSV :"
   ]
  },
  {
   "cell_type": "code",
   "execution_count": null,
   "id": "cb90d732-177d-4ac7-aefb-733de9064e70",
   "metadata": {},
   "outputs": [],
   "source": [
    "addresses = \"Vrombert,Noëllie\\nCamaza,Akhim\\nTongberg,Jo\""
   ]
  },
  {
   "cell_type": "markdown",
   "id": "2f2bde34-90bc-483e-be1d-46eb494227ab",
   "metadata": {},
   "source": [
    "À votre tour de la convertir :"
   ]
  },
  {
   "cell_type": "code",
   "execution_count": null,
   "id": "f3be4365-f899-4eb7-9436-bb2562dddb2f",
   "metadata": {},
   "outputs": [],
   "source": [
    "# your code here\n",
    "\n",
    "pattern = r'(.+),(.+)'\n",
    "prog = re.compile(pattern)\n",
    "result = prog.sub(r'\\2 \\1', addresses)\n",
    "\n",
    "print(result)"
   ]
  },
  {
   "cell_type": "markdown",
   "id": "0982fe82-be00-42ff-9b09-41ccfaba99e9",
   "metadata": {},
   "source": [
    "## Source texte"
   ]
  },
  {
   "cell_type": "markdown",
   "id": "ca7946e1-b7b3-444c-ad36-f7608bf5766b",
   "metadata": {},
   "source": [
    "Votre source cette fois-ci semble un peu moins structurée :"
   ]
  },
  {
   "cell_type": "code",
   "execution_count": null,
   "id": "7cd00752-9275-470e-96cd-f2c8613deabb",
   "metadata": {},
   "outputs": [],
   "source": [
    "addresses = \"\"\"Vrombert Noëllie\n",
    "Camaza Akhim\n",
    "Tongberg Jo\"\"\""
   ]
  },
  {
   "cell_type": "markdown",
   "id": "0ef3a3cf-d8dc-473c-96a7-075c698da209",
   "metadata": {},
   "source": [
    "Essayez de remplir votre objectif :"
   ]
  },
  {
   "cell_type": "code",
   "execution_count": null,
   "id": "6a57ef34-6f3e-46a5-8468-63464a96cb41",
   "metadata": {},
   "outputs": [],
   "source": [
    "# your code here\n",
    "\n",
    "pattern = r'(.+) (.+)'\n",
    "prog = re.compile(pattern)\n",
    "result = prog.sub(r'\\2 \\1', addresses)\n",
    "\n",
    "print(result)"
   ]
  },
  {
   "cell_type": "markdown",
   "id": "4aa37c29-bcb1-49f0-8e89-3b45939b034d",
   "metadata": {},
   "source": [
    "## Source Python"
   ]
  },
  {
   "cell_type": "markdown",
   "id": "818d83b7-1f67-41b2-8559-c4794b25b9c2",
   "metadata": {},
   "source": [
    "Et si votre source était déjà un objet Python ?"
   ]
  },
  {
   "cell_type": "code",
   "execution_count": null,
   "id": "5efa2ffb-adb2-450d-a1d9-d37912049c66",
   "metadata": {},
   "outputs": [],
   "source": [
    "addresses = [\n",
    "    \"Vrombert Noëllie\",\n",
    "    \"Camaza Akhim\",\n",
    "    \"Tongberg Jo\"\n",
    "]"
   ]
  },
  {
   "cell_type": "markdown",
   "id": "06da4a8f-628e-48b9-9651-12b6ca939c0e",
   "metadata": {},
   "source": [
    "À vous de jouer ! N’oubliez pas que l’on veut au final du texte simple."
   ]
  },
  {
   "cell_type": "code",
   "execution_count": null,
   "id": "c113abac-7677-4f4a-9796-b9f353ddd5c1",
   "metadata": {},
   "outputs": [],
   "source": [
    "# your code here\n",
    "\n",
    "pattern = r'(.+) (.+)'\n",
    "prog = re.compile(pattern)\n",
    "results = [\n",
    "    prog.sub(r'\\2 \\1', address)\n",
    "    for address in addresses\n",
    "]\n",
    "\n",
    "print(\"\\n\".join(results))"
   ]
  }
 ],
 "metadata": {
  "kernelspec": {
   "display_name": "Python 3 (ipykernel)",
   "language": "python",
   "name": "python3"
  },
  "language_info": {
   "codemirror_mode": {
    "name": "ipython",
    "version": 3
   },
   "file_extension": ".py",
   "mimetype": "text/x-python",
   "name": "python",
   "nbconvert_exporter": "python",
   "pygments_lexer": "ipython3",
   "version": "3.11.8"
  }
 },
 "nbformat": 4,
 "nbformat_minor": 5
}
