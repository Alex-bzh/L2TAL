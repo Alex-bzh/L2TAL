{
 "cells": [
  {
   "cell_type": "markdown",
   "metadata": {},
   "source": [
    "# Pour en finir avec les espaces de nommage"
   ]
  },
  {
   "cell_type": "markdown",
   "metadata": {},
   "source": [
    "## De l’ambiguïté"
   ]
  },
  {
   "cell_type": "markdown",
   "metadata": {},
   "source": [
    "Certains énoncés en français sont ambigus :\n",
    "> (1) Le chewing-gum reste collé au fond du palais.  \n",
    "> (2) Il s’est mangé un pain.  \n",
    "> (3) J’en ai assez des avocats !\n",
    "\n",
    "Dans chacun de ces énoncés on relève des ambiguïtés lexicales homographiques :\n",
    "\n",
    "(1) *palais* : organe ou édifice ?  \n",
    "(2) *pain* : coup de poing ou aliment ?  \n",
    "(3) *avocat* : fruit ou personne ?\n",
    "\n",
    "Si le cerveau humain est habile pour désambiguïser, c’est nettement plus compliqué pour l’informatique."
   ]
  },
  {
   "cell_type": "markdown",
   "metadata": {},
   "source": [
    "## De la personnalisation des éléments"
   ]
  },
  {
   "cell_type": "markdown",
   "metadata": {},
   "source": [
    "XML permet de définir des vocabulaires personnalisés. Solenn et Yvonnig décrivent, chacun de son côté, un objet, *Le Cid* de Corneille :\n",
    "\n",
    "```xml\n",
    "<!-- Solenn -->\n",
    "<book>\n",
    "    <title>Le Cid</title>\n",
    "    <author>Corneille</author>\n",
    "</book>\n",
    "```\n",
    "\n",
    "```xml\n",
    "<!-- Yvonnig -->\n",
    "<theater>\n",
    "    <play>Le Cid</play>\n",
    "    <author>\n",
    "        <firstname>Pierre</firstname>\n",
    "        <lastname>Corneille</lastname>\n",
    "    </author>\n",
    "</theater>\n",
    "```\n",
    "\n",
    "Plus tard, leurs formats de description font autorité et ils décident de les publier à deux adresses distinctes :\n",
    "- **format de Solenn :** http://sowebsite.fr/formatdeso\n",
    "- **format de Yvonnig :** http://yvowebsite.fr/formatdeyvo"
   ]
  },
  {
   "cell_type": "markdown",
   "metadata": {},
   "source": [
    "## De la référence à un format"
   ]
  },
  {
   "cell_type": "markdown",
   "metadata": {},
   "source": [
    "Un jour, Soazig prend connaissance du format de Solenn et décide de l’utiliser pour décrire un objet similaire. Elle fait référence au format de Solenn dans un attribut `xmlns` (*XML Namespace*) pour déclarer le vocabulaire utilisé.\n",
    "\n",
    "```xml\n",
    "<book xmlns=\"http://sowebsite.fr/formatdeso\">\n",
    "    <title>Palafox</title>\n",
    "    <author>Éric Chevillard</author>\n",
    "</book>\n",
    "```\n",
    "\n",
    "À partir de la déclaration `xmlns`, les éléments `book` `title` et `author` de Soazig suivent les règles établies par Solenn dans la déclaration de son format."
   ]
  },
  {
   "cell_type": "markdown",
   "metadata": {},
   "source": [
    "## De la référence à plusieurs formats"
   ]
  },
  {
   "cell_type": "markdown",
   "metadata": {},
   "source": [
    "Soazig apprend ensuite l’existence du format de Yvonnig et souhaite améliorer la description de son objet en faisant référence aux deux formats :\n",
    "\n",
    "```xml\n",
    "<book xmlns=\"http://sowebsite.fr/formatdeso\" xmlns=\"http://yvowebsite.fr/formatdeyvo\">\n",
    "    <title>Palafox</title>\n",
    "    <author>\n",
    "        <firstname>Éric</firstname>\n",
    "        <lastname>Chevillard</lastname>\n",
    "    </author>\n",
    "</book>\n",
    "```\n",
    "\n",
    "**Problème :** les formats sont bien référencés mais il existe une collision entre la définition de l’élément `author` de Solenn et celui de Yvonnig. Qui plus est, la norme XML interdit la présence de deux attributs identiques dans un même élément."
   ]
  },
  {
   "cell_type": "markdown",
   "metadata": {},
   "source": [
    "## De la désambiguïsation"
   ]
  },
  {
   "cell_type": "markdown",
   "metadata": {},
   "source": [
    "**Solution :** ajouter une étiquette pour rattacher l’élément à son format de référence :\n",
    "\n",
    "```XML\n",
    "<!-- Espaces de nommages préfixés -->\n",
    "<so:book xmlns:so=\"http://sowebsite.fr/formatdeso\" xmlns:yvo=\"http://yvowebsite.fr/formatdeyvo\">\n",
    "    <so:title>Palafox</so:title>\n",
    "    <yvo:author>\n",
    "        <yvo:firstname>Éric</yvo:firstname>\n",
    "        <yvo:lastname>Chevillard</yvo:lastname>\n",
    "    </yvo:author>\n",
    "</so:book>\n",
    "```\n",
    "\n",
    "- `so:` préfixe du vocabulaire de Solenn\n",
    "- `yvo:` préfixe du vocabulaire de Yvonnig\n",
    "- `book` et `title` font référence à `xmlns:so`\n",
    "- `author` `firstname` `lastname` font référence à `xmlns:yvo`"
   ]
  },
  {
   "cell_type": "markdown",
   "metadata": {},
   "source": [
    "## Du principe d’héritage"
   ]
  },
  {
   "cell_type": "markdown",
   "metadata": {},
   "source": [
    "Chaque *namespace* est actif pour l’élément dans lequel il est déclaré ainsi que pour ses descendants. Le préfixe est d’ailleurs inutile s’il n’existe aucune ambiguïté :\n",
    "\n",
    "```xml\n",
    "<!-- Avec préfixe -->\n",
    "<so:book xmlns:so=\"http://sowebsite.fr/formatdeso\">\n",
    "    <so:title>Palafox</so:title>\n",
    "    <so:author>Éric Chevillard</so:author>\n",
    "</so:book>\n",
    "```\n",
    "\n",
    "```xml\n",
    "<!-- Sans préfixe -->\n",
    "<book xmlns=\"http://sowebsite.fr/formatdeso\">\n",
    "    <title>Palafox</title>\n",
    "    <author>Éric Chevillard</author>\n",
    "</book>\n",
    "```"
   ]
  },
  {
   "cell_type": "markdown",
   "metadata": {},
   "source": [
    "## De la portée"
   ]
  },
  {
   "cell_type": "markdown",
   "metadata": {},
   "source": [
    "### À portée"
   ]
  },
  {
   "cell_type": "markdown",
   "metadata": {},
   "source": [
    "Dans l’exemple ci-dessous, tous les éléments sont à portée du *namespace*.\n",
    "\n",
    "```xml\n",
    "<livre xmlns=\"http://sowebsite.fr/formatdeso\">\n",
    "    <titre>Palafox</titre>\n",
    "    <auteur>Éric Chevillard</auteur>\n",
    "</livre>\n",
    "```\n",
    "\n",
    "![Arbre XML qui identifie la portée de l'espace de nommage](./pics/4-fig1.png)"
   ]
  },
  {
   "cell_type": "markdown",
   "metadata": {},
   "source": [
    "### Hors de portée"
   ]
  },
  {
   "cell_type": "markdown",
   "metadata": {},
   "source": [
    "Dans cet exemple au contraire, le 2e élement `livre` est hors de portée du premier.\n",
    "\n",
    "```xml\n",
    "<bibliotheque>\n",
    "    <livre xmlns=\"http://sowebsite.fr/formatdeso\">\n",
    "        <titre>Palafox</titre>\n",
    "        <auteur>Éric Chevillard</auteur>\n",
    "    </livre>\n",
    "    <livre>\n",
    "        <titre>Le Cid</titre>\n",
    "        <auteur>Corneille</auteur>\n",
    "    </livre>\n",
    "</bibliotheque>\n",
    "```\n",
    "\n",
    "![2e élément livre hors de portée](./pics/4-fig2.png)"
   ]
  },
  {
   "cell_type": "markdown",
   "metadata": {},
   "source": [
    "## Le principe d’héritage"
   ]
  },
  {
   "cell_type": "markdown",
   "metadata": {},
   "source": [
    "Le principe d’héritage offre la possibilité de simplifier l’écriture :\n",
    "\n",
    "```xml\n",
    "<!-- 'book' et 'title' font référence au format de Solenn -->\n",
    "<book xmlns=\"http://sowebsite.fr/formatdeso\">\n",
    "    <title>Palafox</title>\n",
    "    <!-- format de Yvonnig remplace format de Solenn pour 'author' et descendants -->\n",
    "    <author xmlns=\"http://yvowebsite.fr/formatdeyvo\">\n",
    "        <firstname>Éric</firstname>\n",
    "        <lastname>Chevillard</lastname>\n",
    "    </author>\n",
    "</book>\n",
    "```\n",
    "\n",
    "Dans la pratique, il est souvent intéressant de dissocier visuellement les éléments qui appartiennent à l’un ou l’autre des *namespaces* :\n",
    "\n",
    "```xml\n",
    "<!-- Deux namespaces déclarés : éléments sans préfixe dépendent du format de Solenn -->\n",
    "<book xmlns=\"http://sowebsite.fr/formatdeso\" xmlns:yvo=\"http://yvowebsite.fr/formatdeyvo\">\n",
    "    <title>Palafox</title>\n",
    "    <!-- Éléments préfixés appartiennent au format de Yvonnig -->\n",
    "    <yvo:author>\n",
    "        <yvo:firstname>Éric</yvo:firstname>\n",
    "        <yvo:lastname>Chevillard</yvo:lastname>\n",
    "    </yvo:author>\n",
    "</book>\n",
    "```"
   ]
  },
  {
   "cell_type": "markdown",
   "metadata": {},
   "source": [
    "## Des espaces de nommage célèbres"
   ]
  },
  {
   "cell_type": "markdown",
   "metadata": {},
   "source": [
    "- **XHTML :** http://www.w3.org/1999/xhtml\n",
    "- **MathML :** http://www.w3.org/1998/Math/MathML\n",
    "- **XSL :** http://www.w3.org/1999/XSL/Transform\n",
    "- **XSD :** http://www.w3.org/2001/XMLSchema-instance\n",
    "- **XLink :** http://www.w3.org/1999/xlink\n",
    "- **SVG :** http://www.w3.org/2000/svg\n",
    "- **TEI :** http://www.tei-c.org/ns/1.0\n",
    "- **RDF :** http://www.w3.org/1999/02/22-rdf-syntax-ns#\n",
    "- **OWL :** http://www.w3.org/2002/07/owl#\n",
    "- **Dublin Core :** http://purl.org/dc/elements/1.1/"
   ]
  },
  {
   "cell_type": "markdown",
   "metadata": {},
   "source": [
    "## Un exemple concret"
   ]
  },
  {
   "cell_type": "markdown",
   "metadata": {},
   "source": [
    "```xml\n",
    "<!DOCTYPE html>\n",
    "<html lang=\"fr\" xmlns=\"http://www.w3.org/1999/xhtml\" xmlns:m=\"http://www.w3.org/1998/Math/MathML\">\n",
    "<head>\n",
    "    <meta charset=\"utf-8\" />\n",
    "    <title>Formule de calcul de la vitesse</title>\n",
    "</head>\n",
    "<body>\n",
    "    <h1>Formule de calcul de la vitesse</h1>\n",
    "    <m:math>\n",
    "        <m:mi>v</m:mi>\n",
    "        <m:mo>=</m:mo>\n",
    "        <m:frac>\n",
    "            <m:mi>d</m:mi>\n",
    "            <m:mn>t</m:mn>\n",
    "        </m:frac>\n",
    "    </m:math>\n",
    "</body>\n",
    "</html>\n",
    "```"
   ]
  }
 ],
 "metadata": {
  "kernelspec": {
   "display_name": "Python 3 (ipykernel)",
   "language": "python",
   "name": "python3"
  },
  "language_info": {
   "codemirror_mode": {
    "name": "ipython",
    "version": 3
   },
   "file_extension": ".py",
   "mimetype": "text/x-python",
   "name": "python",
   "nbconvert_exporter": "python",
   "pygments_lexer": "ipython3",
   "version": "3.12.1"
  }
 },
 "nbformat": 4,
 "nbformat_minor": 4
}
