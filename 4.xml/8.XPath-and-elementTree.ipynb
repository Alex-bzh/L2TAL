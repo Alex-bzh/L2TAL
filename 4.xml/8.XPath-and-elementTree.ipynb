{
 "cells": [
  {
   "cell_type": "markdown",
   "metadata": {},
   "source": [
    "# Des requêtes XPath dans le module *elementTree*\n",
    "\n",
    "Le module *elementTree* offre un support limité de la syntaxe XPath pour interagir avec des scripts en Python. Pour une utilisation stricte du langage XPath, le module *libxml2* devra être privilégié."
   ]
  },
  {
   "cell_type": "markdown",
   "metadata": {},
   "source": [
    "## Expressions prises en charge\n",
    "\n",
    "|Syntaxe|Description|\n",
    "|:-:|:-|\n",
    "|`nœud`|Sélectionne tous les enfants de l’élément `nœud`.|\n",
    "|`*`|Joker d’éléments pour sélectionner tous les enfants, incluant les commentaires et les instructions de traitement.|\n",
    "|`.`|Sélectionne le nœud courant. Surtout utile au début d’une expression pour exprimer le fait que l’on trace un chemin relatif.|\n",
    "|`//`|Sélectionne tous les éléments enfants de l’élément courant.|\n",
    "|`..`|Sélectionne le parent d’un élément. Renvoie `None` si la recherche porte sur les ancêtres du nœud racine.|\n",
    "|`[@attrib]`|Sélectionne tous les éléments qui comportent l’attribut renseigné dans le prédicat.|\n",
    "|`[@attrib=\"valeur\"]`|Sélectionne tous les éléments dont l’attribut renseigné dans le prédicat porte la valeur indiquée.|\n",
    "|`[@attrib!=\"valeur\"]`|Sélectionne tous les éléments dont l’attribut renseigné dans le prédicat ne porte pas la valeur indiquée.|\n",
    "|`[nœud]`|Sélectionne les éléments dont l’un des enfants directs a une balise conforme à celle indiquée.|\n",
    "|`[.=\"texte\"]`|Sélectionne tous les éléments dont le contenu textuel complet, y compris les descendants, est égal au texte donné.|\n",
    "|`[.!=\"texte\"]`|Sélectionne tous les éléments dont le contenu textuel complet, y compris les descendants, n’est pas égal au texte donné.|\n",
    "|`[nœud=\"texte\"`]|Sélectionne tous les éléments qui ont un enfant nommé `nœud` dont le contenu textuel complet, y compris les descendants, est égal au texte donné.|\n",
    "|`[nœud!=\"texte\"]`|Sélectionne tous les éléments qui ont un enfant nommé `nœud` dont le contenu textuel complet, y compris les descendants, n’est pas égal au texte donné.|\n",
    "|`[position]`|Sélectionne les éléments situés à la position donnée.|"
   ]
  },
  {
   "cell_type": "markdown",
   "metadata": {},
   "source": [
    "## Exemples\n",
    "\n",
    "Les exemples reposent sur un document XML qui fournit des informations sur quelques constellations du ciel observable.\n",
    "\n",
    "Tout d’abord, il est nécessaire de charger le fichier et de le modéliser avec *elementTree*. Ensuite, la méthode `findall()` acceptant une requête au format XPath, elle permet de réaliser toutes les opérations souhaitées."
   ]
  },
  {
   "cell_type": "code",
   "execution_count": null,
   "metadata": {},
   "outputs": [],
   "source": [
    "import xml.etree.ElementTree as ET\n",
    "\n",
    "tree = ET.parse('./data/constellations.xml')\n",
    "root = tree.getroot()"
   ]
  },
  {
   "cell_type": "markdown",
   "metadata": {},
   "source": [
    "Pour sélectionner le nœud courant :"
   ]
  },
  {
   "cell_type": "code",
   "execution_count": null,
   "metadata": {},
   "outputs": [],
   "source": [
    "for el in root.findall(\".\"):\n",
    "    print(el.tag)"
   ]
  },
  {
   "cell_type": "markdown",
   "metadata": {},
   "source": [
    "Pour sélectionner les petits-enfants d’une certaine étiquette :"
   ]
  },
  {
   "cell_type": "code",
   "execution_count": null,
   "metadata": {},
   "outputs": [],
   "source": [
    "for el in root.findall('./constellation/name'):\n",
    "    print(el.text)"
   ]
  },
  {
   "cell_type": "markdown",
   "metadata": {},
   "source": [
    "Pour sélectionner les nœuds dont l’attribut `origin` vaut `Ptolémée` et qui ont un enfant `areas` :"
   ]
  },
  {
   "cell_type": "code",
   "execution_count": null,
   "metadata": {},
   "outputs": [],
   "source": [
    "for el in root.findall('.//areas/..[@origin=\"Ptolémée\"]'):\n",
    "    print(el.find('name').text)"
   ]
  },
  {
   "cell_type": "markdown",
   "metadata": {},
   "source": [
    "Pour sélectionner tous les nœuds `area` qui sont enfants d’un nœud dont l’attribut `origin` vaut `Lacaille` :"
   ]
  },
  {
   "cell_type": "code",
   "execution_count": null,
   "metadata": {},
   "outputs": [],
   "source": [
    "for el in root.findall('.//*[@origin=\"Lacaille\"]//area'):\n",
    "    print(f\"{el.text} {el.attrib['unit']}\")"
   ]
  },
  {
   "cell_type": "markdown",
   "metadata": {},
   "source": [
    "Tous les nœuds `area` qui sont les deuxièmes enfants de leur parent :"
   ]
  },
  {
   "cell_type": "code",
   "execution_count": null,
   "metadata": {},
   "outputs": [],
   "source": [
    "for el in root.findall('.//area[2]'):\n",
    "    print(f\"{el.text} {el.attrib['unit']}\")"
   ]
  },
  {
   "cell_type": "markdown",
   "metadata": {},
   "source": [
    "## Requête sur un espace de nommage\n",
    "\n",
    "En considérant le fragment de code XML suivant, dont le préfixe `xml` est défini dans l’espace de nommage par défaut `http://www.w3.org/XML/1998/namespace` :"
   ]
  },
  {
   "cell_type": "code",
   "execution_count": null,
   "metadata": {},
   "outputs": [],
   "source": [
    "import xml.etree.ElementTree as ET\n",
    "\n",
    "xml = '''<?xml version=\"1.0\"?>\n",
    "<library>\n",
    "    <title xml:lang=\"fr\">Salammbô</title>\n",
    "    <title xml:lang=\"es\">El Aleph</title>\n",
    "</library>\n",
    "'''\n",
    "\n",
    "root = ET.fromstring(xml)"
   ]
  },
  {
   "cell_type": "markdown",
   "metadata": {},
   "source": [
    "Pour récupérer les titres dont l’attribut `lang` préfixé `xml` vaut `es`, la requête XPath donne :"
   ]
  },
  {
   "cell_type": "code",
   "execution_count": null,
   "metadata": {},
   "outputs": [],
   "source": [
    "for el in root.findall('./title[@{http://www.w3.org/XML/1998/namespace}lang = \"es\"]'):\n",
    "    print(el.text)"
   ]
  },
  {
   "cell_type": "markdown",
   "metadata": {},
   "source": [
    "Dans le cas où plusieurs espaces de nommages sont définis dans un document, il est préférable de les consigner dans un dictionnaire transmis ensuite à la méthode `findall()` :"
   ]
  },
  {
   "cell_type": "code",
   "execution_count": null,
   "metadata": {},
   "outputs": [],
   "source": [
    "ns = {\n",
    "    'xml': 'http://www.w3.org/XML/1998/namespace'\n",
    "}\n",
    "\n",
    "for el in root.findall('./title[@xml:lang = \"es\"]', ns):\n",
    "    print(el.text)"
   ]
  }
 ],
 "metadata": {
  "kernelspec": {
   "display_name": "Python 3 (ipykernel)",
   "language": "python",
   "name": "python3"
  },
  "language_info": {
   "codemirror_mode": {
    "name": "ipython",
    "version": 3
   },
   "file_extension": ".py",
   "mimetype": "text/x-python",
   "name": "python",
   "nbconvert_exporter": "python",
   "pygments_lexer": "ipython3",
   "version": "3.11.8"
  }
 },
 "nbformat": 4,
 "nbformat_minor": 4
}
