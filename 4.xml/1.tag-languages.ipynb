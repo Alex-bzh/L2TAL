{
 "cells": [
  {
   "cell_type": "markdown",
   "metadata": {},
   "source": [
    "# XML et les langages de balisage"
   ]
  },
  {
   "cell_type": "markdown",
   "metadata": {},
   "source": [
    "## Décrire des données"
   ]
  },
  {
   "cell_type": "markdown",
   "metadata": {},
   "source": [
    "### Comment structurer l’information ?"
   ]
  },
  {
   "cell_type": "markdown",
   "metadata": {},
   "source": [
    "> « Et l’on peut me réduire à vivre sans bonheur,  \n",
    "> Mais non pas me résoudre à vivre sans honneur. »\n",
    ">\n",
    ">*Le Cid* de Pierre Corneille (Acte II, scène 1)\n",
    "\n",
    "Point de vue humain :\n",
    "- suite de caractères\n",
    "- structure complexe (mots, phrase, ponctuation)\n",
    "- avec signification\n",
    "\n",
    "Point de vue machine :\n",
    "- suite d’octets (`…0101 00110010 11011110 01100001 100001…`)\n",
    "- structure simple (ponctuation, espaces `=` octets !)\n",
    "- aucune signification"
   ]
  },
  {
   "cell_type": "markdown",
   "metadata": {},
   "source": [
    "### Exemple de l’analyse syntaxique de surface"
   ]
  },
  {
   "cell_type": "markdown",
   "metadata": {},
   "source": [
    "> « Le petit chat est mort. »\n",
    ">\n",
    ">*L’école des femmes* de Molière (Acte II, scène 5)\n",
    "\n",
    "Pour un agent humain, la représentation se fait sous forme de graphe :\n",
    "\n",
    "![Représentation sous forme de graphe](./pics/1-fig1.png)\n",
    "\n",
    "La structure de la phrase est identifiée grâce à de l’information supplémentaire. On obtient une granularité plus fine en recourant à une segmentations en constituants :\n",
    "- *Le petit chat* : syntagme nominal\n",
    "- *est mort* : syntagme verbal\n",
    "- *.* : ponctuation\n",
    "\n",
    "![Segmentation en constituants de la phrase](./pics/1-fig2.png)\n",
    "\n",
    "La phrase est rigoureusement identique mais grâce à de l’annotation, nous disposons de plus d’informations !\n",
    "\n",
    "Le résultat d’une segmentation en unités lexicales associée à un étiquetage morphosyntaxique procure encore davantage d’annotations :\n",
    "- *Le* : déterminant\n",
    "- *petit* : adjectif\n",
    "- *chat* : nom commun\n",
    "- *est* : verbe\n",
    "- *mort* : participe passé employé comme adjectif\n",
    "- *.* : ponctuation\n",
    "\n",
    "![Arbre syntaxique simple](./pics/1-fig3.png)\n",
    "\n",
    "```\n",
    "Ph = SN1 + SV + PONCT\n",
    "SN1 = DET + SN2\n",
    "SN2 = ADJ1 + NC\n",
    "SV = V + ADJ2\n",
    "```\n",
    "]\n",
    "\n",
    "**Remarques :**\n",
    "- phrase identique\n",
    "- volume analyse `>` volume phrase\n",
    "- modélisation sous forme d’arbre"
   ]
  },
  {
   "cell_type": "markdown",
   "metadata": {},
   "source": [
    "### Arguments en faveur de la description de contenus"
   ]
  },
  {
   "cell_type": "markdown",
   "metadata": {},
   "source": [
    "Pourquoi une analyse syntaxique ?\n",
    "- répond au besoin de mettre en évidence la structure d’une phrase\n",
    "- succède à une analyse lexicale\n",
    "- préalable à une analyse sémantique\n",
    "\n",
    "Face à une phrase, on recense des besoins différents :\n",
    "- lire\n",
    "- déclamer\n",
    "- apprendre\n",
    "- comprendre\n",
    "- analyser\n",
    "- …\n",
    "\n",
    "**Observations :**\n",
    "- un agent humain effectue des opérations selon ses besoins\n",
    "- une machine ne fait rien car elle n’a aucun besoin\n",
    "\n",
    "**Questions :**\n",
    "- pourquoi alors utiliser une machine ?\n",
    "- comment traduire ses besoins à une machine ?\n",
    "\n",
    "**Analyse syntaxique** pour décrire la structure d’une phrase :\n",
    "- langage de description\n",
    "- étiquettes (*tags*)\n",
    "- vocabulaire (`SN` `V` `DET` `NC …`)\n",
    "- grammaire (`V ∌ SV`, `NC + DET ≠ SV …` )\n",
    "\n",
    "En informatique, le processus est identique !"
   ]
  },
  {
   "cell_type": "markdown",
   "metadata": {},
   "source": [
    "## Un langage de balisage ?"
   ]
  },
  {
   "cell_type": "markdown",
   "metadata": {},
   "source": [
    "### Représenter la structure de l’information"
   ]
  },
  {
   "cell_type": "markdown",
   "metadata": {},
   "source": [
    "**Objectif :** organiser de façon logique et hiérarchisée un ensemble afin de faciliter l’accès à ses constituants\n",
    "\n",
    "**Problématique :** un fichier étant une suite d’octets, comment en représenter la structure ?\n",
    "\n",
    "**Solution :** utiliser un langage informatique de description\n",
    "- balises (étiquettes de description)\n",
    "- syntaxe (règles d’écriture)\n",
    "- vocabulaire (libellé des étiquettes)\n",
    "- grammaire (agencement des balises)\n",
    "\n",
    "Description de la phrase *Le petit chat est mort* :\n",
    "```xml\n",
    "<!-- Exemple d’une analyse morphosyntaxique -->\n",
    "<Ph>\n",
    "    <SN num=\"1\">\n",
    "        <DET>Le</DET>\n",
    "        <SN num=\"2\">\n",
    "            <ADJ num=\"1\">petit</ADJ>\n",
    "            <NC>chat</NC>\n",
    "        </SN>\n",
    "    </SN>\n",
    "    <SV>\n",
    "        <V>est</V>\n",
    "        <ADJ num=\"2\">mort</ADJ>\n",
    "    </SV>\n",
    "    <PONCT>.</PONCT>\n",
    "</Ph>\n",
    "```\n",
    "- balises pour étiqueter un segment : `<NC>chat</NC>`\n",
    "- syntaxe : `<NC>` et non pas `?NC++`\n",
    "- vocabulaire : `NC ≠ Ceci est un nom commun`\n",
    "- grammaire : `NC ≠ V`"
   ]
  },
  {
   "cell_type": "markdown",
   "metadata": {},
   "source": [
    "### Le langage XML"
   ]
  },
  {
   "cell_type": "markdown",
   "metadata": {},
   "source": [
    "**XML :** *Extensible Markup Language*\n",
    "\n",
    "Aujourd’hui [norme du W3C](https://www.w3.org/TR/REC-xml/) et plus qu’un langage, XML est en réalité un méta-langage qui permet de créer des langages de description :\n",
    "- formats personnalisés\n",
    "- formats normalisés (SVG, MathML…)\n",
    "- formats consensuels (TEI, TMX…)\n",
    "\n",
    "Plus souple que son prédécesseur SGML grâce à ses balises et attributs personnalisables et à la mutliplicité de ses exploitations possibles, il présente également dans sa syntaxe une rigidité opportune qui en fait le candidat idéal pour conserver ou échanger des données, contrairement au HTML dont la permissivité ne peut garantir leur intégrité.\n",
    "\n",
    "Il repose sur une syntaxe stricte qui met en œuvre des *balises*, sortes de dispositifs de signalisation autour d’un segment dont l’étiquette respecte un format défini ou personnalisé.\n",
    "\n",
    "```xml\n",
    "<!-- Format personnalisé -->\n",
    "<Ph>Le petit chat est mort.</Ph>\n",
    "<!-- Format HTML -->\n",
    "<p>Le petit chat est mort.</p>\n",
    "<!-- Format TEI -->\n",
    "<sp>\n",
    "\t<l>Le petit chat est mort.</l>\n",
    "</sp>\n",
    "```\n",
    "\n",
    "Formats HTML et TEI font référence à des grammaires :\n",
    "- norme W3C pour HTML\n",
    "- directives consortium TEI pour TEI\n",
    "\n",
    "Si l’on opte pour des directives personnalisées comme dans le premier exemple, il conviendra alors de définir la grammaire pour le décrire."
   ]
  },
  {
   "cell_type": "markdown",
   "metadata": {},
   "source": [
    "## La galaxie XML"
   ]
  },
  {
   "cell_type": "markdown",
   "metadata": {},
   "source": [
    "Il existe une masse de technologies autour de XML, qui elles-mêmes sont écrites en XML ou non. Elles servent des objectifs variés :\n",
    "- échanger\n",
    "- sauvegarder\n",
    "- formater\n",
    "- décrire\n",
    "- extraire\n",
    "- …\n",
    "\n",
    "![La galaxie XML](./pics/1-fig4.png)\n",
    "\n",
    "- **Parseur :** analyse syntaxique et modélisation du document XML\n",
    "- **Grammaire :** règles de composition d’un document XML\n",
    "- **Requête :** sélection et transformation de fragments XML\n",
    "- **Liens :** lier des fragments entre eux\n",
    "- **Porteurs :** protocoles pour l’échange de données XML\n",
    "- **Langages descriptifs :** formats de données pour applications spécifiques\n",
    "- **Métadonnées :** décrire des langages descriptifs"
   ]
  }
 ],
 "metadata": {
  "kernelspec": {
   "display_name": "Python 3 (ipykernel)",
   "language": "python",
   "name": "python3"
  },
  "language_info": {
   "codemirror_mode": {
    "name": "ipython",
    "version": 3
   },
   "file_extension": ".py",
   "mimetype": "text/x-python",
   "name": "python",
   "nbconvert_exporter": "python",
   "pygments_lexer": "ipython3",
   "version": "3.12.1"
  }
 },
 "nbformat": 4,
 "nbformat_minor": 4
}
