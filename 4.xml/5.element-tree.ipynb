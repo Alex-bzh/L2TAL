{
 "cells": [
  {
   "cell_type": "markdown",
   "metadata": {},
   "source": [
    "# Découverte de l’API XML *ElementTree*"
   ]
  },
  {
   "cell_type": "markdown",
   "metadata": {},
   "source": [
    "L’API *ElementTree* analyse tout document XML comme un document structuré afin de le représenter sous forme d’arbre. Elle procure également des méthodes pour en manipuler les nœuds (création, modification, suppression).\n",
    "\n",
    "Elle se charge en important le module `xml.etree.ElementTree` :"
   ]
  },
  {
   "cell_type": "code",
   "execution_count": null,
   "metadata": {},
   "outputs": [],
   "source": [
    "import xml.etree.ElementTree as ET"
   ]
  },
  {
   "cell_type": "markdown",
   "metadata": {},
   "source": [
    "## Analyser du code XML"
   ]
  },
  {
   "cell_type": "markdown",
   "metadata": {},
   "source": [
    "Une méthode `.parse()` qui prend en argument le chemin vers un fichier XML permet d’en modéliser la structure. Généralement, la première opération qui suit consiste à récupérer l’élément racine du document afin de s’en servir comme point de référence :"
   ]
  },
  {
   "cell_type": "code",
   "execution_count": null,
   "metadata": {},
   "outputs": [],
   "source": [
    "tree = ET.parse('./data/constellations.xml')\n",
    "root = tree.getroot()"
   ]
  },
  {
   "cell_type": "markdown",
   "metadata": {},
   "source": [
    "Comme tout élément XML, la racine dispose d’une étiquette ainsi que d’un dictionnaire pour recenser ses attributs. Et si l’élément accueille du contenu textuel, la propriété `text` permettrait de l’afficher."
   ]
  },
  {
   "cell_type": "code",
   "execution_count": null,
   "metadata": {},
   "outputs": [],
   "source": [
    "print(root.tag)\n",
    "print(root.text)\n",
    "print(root.attrib)"
   ]
  },
  {
   "cell_type": "markdown",
   "metadata": {},
   "source": [
    "Un élément pouvant accueillir des éléments enfants avec leurs propres attributs, il est possible d’itérer dessus :"
   ]
  },
  {
   "cell_type": "code",
   "execution_count": null,
   "metadata": {},
   "outputs": [],
   "source": [
    "for child in root:\n",
    "    print(child.tag, child.attrib)"
   ]
  },
  {
   "cell_type": "markdown",
   "metadata": {},
   "source": [
    "## Rechercher des éléments"
   ]
  },
  {
   "cell_type": "markdown",
   "metadata": {},
   "source": [
    "L’API met à disposition deux méthodes pour rechercher des éléments à l’intérieur de la structure. La première, `.iter()`, parcourt tout l’arbre à la recherche de la correspondance."
   ]
  },
  {
   "cell_type": "code",
   "execution_count": null,
   "metadata": {},
   "outputs": [],
   "source": [
    "# from root, looking for every area tag\n",
    "for area in root.iter('area'):\n",
    "    print(area.text, area.attrib['unit'])"
   ]
  },
  {
   "cell_type": "markdown",
   "metadata": {},
   "source": [
    "La seconde méthode, `.findall()`, s’arrête quant à elle aux enfants directs. Citons également la méthode `.find()` qui recherche la première correspondance d’un élément, et la méthode `.get()` qui permet d’accéder à un attribut spécifié en argument."
   ]
  },
  {
   "cell_type": "code",
   "execution_count": null,
   "metadata": {},
   "outputs": [],
   "source": [
    "# for each child of root\n",
    "for child in root.findall('constellation'):\n",
    "    name = child.find('name')\n",
    "    name_fr = name.get('fr')\n",
    "    print(f\"{name.text} ({name_fr})\")"
   ]
  },
  {
   "cell_type": "markdown",
   "metadata": {},
   "source": [
    "## Créer des éléments et des sous-éléments"
   ]
  },
  {
   "cell_type": "markdown",
   "metadata": {},
   "source": [
    "Les fonctions `Element()` et `SubElement()` figurent la meilleure façon de créer rapidement une arborescence XML. La première prend comme argument une étiquette ; la seconde prend comme premier argument l’élément auquel elle se rattache et en second argument une étiquette. Elles acceptent toutes deux un dictionnaire pour les attributs à définir.\n",
    "\n",
    "Enfin, la méthode `.write()` permet de sérialiser l’arborescence dans un document XML."
   ]
  },
  {
   "cell_type": "code",
   "execution_count": null,
   "metadata": {},
   "outputs": [],
   "source": [
    "# open new file\n",
    "with open('./data/planets.xml', 'wb') as xmlfile:\n",
    "\n",
    "    # root element to tree structure\n",
    "    root = ET.Element('planets')\n",
    "    tree = ET.ElementTree(root)\n",
    "\n",
    "    # sub elements, childs of root\n",
    "    earth = ET.SubElement(root, 'planet', {'name': 'Earth'})\n",
    "    mars = ET.SubElement(root, 'planet', {'name': 'Mars'})\n",
    "\n",
    "    # sub elements under each 'planet'\n",
    "    earth_surface = ET.SubElement(earth, 'surface', {'unit': 'km2'})\n",
    "    mars_surface = ET.SubElement(mars, 'surface', {'unit': 'km2'})\n",
    "\n",
    "    # textual content\n",
    "    earth_surface.text = '510067420'\n",
    "    mars_surface.text = '144798500'\n",
    "\n",
    "    # serialize tree in file\n",
    "    tree.write(xmlfile)"
   ]
  },
  {
   "cell_type": "markdown",
   "metadata": {},
   "source": [
    "## Modifier des éléments"
   ]
  },
  {
   "cell_type": "markdown",
   "metadata": {},
   "source": [
    "Les opérations essentielles de modification d’un élément sont assurées par les méthodes suivantes :\n",
    "- `.set()` pour agir sur les attributs\n",
    "- `.append()` pour ajouter un élément fils\n",
    "- `.remove()` pour supprimer un élément fils\n",
    "\n",
    "Pour remplacer le contenu textuel d’un élément, il suffit de remplacer le contenu de la propriété `text`. Et pour supprimer un attribut, utiliser l’instruction `del`."
   ]
  },
  {
   "cell_type": "code",
   "execution_count": null,
   "metadata": {},
   "outputs": [],
   "source": [
    "tree = ET.parse('./data/constellations.xml')\n",
    "root = tree.getroot()\n",
    "\n",
    "for idx, child in enumerate(root.findall('constellation')):\n",
    "\n",
    "    # add an 'id' attribute\n",
    "    child.set('id', str(idx + 1))\n",
    "\n",
    "    # element '<name/>'\n",
    "    name = child.find('name')\n",
    "\n",
    "    # <name_fr/>\n",
    "    name_fr = ET.Element('name_fr')\n",
    "    name_fr.text = name.get('fr')\n",
    "    child.append(name_fr)\n",
    "\n",
    "    # attrib 'fr' useless\n",
    "    del name.attrib['fr']\n",
    "\n",
    "tree.write('./data/constellations_new.xml')"
   ]
  },
  {
   "cell_type": "markdown",
   "metadata": {},
   "source": [
    "## Considérations sur l’indentation du code XML"
   ]
  },
  {
   "cell_type": "markdown",
   "metadata": {},
   "source": [
    "Les espaces entre les éléments n’ont aucune utilité pour une machine, elle servent uniquement pour le confort visuel. Le code ci-dessous, correctement indenté, est parfaitement agréable à la vue :\n",
    "\n",
    "```xml\n",
    "<constellation origin=\"Lacaille\">\n",
    "    <name fr=\"La Carène\">Carina</name>\n",
    "    <areas>\n",
    "        <area unit=\"deg2\">494.184</area>\n",
    "        <area unit=\"percent\">1.20</area>\n",
    "    </areas>\n",
    "</constellation>\n",
    "```\n",
    "\n",
    "Pour une machine, il a en fait exactement la même signification que le code ci-dessous :\n",
    "\n",
    "```xml\n",
    "<constellation origin=\"Lacaille\"><name fr=\"La Carène\">Carina</name><areas><area unit=\"deg2\">494.184</area><area unit=\"percent\">1.20</area></areas></constellation>\n",
    "```\n",
    "\n",
    "Le module *ElementTree* ne se charge pas d’écrire un code parfaitement indenté. Deux solutions existent :\n",
    "- soit rajouter manuellement des retours à la ligne (`\\n`) et des tabulations (`\\t`) au moment de l’écriture ;\n",
    "- soit utiliser à la lecture un module qui réalise ce travail.\n",
    "\n",
    "Le module `minidom` propose deux méthodes adéquates pour formater correctement un arbre XML. La première, `.parseString()` analyse une chaîne XML ; la seconde, `.parse()` prend comme argument un chemin vers un fichier. Pour voir le rendu, il faut invoquer la méthode `.toprettyxml()` :"
   ]
  },
  {
   "cell_type": "code",
   "execution_count": null,
   "metadata": {},
   "outputs": [],
   "source": [
    "import xml.dom.minidom\n",
    "\n",
    "xml_string = '<constellation origin=\"Lacaille\"><name fr=\"La Carène\">Carina</name><areas><area unit=\"deg2\">494.184</area><area unit=\"percent\">1.20</area></areas></constellation>'\n",
    "\n",
    "dom = xml.dom.minidom.parseString(xml_string)\n",
    "print(dom.toprettyxml())"
   ]
  }
 ],
 "metadata": {
  "kernelspec": {
   "display_name": "Python 3 (ipykernel)",
   "language": "python",
   "name": "python3"
  },
  "language_info": {
   "codemirror_mode": {
    "name": "ipython",
    "version": 3
   },
   "file_extension": ".py",
   "mimetype": "text/x-python",
   "name": "python",
   "nbconvert_exporter": "python",
   "pygments_lexer": "ipython3",
   "version": "3.11.8"
  }
 },
 "nbformat": 4,
 "nbformat_minor": 4
}
