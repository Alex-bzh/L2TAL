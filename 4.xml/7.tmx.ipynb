{
 "cells": [
  {
   "cell_type": "markdown",
   "metadata": {},
   "source": [
    "# Construire des mémoires de traduction"
   ]
  },
  {
   "cell_type": "markdown",
   "metadata": {},
   "source": [
    "## Le format TMX"
   ]
  },
  {
   "cell_type": "markdown",
   "metadata": {},
   "source": [
    "**TMX :** *Translation Memory eXchange*\n",
    "\n",
    "Il s’agit d’un format de fichiers basé sur XML pour la traduction en plusieurs langues :\n",
    "- développé par LISA (*Localization Industry Standards Association*), insolvable en 2011 puis versé dans les *Creative Commons*\n",
    "- repris en 2014 par [GALA](https://www.gala-global.org/knowledge-center/industry-development/standards/lisa-oscar-standards) (*Globalization & Localization Association*)\n",
    "- largement utilisé pour constituer des corpus parallèles\n",
    "- technologie de l’architecture ouverte pour la création et la localisation (OAXAL)\n",
    "\n",
    "**Avantages :**\n",
    "- vocabulaire réduit\n",
    "- données humainement lisibles\n",
    "- détection aisée de traductions manquantes\n",
    "\n",
    "Quelques exemples de corpus parallèles au format TMX :\n",
    "- *Europarl*\n",
    "- *OpenSubtitles*\n",
    "- *Wikipedia*\n",
    "- …"
   ]
  },
  {
   "cell_type": "markdown",
   "metadata": {},
   "source": [
    "## Aspects techniques"
   ]
  },
  {
   "cell_type": "markdown",
   "metadata": {},
   "source": [
    "**Version 1.4b :** <https://www.gala-global.org/tmx-14b>\n",
    "\n",
    "**DTD :** <https://www.gala-global.org/sites/default/files/migrated-pages/docs/tmx14%20%281%29.dtd>\n",
    "\n",
    "**Encodage :**\n",
    "- format Unicode seul : UTF-8, UTF-16 ou ISO-646 (US-ASCII)\n",
    "- 5 références d’entités `&amp;` `&lt;` `&gt;` `&apos;` `&quot;`\n",
    "- représentation numérique pour les caractères non-ASCII : `#230` `#167` …"
   ]
  },
  {
   "cell_type": "markdown",
   "metadata": {},
   "source": [
    "### Éléments"
   ]
  },
  {
   "cell_type": "markdown",
   "metadata": {},
   "source": [
    "**Racine :** `<tmx>`\n",
    "\n",
    "**Éléments structurels :**  \n",
    "`<body>` `<header>` `<map/>` `<note>` `<prop>` `<seg>` `<tmx>` `<tu>` `<tuv>` `<ude>`\n",
    "\n",
    "**Éléments en ligne :**  \n",
    "`<bpt>` `<ept>` `<hi>` `<it>` `<ph>` `<sub>` `<ut>`\n",
    "\n",
    "**Structure minimale :**\n",
    "```xml\n",
    "<tmx version=\"1.4\">\n",
    "\t<header\n",
    "\t\tcreationtool=\"\"\n",
    "\t\tcreationtoolversion=\"\"\n",
    "\t\tsegtype=\"\"\n",
    "\t\to-tmf=\"\"\n",
    "\t\tadminlang=\"\"\n",
    "\t\tsrclang=\"\"\n",
    "\t\tdatatype=\"\">\n",
    "\t</header>\n",
    "\t<body/>\n",
    "</tmx>\n",
    "```"
   ]
  },
  {
   "cell_type": "markdown",
   "metadata": {},
   "source": [
    "### Attributs notables"
   ]
  },
  {
   "cell_type": "markdown",
   "metadata": {},
   "source": [
    "| Attribut | Description | Valeur\n",
    "|:-:|:-|:-:|\n",
    "|`creationdate`|Date de création de l’élément|Format ISO 8601 : `YYYYMMDDThhmmssZ`|\n",
    "|`creationid`|Identifiant de l’auteur responsable de la création de l’élément|Chaîne de caractères|\n",
    "|`changedate`|Date de la dernière modification de l’élément|Format ISO 8601 : `YYYYMMDDThhmmssZ`|\n",
    "|`changeid`|Identifiant de l’auteur responsable de la dernière modification de l’élément|Chaîne de caractères|\n",
    "|`tuid`|Identifiant pour un élément `tu`|Chaîne de caractères|\n",
    "|`o-encoding`|Encodage de l’original|Chaîne de caractères|"
   ]
  },
  {
   "cell_type": "markdown",
   "metadata": {},
   "source": [
    "## Mécanique"
   ]
  },
  {
   "cell_type": "markdown",
   "metadata": {},
   "source": [
    "L’élément `<tu>` (*Translation Unit*) est au centre de TMX. C’est lui qui documente le terme et ses différentes traductions au sein d’éléments enfants `<tuv>` (*Translation Unit Variant*).\n",
    "\n",
    "Une variante est éventuellement composée de notes `<note>`, de propriétés `<prop>`, et obligatoirement du segment traduit `<seg>`\n",
    "\n",
    "```xml\n",
    "<tu>\n",
    "\t<tuv xml:lang=\"en\">\n",
    "\t\t<seg>Hello World!</seg>\n",
    "\t</tuv>\n",
    "\t<tuv xml:lang=\"fr\">\n",
    "\t\t<seg>Bonjour monde !</seg>\n",
    "\t\t<note>To improve! Does not seem accurate.</note>\n",
    "\t</tuv>\n",
    "</tu>\n",
    "```"
   ]
  },
  {
   "cell_type": "markdown",
   "metadata": {},
   "source": [
    "## Exemple d’encodage d’un haïku de Matsuo Bashō"
   ]
  },
  {
   "cell_type": "markdown",
   "metadata": {},
   "source": [
    "### Les différentes versions"
   ]
  },
  {
   "cell_type": "markdown",
   "metadata": {},
   "source": [
    "#### Japonais"
   ]
  },
  {
   "cell_type": "markdown",
   "metadata": {},
   "source": [
    ">古池や  \n",
    ">蛙飛込む  \n",
    ">水の音"
   ]
  },
  {
   "cell_type": "markdown",
   "metadata": {},
   "source": [
    "#### Japonais (transcription alphabétique)"
   ]
  },
  {
   "cell_type": "markdown",
   "metadata": {},
   "source": [
    ">furuike ya  \n",
    ">kawazu tobikomu  \n",
    ">mizu no oto"
   ]
  },
  {
   "cell_type": "markdown",
   "metadata": {},
   "source": [
    "#### Français"
   ]
  },
  {
   "cell_type": "markdown",
   "metadata": {},
   "source": [
    ">Un vieil étang et  \n",
    ">Une grenouille qui plonge  \n",
    ">Le bruit de l'eau"
   ]
  },
  {
   "cell_type": "markdown",
   "metadata": {},
   "source": [
    "#### Anglais"
   ]
  },
  {
   "cell_type": "markdown",
   "metadata": {},
   "source": [
    ">Old pond  \n",
    ">A frog leaps in  \n",
    ">Water's sound"
   ]
  },
  {
   "cell_type": "markdown",
   "metadata": {},
   "source": [
    "### L’élaboration du document"
   ]
  },
  {
   "cell_type": "markdown",
   "metadata": {},
   "source": [
    "#### 1e étape : construire la structure au format TMX"
   ]
  },
  {
   "cell_type": "markdown",
   "metadata": {},
   "source": [
    "À noter que l’encodage des différentes versions des vers sera intégrée à l’intérieur de l’élément `body`.\n",
    "\n",
    "```xml\n",
    "<tmx version=\"1.4\">\n",
    "\t<header\n",
    "\t\tcreationtool=\"Sublime Text\"\n",
    "\t\tcreationtoolversion=\"3\"\n",
    "\t\tsegtype=\"phrase\"\n",
    "\t\to-tmf=\"undefined\"\n",
    "\t\tadminlang=\"fr\"\n",
    "\t\tsrclang=\"ja\"\n",
    "\t\tdatatype=\"plaintext\">\n",
    "\t</header>\n",
    "\t<body/>\n",
    "</tmx>\n",
    "```"
   ]
  },
  {
   "cell_type": "markdown",
   "metadata": {},
   "source": [
    "#### 2e étape : encoder le premier vers"
   ]
  },
  {
   "cell_type": "markdown",
   "metadata": {},
   "source": [
    "```xml\n",
    "<tu>\n",
    "    <tuv xml:lang=\"ja\">\n",
    "        <seg>古池や</seg>\n",
    "\t</tuv>\n",
    "\t<tuv xml:lang=\"ja-Latn\">\n",
    "\t\t<seg>furuike ya</seg>\n",
    "\t</tuv>\n",
    "\t<tuv xml:lang=\"fr\">\n",
    "\t\t<seg>Un vieil étang et</seg>\n",
    "\t</tuv>\n",
    "\t<tuv xml:lang=\"en\">\n",
    "\t\t<seg>Old pond</seg>\n",
    "\t</tuv>\n",
    "</tu>\n",
    "```"
   ]
  },
  {
   "cell_type": "markdown",
   "metadata": {},
   "source": [
    "#### 3e étape : encoder le second vers"
   ]
  },
  {
   "cell_type": "markdown",
   "metadata": {},
   "source": [
    "```xml\n",
    "<tu>\n",
    "\t<tuv xml:lang=\"ja\">\n",
    "\t\t<seg>蛙飛込む</seg>\n",
    "\t</tuv>\n",
    "\t<tuv xml:lang=\"ja-Latn\">\n",
    "\t\t<seg>kawazu tobikomu</seg>\n",
    "\t</tuv>\n",
    "\t<tuv xml:lang=\"fr\">\n",
    "\t\t<seg>Une grenouille qui plonge</seg>\n",
    "\t</tuv>\n",
    "\t<tuv xml:lang=\"en\">\n",
    "\t\t<seg>A frog leaps in</seg>\n",
    "\t</tuv>\n",
    "</tu>\n",
    "```"
   ]
  },
  {
   "cell_type": "markdown",
   "metadata": {},
   "source": [
    "#### 4e étape : encoder le troisième vers"
   ]
  },
  {
   "cell_type": "markdown",
   "metadata": {},
   "source": [
    "```xml\n",
    "<tu>\n",
    "\t<tuv xml:lang=\"ja\">\n",
    "\t\t<seg>水の音</seg>\n",
    "\t</tuv>\n",
    "\t<tuv xml:lang=\"ja-Latn\">\n",
    "\t\t<seg>mizu no oto</seg>\n",
    "\t</tuv>\n",
    "\t<tuv xml:lang=\"fr\">\n",
    "\t\t<seg>Le bruit de l’eau</seg>\n",
    "\t</tuv>\n",
    "\t<tuv xml:lang=\"en\">\n",
    "\t\t<seg>Water's sound</seg>\n",
    "\t</tuv>\n",
    "</tu>\n",
    "```"
   ]
  },
  {
   "cell_type": "markdown",
   "metadata": {},
   "source": [
    "## Présentation de quelques corpus au format TMX"
   ]
  },
  {
   "cell_type": "markdown",
   "metadata": {},
   "source": [
    "### *Europarl*"
   ]
  },
  {
   "cell_type": "markdown",
   "metadata": {},
   "source": [
    "*Europarl* est un corpus parallélisé issu des sessions de travail du Parlement européen entre 1996 et 2011. Il intègre, dans sa v7, des versions dans 21 langues européennes et se destine plutôt à être utilisé par des outils automatiques (TAL, statistiques…).\n",
    "\n",
    "```xml\n",
    "<tmx version=\"1.4\">\n",
    "    <header adminlang=\"en\"\n",
    "            creationdate=\"Mon Jan 16 10:29:40 2017\"\n",
    "            creationtool=\"Uplug\"\n",
    "            creationtoolversion=\"unknown\"\n",
    "            datatype=\"PlainText\"\n",
    "            o-tmf=\"unknown\"\n",
    "            segtype=\"sentence\"\n",
    "            srclang=\"en\"/>\n",
    "    <body>\n",
    "        <tu>\n",
    "            <tuv xml:lang=\"fr\">\n",
    "                <seg>Reprise de la session </seg>\n",
    "            </tuv>\n",
    "            <tuv xml:lang=\"en\">\n",
    "                <seg>Resumption of the session </seg>\n",
    "            </tuv>\n",
    "        </tu>\n",
    "        <tu>\n",
    "            <tuv xml:lang=\"fr\">\n",
    "                <seg>Je d&#233;clare reprise la session du Parlement europ&#233;en qui avait\n",
    "                    &#233;t&#233; interrompue le vendredi 17 d&#233;cembre dernier et je vous\n",
    "                    renouvelle tous mes vux en esp&#233;rant que vous avez pass&#233; de bonnes\n",
    "                    vacances.</seg>\n",
    "            </tuv>\n",
    "            <tuv xml:lang=\"en\">\n",
    "                <seg>I declare resumed the session of the European Parliament adjourned on Friday 17\n",
    "                    December 1999, and I would like once again to wish you a happy new year in the\n",
    "                    hope that you enjoyed a pleasant festive period.</seg>\n",
    "            </tuv>\n",
    "        </tu>\n",
    "        …\n",
    "    </body>\n",
    "</tmx>\n",
    "```"
   ]
  },
  {
   "cell_type": "markdown",
   "metadata": {},
   "source": [
    "### DGT-TM"
   ]
  },
  {
   "cell_type": "markdown",
   "metadata": {},
   "source": [
    "Mémoires de traduction dans les 22 langues officielles de la Commission Européenne : <http://data.europa.eu/euodp/en/data/dataset/dgt-translation-memory>\n",
    "\n",
    "```xml\n",
    "<tu>\n",
    "\t<prop type=\"Txt::Doc. No.\">52014BP1121(01)</prop>\n",
    "\t<tuv lang=\"EN-GB\">\n",
    "\t\t<seg>Resolution of the European Parliament</seg>\n",
    "\t</tuv>\n",
    "\t<tuv lang=\"DE-DE\">\n",
    "\t\t<seg>Entschließung des Europäischen Parlaments</seg>\n",
    "\t</tuv>\n",
    "\t<tuv lang=\"DA-01\">\n",
    "\t\t<seg>Europa-Parlamentets beslutning</seg>\n",
    "\t</tuv>\n",
    "\t<tuv lang=\"EL-01\">\n",
    "\t\t<seg>Ψήφισμα του Ευρωπαϊκού Κοινοβουλίου</seg>\n",
    "\t</tuv>\n",
    "\t<tuv lang=\"ES-ES\">\n",
    "\t\t<seg>Resolución del Parlamento Europeo</seg>\n",
    "\t</tuv>\n",
    "\t…\n",
    "</tu>\n",
    "```"
   ]
  },
  {
   "cell_type": "markdown",
   "metadata": {},
   "source": [
    "### Tanaka Corpus"
   ]
  },
  {
   "cell_type": "markdown",
   "metadata": {},
   "source": [
    "Corpus aligné de 150 000 entrées japonais-anglais :  \n",
    "<http://edrdg.org/wiki/index.php/Tanaka_Corpus>\n",
    "\n",
    "```xml\n",
    "<tu tuid=\"1\" srclang=\"JA\">\n",
    "\t<tuv xml:lang=\"JA\">\n",
    "\t\t<seg>すぐに戻ります。</seg>\n",
    "\t</tuv>\n",
    "\t<tuv xml:lang=\"EN\">\n",
    "\t\t<seg>I'll be back in a second.</seg>\n",
    "\t</tuv>\n",
    "</tu>\n",
    "<tu tuid=\"3\" srclang=\"JA\">\n",
    "\t<tuv xml:lang=\"JA\">\n",
    "\t\t<seg>すぐに戻ります。</seg>\n",
    "\t</tuv>\n",
    "\t<tuv xml:lang=\"EN\">\n",
    "\t\t<seg>I will be back soon.</seg>\n",
    "\t</tuv>\n",
    "</tu>\n",
    "<tu tuid=\"5\" srclang=\"JA\">\n",
    "\t<tuv xml:lang=\"JA\">\n",
    "\t\t<seg>すぐに諦めて昼寝をするかも知れない。</seg>\n",
    "\t</tuv>\n",
    "\t<tuv xml:lang=\"EN\">\n",
    "\t\t<seg>I may give up soon and just nap instead.</seg>\n",
    "\t</tuv>\n",
    "</tu>\n",
    "```"
   ]
  }
 ],
 "metadata": {
  "kernelspec": {
   "display_name": "Python 3 (ipykernel)",
   "language": "python",
   "name": "python3"
  },
  "language_info": {
   "codemirror_mode": {
    "name": "ipython",
    "version": 3
   },
   "file_extension": ".py",
   "mimetype": "text/x-python",
   "name": "python",
   "nbconvert_exporter": "python",
   "pygments_lexer": "ipython3",
   "version": "3.12.1"
  }
 },
 "nbformat": 4,
 "nbformat_minor": 4
}
