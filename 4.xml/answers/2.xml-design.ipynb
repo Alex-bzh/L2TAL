{
 "cells": [
  {
   "cell_type": "markdown",
   "metadata": {},
   "source": [
    "# Design XML"
   ]
  },
  {
   "cell_type": "markdown",
   "metadata": {},
   "source": [
    "La version XML de cet extrait de base de données utilise le modèle par éléments. Convertissez-la selon le modèle par attributs.\n",
    "\n",
    "```xml\n",
    "<?xml version=\"1.0\" encoding=\"UTF-8\"?>\n",
    "<bibliotheque>\n",
    "    <livre>\n",
    "        <titre>Le Cid</titre>\n",
    "        <date>1637</date>\n",
    "        <auteur>\n",
    "            <nom>Corneille</nom>\n",
    "            <prenom>Pierre</prenom>\n",
    "            <naissance>1606</naissance>\n",
    "        </auteur>\n",
    "    </livre>\n",
    "    <livre>\n",
    "        <titre>Les travailleurs de la mer</titre>\n",
    "        <date>1866</date>\n",
    "        <auteur>\n",
    "            <nom>Hugo</nom>\n",
    "            <prenom>Victor</prenom>\n",
    "            <naissance>1802</naissance>\n",
    "        </auteur>\n",
    "    </livre>\n",
    "</bibliotheque>\n",
    "```"
   ]
  },
  {
   "cell_type": "markdown",
   "metadata": {},
   "source": [
    "```xml\n",
    "<!-- your code here -->\n",
    "<bibliotheque>\n",
    "    <livre titre=\"Le Cid\" date=\"1637\" auteur_nom=\"Corneille\" auteur_prenom=\"Pierre\" auteur_naissance=\"1606\"/>\n",
    "    <livre titre=\"Les travailleurs de la mer\" date=\"1866\" auteur_nom=\"Hugo\" auteur_prenom=\"Victor\" auteur_naissance=\"1802\"/>\n",
    "</bibliotheque>\n",
    "```"
   ]
  }
 ],
 "metadata": {
  "kernelspec": {
   "display_name": "Python 3 (ipykernel)",
   "language": "python",
   "name": "python3"
  },
  "language_info": {
   "codemirror_mode": {
    "name": "ipython",
    "version": 3
   },
   "file_extension": ".py",
   "mimetype": "text/x-python",
   "name": "python",
   "nbconvert_exporter": "python",
   "pygments_lexer": "ipython3",
   "version": "3.12.1"
  }
 },
 "nbformat": 4,
 "nbformat_minor": 4
}
