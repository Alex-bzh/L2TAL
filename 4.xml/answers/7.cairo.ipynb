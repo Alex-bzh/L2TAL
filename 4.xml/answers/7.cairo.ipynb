{
 "cells": [
  {
   "cell_type": "markdown",
   "metadata": {},
   "source": [
    "# Un discours mémorable"
   ]
  },
  {
   "cell_type": "markdown",
   "metadata": {},
   "source": [
    "Vous disposez d’une version trilingue anglais-français-espagnol au format TSV (*tabulated-separated values*) du discours de Barack Obama prononcé le 4 juin 2009 devant l’université du Caire, et souhaitez la transformer en un fichier au format TMX.\n",
    "\n",
    "Chargez tout d’abord les lignes du fichier dans une variable `rows` :"
   ]
  },
  {
   "cell_type": "code",
   "execution_count": null,
   "metadata": {},
   "outputs": [],
   "source": [
    "import csv\n",
    "\n",
    "with open('../data/obama-cairo.tsv') as csvfile:\n",
    "    fieldnames = ['en', 'fr', 'es']\n",
    "    reader = csv.DictReader(csvfile, delimiter='\\t', fieldnames=fieldnames)\n",
    "    \n",
    "    rows = [row for row in reader]"
   ]
  },
  {
   "cell_type": "markdown",
   "metadata": {},
   "source": [
    "Concevez à présent votre programme, sans oublier de déclarer la [DTD du format TMX](../files/tmx.dtd), présente également dans le répertoire *files* :"
   ]
  },
  {
   "cell_type": "code",
   "execution_count": null,
   "metadata": {},
   "outputs": [],
   "source": [
    "# your code here\n",
    "\n",
    "# XML module\n",
    "import xml.etree.ElementTree as ET\n",
    "\n",
    "# open new file\n",
    "with open('../data/obama-cairo.tmx', 'wb') as xmlfile:\n",
    "    \n",
    "    # prologue\n",
    "    xmlfile.write(b'<?xml version=\"1.0\"?>\\n')\n",
    "    \n",
    "    # DTD\n",
    "    xmlfile.write(b'<!DOCTYPE tmx SYSTEM \"./tmx.dtd\">\\n')\n",
    "\n",
    "    # root element to tree structure\n",
    "    root = ET.Element('tmx', {'version': '1.4'})\n",
    "    tree = ET.ElementTree(root)\n",
    "    \n",
    "    # header\n",
    "    header = ET.SubElement(root, 'header', {\n",
    "        'creationtool': 'python',\n",
    "        'creationtoolversion': '3.7',\n",
    "        'segtype': 'block',\n",
    "        'o-tmf': 'undefined',\n",
    "        'adminlang': 'fr',\n",
    "        'srclang': 'en',\n",
    "        'datatype': 'text/plain',\n",
    "    })\n",
    "    \n",
    "    # body\n",
    "    body = ET.SubElement(root, 'body')\n",
    "    \n",
    "    for row in rows:\n",
    "        # tu\n",
    "        tu = ET.SubElement(body, 'tu')\n",
    "        for lang, content in row.items():\n",
    "            # tuv and seg\n",
    "            tuv = ET.SubElement(tu, 'tuv', { 'xml:lang': lang })\n",
    "            seg = ET.SubElement(tuv, 'seg')\n",
    "            seg.text = content\n",
    "\n",
    "    # serialize tree in file\n",
    "    tree.write(xmlfile)"
   ]
  }
 ],
 "metadata": {
  "kernelspec": {
   "display_name": "Python 3 (ipykernel)",
   "language": "python",
   "name": "python3"
  },
  "language_info": {
   "codemirror_mode": {
    "name": "ipython",
    "version": 3
   },
   "file_extension": ".py",
   "mimetype": "text/x-python",
   "name": "python",
   "nbconvert_exporter": "python",
   "pygments_lexer": "ipython3",
   "version": "3.12.1"
  }
 },
 "nbformat": 4,
 "nbformat_minor": 4
}
