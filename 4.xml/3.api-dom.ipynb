{
 "cells": [
  {
   "cell_type": "markdown",
   "metadata": {},
   "source": [
    "# L’API DOM pour XML, ou comment représenter l’arbre XML"
   ]
  },
  {
   "cell_type": "markdown",
   "metadata": {},
   "source": [
    "## Présentation"
   ]
  },
  {
   "cell_type": "markdown",
   "metadata": {},
   "source": [
    "**API :** *Application Program Interface*\n",
    "\n",
    "**DOM :** *Document Object Model*\n",
    "\n",
    "**API DOM :** interface de programmation définie par le [W3C](https://dom.spec.whatwg.org/). Indépendante des langages de programmation, elle propose des méthodes et propriétés pour accéder en lecture et écriture à la représentation sous forme structurée (arbre) d’un document numérique.\n",
    "\n",
    "- **1er octobre 1998 :** DOM 1 (norme)\n",
    "- **13 novembre 2000 :** DOM 2 (norme)\n",
    "- **7 avril 2004 :** DOM 3 (norme)\n",
    "- **19 novembre 2015 :** DOM 4 (norme)\n",
    "\n",
    "\n",
    "Grâce à DOM, un document XML est représenté sous une forme arborescente :\n",
    "\n",
    "![Traitement d’un fichier XML par l’API DOM](./pics/3-fig1.png)"
   ]
  },
  {
   "cell_type": "markdown",
   "metadata": {},
   "source": [
    "## Modélisation"
   ]
  },
  {
   "cell_type": "markdown",
   "metadata": {},
   "source": [
    "### Principes"
   ]
  },
  {
   "cell_type": "markdown",
   "metadata": {},
   "source": [
    "La représentation obtenue est similaire à un graphe dans ses caractéristiques :\n",
    "- un sommet unique (racine)\n",
    "- une hiérarchie entre les nœuds\n",
    "- un chemin unique pour accéder à un nœud\n",
    "- des cardinalités `1:1 1:n`\n",
    "\n",
    "![Exemple de graphe](./pics/3-fig2.png)"
   ]
  },
  {
   "cell_type": "markdown",
   "metadata": {},
   "source": [
    "### Exemple de modélisation"
   ]
  },
  {
   "cell_type": "markdown",
   "metadata": {},
   "source": [
    "```xml\n",
    "<?xml version=\"1.0\" encoding=\"utf-8\"?>\n",
    "<livre>\n",
    "    <auteur>\n",
    "        <nom>Melville</nom>\n",
    "        <prenom>Herman</prenom>\n",
    "    </auteur>\n",
    "    <titre>Moby Dick</titre>\n",
    "    <parution date=\"1851-11-14\">14 novembre 1851</parution>\n",
    "</livre>\n",
    "```\n",
    "\n",
    "![Exemple de représentation sous forme d’arbre d’un document XML](./pics/3-fig3.png)\n",
    "\n",
    "**Légende des couleurs :**\n",
    "- en bleu : éléments\n",
    "- en orange : attribut\n",
    "- en gris : texte"
   ]
  },
  {
   "cell_type": "markdown",
   "metadata": {},
   "source": [
    "## Classes"
   ]
  },
  {
   "cell_type": "markdown",
   "metadata": {},
   "source": [
    "### Classe *Document*"
   ]
  },
  {
   "cell_type": "markdown",
   "metadata": {},
   "source": [
    "La classe *Document* permet d’accéder au prologue XML ainsi qu’au corps du document XML. Elle définit des méthodes pour créer des éléments, des attributs, des commentaires…"
   ]
  },
  {
   "cell_type": "markdown",
   "metadata": {},
   "source": [
    "### Classe *Node*"
   ]
  },
  {
   "cell_type": "markdown",
   "metadata": {},
   "source": [
    "Comme tout est nœud dans un document XML (élément, attribut, texte brut…), la classe *Node* est vraiment au cœur du langage. Elle offre des méthodes pour agir sur les nœuds (supprimer, remplacer…) mais aussi des moyens pour obtenir des informations dessus, comme leur type (élément, attribut…) leur nom, la liste des nœuds enfants et bien d’autres encore."
   ]
  },
  {
   "cell_type": "markdown",
   "metadata": {},
   "source": [
    "### Autres classes"
   ]
  },
  {
   "cell_type": "markdown",
   "metadata": {},
   "source": [
    "Citons trois autres classes essentielles :\n",
    "- *Element*\n",
    "- *Attr* (attribut)\n",
    "- *Text*\n",
    "\n",
    "Toutes disposent de propriétés pour accéder à des informations (nœud, valeur) et de méthodes pour agir sur leurs objets, comme la façon de modifier leur contenu ou de lister les objets de même nom. Pour connaître la liste de toutes les classes à disposition, rien de tel que [la documentation officielle](https://dom.spec.whatwg.org/)."
   ]
  },
  {
   "cell_type": "markdown",
   "metadata": {},
   "source": [
    "## Analyser du code XML"
   ]
  },
  {
   "cell_type": "markdown",
   "metadata": {},
   "source": [
    "L’API DOM est ce que l’on appelle un *parser* XML, autrement dit un programme d’analyse syntaxique qui, rappelons-le, fournit une modélisation arborescente du document XML avec des classes pour accéder en lecture et en écriture. Elle est par exemple implémentée par tous les navigateurs Web, le langage HTML étant une application spécifique du langage XML.\n",
    "\n",
    "Quant aux langages informatiques, ils implémentent plusieurs *parsers* avec, souvent, des objectifs différents :\n",
    "- JavaScript (`DOMParser` `jQuery.ParseXML`)\n",
    "- PHP (`DOM` `XMLReader` `libxml` `SDO` `SimpleXML`)\n",
    "- Python (`ElementTree` `lxml` `cElementTree` `minidom`)\n",
    "- XSLT\n",
    "- …"
   ]
  },
  {
   "cell_type": "code",
   "execution_count": null,
   "metadata": {},
   "outputs": [],
   "source": [
    "# XML parser\n",
    "import xml.etree.ElementTree as ET\n",
    "\n",
    "# XML tree\n",
    "tree = ET.parse('./files/library.xml')\n",
    "root = tree.getroot()\n",
    "\n",
    "# output\n",
    "infos = ''\n",
    "\n",
    "# get informations\n",
    "for book in tree.iter('book'):\n",
    "    title = book.find('title').text\n",
    "    author = f\"{book.find('author').find('firstname').text} {book.find('author').find('lastname').text}\"\n",
    "    parution = book.find('parution').attrib['date']\n",
    "    infos += f\"{parution} : {title} ({author})\\n\"\n",
    "\n",
    "# print\n",
    "print(infos[:-2])"
   ]
  }
 ],
 "metadata": {
  "kernelspec": {
   "display_name": "Python 3 (ipykernel)",
   "language": "python",
   "name": "python3"
  },
  "language_info": {
   "codemirror_mode": {
    "name": "ipython",
    "version": 3
   },
   "file_extension": ".py",
   "mimetype": "text/x-python",
   "name": "python",
   "nbconvert_exporter": "python",
   "pygments_lexer": "ipython3",
   "version": "3.12.1"
  }
 },
 "nbformat": 4,
 "nbformat_minor": 4
}
