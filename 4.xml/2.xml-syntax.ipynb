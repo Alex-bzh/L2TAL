{
 "cells": [
  {
   "cell_type": "markdown",
   "metadata": {},
   "source": [
    "# La syntaxe de XML"
   ]
  },
  {
   "cell_type": "markdown",
   "metadata": {},
   "source": [
    "## Présentation"
   ]
  },
  {
   "cell_type": "markdown",
   "metadata": {},
   "source": [
    "### De l’utilité de XML"
   ]
  },
  {
   "cell_type": "markdown",
   "metadata": {},
   "source": [
    "**26 novembre 2008 :** XML 1.0  \n",
    "https://www.w3.org/TR/REC-xml/\n",
    "\n",
    "**16 août 2006 :** XML 1.1 (à réserver à des cas très spécifiques)  \n",
    "https://www.w3.org/TR/xml11/\n",
    "\n",
    "XML sert à décrire des données en fonction d’un objectif. Cet objectif peut être de différentes natures :\n",
    "- échanger des informations bancaires au sein d’un système international\n",
    "- documenter les phases successives d’écriture d’une œuvre littéraire\n",
    "- reccueillir des éléments de différentes origines pour former un catalogue\n",
    "- …\n",
    "\n",
    "L’objectif défini de tout projet d’encodage en XML peut recourir éventuellement à un cadre de formatage (SVG, TEI, TMX…) ou respecter au contraire un format personnalisé. Dans ce dernier cas, la question de la diffusion de la grammaire (règles et contraintes d’écritures) se posera si l’ambition est d’effectuer un travail collaboratif."
   ]
  },
  {
   "cell_type": "markdown",
   "metadata": {},
   "source": [
    "### Un peu de vocabulaire"
   ]
  },
  {
   "cell_type": "markdown",
   "metadata": {},
   "source": [
    "**XML :** *Extensible Markup Language*\n",
    "\n",
    "**API :** *Application Programming Interface*\n",
    "\n",
    "**DOM :** *Document Object Model*\n",
    "\n",
    "**SAX :** *Simple API for XML*\n",
    "\n",
    "Traitement fichier XML :\n",
    "- parseur lit le document comme texte brut\n",
    "- modélisation par API (DOM, SAX…)\n",
    "- validation syntaxique\n",
    "- validation grammaticale\n",
    "- interrogation par un programme\n",
    "\n",
    "![Schéma de traitement d’un fichier MXL](./pics/2-fig1.png)"
   ]
  },
  {
   "cell_type": "markdown",
   "metadata": {},
   "source": [
    "## La syntaxe"
   ]
  },
  {
   "cell_type": "markdown",
   "metadata": {},
   "source": [
    "La syntaxe du langage définit sept blocs de construction :\n",
    "- Prologue XML\n",
    "- Éléments\n",
    "- Attributs\n",
    "- Données textuelles (CDATA)\n",
    "- Références d’entités\n",
    "- Commentaires\n",
    "- Instructions de traitement"
   ]
  },
  {
   "cell_type": "markdown",
   "metadata": {},
   "source": [
    "### Le prologue"
   ]
  },
  {
   "cell_type": "markdown",
   "metadata": {},
   "source": [
    "Le prologue XML est facultatif mais chaudement recommandé ! Il indique notamment aux applications le format du fichier (XML) ainsi que sa version (1.0 dans la très grande majorité des cas).\n",
    "\n",
    "```xml\n",
    "<?xml version=\"1.0\"?>\n",
    "```\n",
    "\n",
    "Et si l’encodage utilisé est différent de l’ASCII (255 caractères) :\n",
    "\n",
    "```xml\n",
    "<?xml version=\"1.0\" encoding=\"UTF-8\"?>\n",
    "```"
   ]
  },
  {
   "cell_type": "markdown",
   "metadata": {},
   "source": [
    "### Les éléments"
   ]
  },
  {
   "cell_type": "markdown",
   "metadata": {},
   "source": [
    "Il s’agit du composant central du langage, présent au minimum une fois dans un document XML valide. Le tout premier élément est particulier : appelé *racine*, il est obligatoirement unique dans tout le document.\n",
    "\n",
    "Un élément XML est composé de trois parties :\n",
    "- la balise d’ouverture (`<paragraphe>`)\n",
    "- le contenu (tout bloc à l’exception de la déclaration)\n",
    "- la balise de fermeture (`</paragraphe>`)\n",
    "\n",
    "```xml\n",
    "<paragraphe>Lorem ipsum dolor sit amet.</paragraphe>\n",
    "```\n",
    "\n",
    "Cas particulier d’un élément vide (ou autonome) :\n",
    "\n",
    "```xml\n",
    "<paragraphe/>\n",
    "```\n",
    "\n",
    "L’étiquette de l’élément est personnalisable, à l’exception près qu’elle ne peut débuter par la chaîne `XML` :\n",
    "\n",
    "```xml\n",
    "<XMLqqch>Cette balise est interdite</XMLqqch>\n",
    "```\n",
    "- **Début :** lettre, nombre, underscore ou deux-points (déconseillé)\n",
    "- **Suite :** lettres, nombres, tirets, underscores, deux-points, virgules\n",
    "\n",
    "L’étiquette est également sensible à la casse :\n",
    "\n",
    "```xml\n",
    "<docXML>Erreur de syntaxe</docXml>\n",
    "```\n",
    "\n",
    "Une autre contrainte d’écriture impose de respecter l’imbrication des balises :\n",
    "\n",
    "```xml\n",
    "<p>Ce bout<g>de <i>texte</g> provoquera aussi</i> une erreur de syntaxe</p>\n",
    "```\n",
    "\n",
    "```xml\n",
    "<p>\n",
    "    Tandis que ce\n",
    "    <g>paragraphe est\n",
    "        <i>correctement formé</i>\n",
    "        , conforme en cela aux\n",
    "        <i>recommandations</i>\n",
    "    </g>\n",
    "    <i>en vigueur</i>\n",
    "</p>\n",
    "```"
   ]
  },
  {
   "cell_type": "markdown",
   "metadata": {},
   "source": [
    "### Les attributs"
   ]
  },
  {
   "cell_type": "markdown",
   "metadata": {},
   "source": [
    "Les attributs sont placés dans la balise d’ouverture d’un élément et uniquement dans sa balise d’ouverture. Un élément peut supporter un nombre illimité d’attributs (ou aucun) à partir du moment où ils sont uniques dans la balise. Ils sont exprimés sous forme de paire : `nom=\"valeur\"`.\n",
    "\n",
    "```xml\n",
    "<!-- Non conforme aux recommandations -->\n",
    "<texte auteur=\"Jacob Grimm\" auteur=\"Wilhelm Grimm\">\n",
    "    <titre>Le vaillant petit tailleur</titre>\n",
    "</texte>\n",
    "```\n",
    "\n",
    "Comme pour les éléments, leur étiquette est personnalisable, à quelques exceptions près. Les caractères suivants sont interdits car réservés par le langage : `<` `&` `'` `\"`\n",
    "\n",
    "Enfin, l’ordre d’apparition des attributs n’a aucune importance :\n",
    "\n",
    "```xml\n",
    "<livre pages=\"240\" auteur=\"Eric Chevillard\" editeur=\"Minuit\">\n",
    "    <titre langue=\"fr\">Le vaillant petit tailleur</titre>\n",
    "</livre>\n",
    "```"
   ]
  },
  {
   "cell_type": "markdown",
   "metadata": {},
   "source": [
    "### Le texte brut"
   ]
  },
  {
   "cell_type": "markdown",
   "metadata": {},
   "source": [
    "Tout élément et tout attribut peut contenir du texte brut. Seuls deux caractères sont formellement interdits dans ce bloc : `<` `&`. À la place, il faut soit utiliser une référence d’entité (`&lt;` `&amp;`), soit utiliser une section CDATA :\n",
    "\n",
    "```xml\n",
    "<!-- Section CDATA -->\n",
    "<texte>\n",
    "    <![CDATA[\n",
    "        L’âge de Simon est strictement < au coût de la vie.\n",
    "    ]]>\n",
    "</texte>\n",
    "```"
   ]
  },
  {
   "cell_type": "markdown",
   "metadata": {},
   "source": [
    "### Les références d’entités"
   ]
  },
  {
   "cell_type": "markdown",
   "metadata": {},
   "source": [
    "Les références d’entités servent à interpréter les caractères réservés par le langage comme caractèrs bruts grâce à une syntaxe particulière : `&…;`\n",
    "\n",
    "|Entité|Caractère|\n",
    "|:-:|:-:|\n",
    "|`&lt;`|`<`|\n",
    "|`&gt;`|`>`|\n",
    "|`&amp;`|`&`|\n",
    "|`&apos;`|`'`|\n",
    "|`&quot;`|`\"`|\n",
    "\n",
    "À noter que les correspondances Unicode sont reconnues dans leur notation décimale (`&#…;`) ou hexadécimale (`&#x…;`) et qu’il est permis de déclarer ses propres entités dans une grammaire."
   ]
  },
  {
   "cell_type": "markdown",
   "metadata": {},
   "source": [
    "### Les commentaires"
   ]
  },
  {
   "cell_type": "markdown",
   "metadata": {},
   "source": [
    "Les commentaires sont à destination d’un agent humain et ne sont pas voués à être interprétés par le langage, même si leur traitement peut se révéler différent en fonction du parseur utilisé. Dans l’exemple ci-dessous, l’élément `auteur` du deuxième élément `version` est parfois considéré comme son premier fils ou comme son second.\n",
    "\n",
    "```xml\n",
    "<texte>\n",
    "    <titre>Le vaillant petit tailleur</titre>\n",
    "    <version>\n",
    "        <auteur>Les frères Grimm</auteur>\n",
    "    </version>\n",
    "    <version>\n",
    "        <!-- La plus fidèle version de l’histoire -->\n",
    "        <auteur>Eric Chevillard</auteur>\n",
    "    </version>\n",
    "</texte>\n",
    "```\n",
    "\n",
    "Comme il n’existe pas de certitude, il est conseillé de toujours se référer au nom d’un nœud plutôt qu’à son numéro d’ordre dans l’arbre XML.\n",
    "\n",
    "Côté syntaxe, les commentaires suivent les règles du HTML, interdisant au passage la séquence `--` à l’intérieur :\n",
    "\n",
    "```xml\n",
    "<!-- La plus fidèle version du Vaillant petit tailleur est tout de même celle de Eric Chevillard -->\n",
    "```"
   ]
  },
  {
   "cell_type": "markdown",
   "metadata": {},
   "source": [
    "### Les instructions de traitement"
   ]
  },
  {
   "cell_type": "markdown",
   "metadata": {},
   "source": [
    "Ces instructions indiquent une action à accomplir à une application de traitement. Elles sont composées de quatre parties :\n",
    "- balise ouvrante : `<?`\n",
    "- cible du traitement (ne peut débuter par la chaîne `XML`)\n",
    "- chaîne d’information complémentaire\n",
    "- balise fermante : `?>`\n",
    "\n",
    "```xml\n",
    "<?xml-stylesheet type=\"text/xml\" href=\"styles.xsl\"?>\n",
    "```"
   ]
  },
  {
   "cell_type": "markdown",
   "metadata": {},
   "source": [
    "## Les espaces de nommage"
   ]
  },
  {
   "cell_type": "markdown",
   "metadata": {},
   "source": [
    "Ils servent à ajouter des fonctionnalités à la spécification `XML 1.0` en permettant la coexistence de plusieurs vocabulaires XML. Leur déclaration est obligatoire dans l’élément qui l’utilisera (attention à la portée) avec une URI comme valeur de l’attribut `xmlns` (*XML namespaces*).\n",
    "\n",
    "```xml\n",
    "<texte xmlns:xlink=\"http://www.w3.org/1999/xlink\">\n",
    "    Texte du lien\n",
    "</texte>\n",
    "<!-- Hors de portée !! -->\n",
    "<lien xlink:href=\"lien.xml\"/>\n",
    "```\n",
    "\n",
    "```xml\n",
    "<blocLien xmlns:xlink=\"http://www.w3.org/1999/xlink\">\n",
    "    <texte>Texte du lien</texte>\n",
    "    <!-- À portée -->\n",
    "    <lien xlink:href=\"lien.xml\"/>\n",
    "</blocLien>\n",
    "```"
   ]
  },
  {
   "cell_type": "markdown",
   "metadata": {},
   "source": [
    "## XML design"
   ]
  },
  {
   "cell_type": "markdown",
   "metadata": {},
   "source": [
    "Les données peuvent être stockées indifféremment dans des éléments ou dans des attributs."
   ]
  },
  {
   "cell_type": "markdown",
   "metadata": {},
   "source": [
    "### Le modèle par éléments"
   ]
  },
  {
   "cell_type": "markdown",
   "metadata": {},
   "source": [
    "```xml\n",
    "<?xml version=\"1.0\" encoding=\"UTF-8\"?>\n",
    "<fromages>\n",
    "  <fromage>\n",
    "    <nom>Beaufort</nom>\n",
    "    <lait>\n",
    "      <type>Cru</type>\n",
    "      <animal>Vache</animal>\n",
    "    </lait>\n",
    "  </fromage>\n",
    "  <fromage>\n",
    "    <nom>Crottin de Chavignol</nom>\n",
    "      <lait>\n",
    "        <type>Cru</type>\n",
    "        <animal>Chèvre</animal>\n",
    "      </lait>\n",
    "  </fromage>\n",
    "</fromages>\n",
    "```"
   ]
  },
  {
   "cell_type": "markdown",
   "metadata": {},
   "source": [
    "### Le modèle par attributs"
   ]
  },
  {
   "cell_type": "markdown",
   "metadata": {},
   "source": [
    "```xml\n",
    "<?xml version=\"1.0\" encoding=\"UTF-8\"?>\n",
    "<fromages>\n",
    "  <fromage nom=\"Beaufort\" typeLait=\"cru\" animal=\"vache\" />\n",
    "  <fromage nom=\"Crottin de Chavignol\" typeLait=\"cru\" animal=\"chèvre\" />\n",
    "</fromages>\n",
    "```\n",
    "\n",
    "**Remarque :** le modèle par attributs est certes plus concis mais il demeure moins lisible avec un volume de données plus important."
   ]
  },
  {
   "cell_type": "markdown",
   "metadata": {},
   "source": [
    "### Un modèle mixte"
   ]
  },
  {
   "cell_type": "markdown",
   "metadata": {},
   "source": [
    "Dans la pratique, il est bien plus courant de combiner les deux modèles. Comment, alors, choisir entre les deux pour modéliser une donnée précise ? Bien souvent, il s’agit d’une sensibilité personnelle qui résulte de l’expérience. Toutefois, des principes ont été définis pour orienter la décision vers tel ou tel modèle :\n",
    "- le principe de la donnée fondamentale\n",
    "- le principe de l’information structurée\n",
    "- le principe de dépendance entre l’élément et ses attributs\n",
    "- le principe de lisibilité des données"
   ]
  },
  {
   "cell_type": "markdown",
   "metadata": {},
   "source": [
    "#### Le contenu est-il fondamental ou accessoire ?"
   ]
  },
  {
   "cell_type": "markdown",
   "metadata": {},
   "source": [
    "La réponse à cette question doit aboutir à une distinction essentielle entre donnée et métadonnée. Dans le premier cas, il convient d’utiliser un élément ; dans le second, un attribut.\n",
    "\n",
    "```xml\n",
    "<!-- Le genre est ici considéré comme une information secondaire -->\n",
    "<livre genre=\"roman\">\n",
    "    <!-- Le titre devrait toujours figurer dans un élément -->\n",
    "    <titre>Moby Dick</titre>\n",
    "</livre>\n",
    "```"
   ]
  },
  {
   "cell_type": "markdown",
   "metadata": {},
   "source": [
    "#### La donnée répond-elle à une norme, un format ?"
   ]
  },
  {
   "cell_type": "markdown",
   "metadata": {},
   "source": [
    "Toutes les informations qui suivent un formatage défini mériteraient d’être encodées dans des attributs.\n",
    "\n",
    "```xml\n",
    "<!-- La date de parution respecte la norme ISO-8601 -->\n",
    "<livre genre=\"roman\" parution=\"1851-11-14\">\n",
    "    <titre>Moby Dick</titre>\n",
    "</livre>\n",
    "```"
   ]
  },
  {
   "cell_type": "markdown",
   "metadata": {},
   "source": [
    "#### Le contenu est-il composé d’une donnée et de son modificateur ?"
   ]
  },
  {
   "cell_type": "markdown",
   "metadata": {},
   "source": [
    "L’une des distinctions entre attributs et éléments réside dans l’utilité des premiers pour modifier ou affiner la précision des seconds.\n",
    "\n",
    "```xml\n",
    "<livre genre=\"roman\" parution=\"1851-11-14\">\n",
    "    <titre>Moby Dick</titre>\n",
    "    <!-- L'attribut conserve l'unité qui modifie la valeur numérique stockée -->\n",
    "    <pagination unite=\"p\">379</pagination>\n",
    "</livre>\n",
    "```"
   ]
  },
  {
   "cell_type": "markdown",
   "metadata": {},
   "source": [
    "#### Le contenu sera-t-il lu par un agent humain ?"
   ]
  },
  {
   "cell_type": "markdown",
   "metadata": {},
   "source": [
    "Les données sont soit destinées à être consultées par un agent humain, soit destinées à être traitées par un programme informatique. Caractériser leur sort permet de déterminer s’il est préférable de les encoder dans des éléments ou avec des attributs.\n",
    "\n",
    "```xml\n",
    "<livre genre=\"roman\" parution=\"1851-11-14\">\n",
    "    <titre>Moby Dick</titre>\n",
    "    <pagination unite=\"p\">379</pagination>\n",
    "    <!-- Le résumé d'une œuvre est plutôt destiné à l'affichage qu'au traitement -->\n",
    "    <resume>Attiré par la mer et le large, Ismaël, le narrateur, décide de partir à la chasse à la baleine. Il embarque sur le Péquod, baleinier avec son nouvel ami Queequeg commandé par le capitaine Achab. Ismaël se rend vite compte que le bateau ne chasse pas uniquement pour alimenter le marché de la baleine. Achab recherche Moby Dick, un cachalot blanc particulièrement féroce et d'une taille impressionnante, qui lui a arraché une jambe par le passé. Achab emmène son équipage dans un voyage autour du monde à la poursuite du cachalot dont il a juré de se venger. Le Péquod finira par sombrer au large des îles Gilbert en laissant Ismaël seul survivant, flottant sur un cercueil. Le roman est loin de se réduire à son aspect fictionnel : de nombreux chapitres sont consacrés à décrire minutieusement la technique de la chasse à la baleine ainsi qu'à s'interroger sur la nature (réelle ou symbolique) des cétacés, et peuvent se lire comme une seconde traque, spéculative et métaphysique. Dans Moby-Dick, Melville emploie un langage stylisé, symbolique et métaphorique pour explorer de nombreux thèmes complexes qu'il estime universels. À travers le voyage de son personnage principal, les concepts de classe et de statut social, du Bien et du Mal, et de l'existence de Dieu sont tous aussi bien explorés que les interrogations d'Ismaël sur ses convictions et sa place dans l'univers. Ce livre est souvent considéré comme l'emblème du romantisme américain. Bien que sa première édition n'ait pas soulevé l'enthousiasme de la critique, Moby-Dick est aujourd'hui considéré comme l'un des plus importants romans de langue anglaise. En 1954, dans Ten Novels and Their Authors, l'écrivain britannique William Somerset Maugham a classé Moby Dick parmi les dix plus grands romans.</resume>\n",
    "</livre>\n",
    "```"
   ]
  }
 ],
 "metadata": {
  "kernelspec": {
   "display_name": "Python 3 (ipykernel)",
   "language": "python",
   "name": "python3"
  },
  "language_info": {
   "codemirror_mode": {
    "name": "ipython",
    "version": 3
   },
   "file_extension": ".py",
   "mimetype": "text/x-python",
   "name": "python",
   "nbconvert_exporter": "python",
   "pygments_lexer": "ipython3",
   "version": "3.12.1"
  }
 },
 "nbformat": 4,
 "nbformat_minor": 4
}
