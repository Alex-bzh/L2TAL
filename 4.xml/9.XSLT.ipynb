{
 "cells": [
  {
   "cell_type": "markdown",
   "metadata": {},
   "source": [
    "# Introduction aux transformations avec XSLT"
   ]
  },
  {
   "cell_type": "markdown",
   "metadata": {},
   "source": [
    "## Présentation"
   ]
  },
  {
   "cell_type": "markdown",
   "metadata": {},
   "source": [
    "**XSL(T) :** *eXtensible Stylesheet Language Transformations*\n",
    "\n",
    "D’un point de vue formel, le langage XSLT est une grammaire écrite en XML qui utilise le langage XPath pour naviguer parmi les nœuds d’un document structuré. Il est à considérer comme un équivalent du CSS pour le langage HTML, en ce sens qu’il va transformer le document source pour en fournir une autre version. Il s’agit en plus d’une [recommandation du W3C](https://www.w3.org/TR/xslt-30/)\n",
    "\n",
    "**23 novembre 1999 :** version 1.0\n",
    "\n",
    "**23 janvier 2007 :** version 2.0\n",
    "\n",
    "**8 juin 2017 :** version 3.0"
   ]
  },
  {
   "cell_type": "markdown",
   "metadata": {},
   "source": [
    "### Principe d’une transformation"
   ]
  },
  {
   "cell_type": "markdown",
   "metadata": {},
   "source": [
    "XSLT produit en sortie un document modélisable sous forme d’arbre (XML, HTML, PDF, RTF, SVG…) :\n",
    "\n",
    "![Schéma de transformation d’un document structuré vers un autre document structuré](./pics/1-fig1.png)"
   ]
  },
  {
   "cell_type": "markdown",
   "metadata": {},
   "source": [
    "### Modèle d’une feuille de transformation"
   ]
  },
  {
   "cell_type": "markdown",
   "metadata": {},
   "source": [
    "```xml\n",
    "<?xml version=\"1.0\" encoding=\"UTF-8\"?>\n",
    "\n",
    "<!-- root element -->\n",
    "<xsl:stylesheet version=\"3.0\" xmlns:xsl=\"http://www.w3.org/1999/XSL/Transform\">\n",
    "\n",
    "    <!-- indication on the document to be produced -->\n",
    "    <xsl:output method=\"xml\" version=\"1.0\" encoding=\"utf-8\" indent=\"yes\"/>\n",
    "\n",
    "    <!-- main transformation rule -->\n",
    "    <xsl:template match=\"/\">\n",
    "\n",
    "        <!-- backbone of the new document -->\n",
    "        <nvXML>\n",
    "            <!-- call for application -->\n",
    "            <xsl:apply-templates select=\"{XPath}\"/>\n",
    "        </nvXML>\n",
    "\n",
    "    </xsl:template>\n",
    "\n",
    "    <!-- candidates -->\n",
    "    <xsl:template match=\"{XPath}\"></xsl:template>\n",
    "    <xsl:template match=\"{XPath}\"></xsl:template>\n",
    "\n",
    "</xsl:stylesheet>\n",
    "```"
   ]
  },
  {
   "cell_type": "markdown",
   "metadata": {},
   "source": [
    "## Produire un nouveau document XML"
   ]
  },
  {
   "cell_type": "markdown",
   "metadata": {},
   "source": [
    "Transformer un document XML en un autre document XML. L’intérêt peut au premier abord sembler obscur. Pourtant, les occasions d’harmoniser un ensemble de documents variés pour les intégrer dans un système cohérent ne manquent pas :\n",
    "- catalogues de fournisseurs ;\n",
    "- procédures de transferts bancaires ;\n",
    "- partage de calendriers ;\n",
    "- export en divers formats\n",
    "- …\n",
    "\n",
    "Le fichier *bbt-simple.xml* reprend un fragment XML simplissime :\n",
    "\n",
    "```xml\n",
    "<?xml version=\"1.0\" encoding=\"UTF-8\"?>\n",
    "<show title=\"The Big Bang Theory\">\n",
    "    <author>Chuck Lorre</author>\n",
    "    <author>Bill Prady</author>\n",
    "    <year>2007</year>\n",
    "</show>\n",
    "```\n",
    "\n",
    "L’objectif ici est de le transformer dans un autre format :\n",
    "\n",
    "```xml\n",
    "<?xml version=\"1.0\" encoding=\"UTF-8\"?>\n",
    "<bbt>\n",
    "    <createur>Chuck Lorre</createur>\n",
    "    <createur>Bill Prady</createur>\n",
    "    <annee>2007</annee>\n",
    "</bbt>\n",
    "```"
   ]
  },
  {
   "cell_type": "markdown",
   "metadata": {},
   "source": [
    "### 1e étape : écrire la feuille de transformation minimale"
   ]
  },
  {
   "cell_type": "markdown",
   "metadata": {},
   "source": [
    "```xml\n",
    "<?xml version=\"1.0\" encoding=\"UTF-8\"?>\n",
    "\n",
    "<!-- root element -->\n",
    "<xsl:stylesheet version=\"3.0\" xmlns:xsl=\"http://www.w3.org/1999/XSL/Transform\">\n",
    "\n",
    "    <!-- an XML document will be produced -->\n",
    "    <xsl:output method=\"xml\" version=\"1.0\" encoding=\"utf-8\" indent=\"yes\"/>\n",
    "\n",
    "    <!-- backbone -->\n",
    "    <xsl:template match=\"/\">\n",
    "        <!-- main transformation rule -->\n",
    "    </xsl:template>\n",
    "\n",
    "</xsl:stylesheet>\n",
    "```"
   ]
  },
  {
   "cell_type": "markdown",
   "metadata": {},
   "source": [
    "### 2e étape : décrire la règle principale de transformation"
   ]
  },
  {
   "cell_type": "markdown",
   "metadata": {},
   "source": [
    "```xml\n",
    "<!-- backbone -->\n",
    "<xsl:template match=\"/\">\n",
    "    <!-- root element of the output -->\n",
    "    <bbt>\n",
    "        <!-- call for application for nodes 'author' -->\n",
    "        <xsl:apply-templates select=\"//author\"/>\n",
    "        <!-- call for application for nodes 'year' (only one) -->\n",
    "        <xsl:apply-templates select=\"//year\"/>\n",
    "    </bbt>\n",
    "</xsl:template>\n",
    "```"
   ]
  },
  {
   "cell_type": "markdown",
   "metadata": {},
   "source": [
    "### 3e étape : description des templates candidats"
   ]
  },
  {
   "cell_type": "markdown",
   "metadata": {},
   "source": [
    "```xml\n",
    "<!-- candidate 'author' -->\n",
    "<xsl:template match=\"author\">\n",
    "\n",
    "    <!-- an element 'creator' will be created -->\n",
    "    <createur>\n",
    "        <!-- copy of the textual value inside 'author' -->\n",
    "        <xsl:value-of select=\".\"/>\n",
    "    </createur>\n",
    "\n",
    "</xsl:template>\n",
    "\n",
    "<!-- candidate 'year' -->\n",
    "<xsl:template match=\"year\">\n",
    "\n",
    "    <!-- a new element 'annee' -->\n",
    "    <annee>\n",
    "        <!-- copy of the textual value -->\n",
    "        <xsl:value-of select=\".\"/>\n",
    "    </annee>\n",
    "\n",
    "</xsl:template>\n",
    "```"
   ]
  },
  {
   "cell_type": "markdown",
   "metadata": {},
   "source": [
    "### Lancer la transformation avec le module *lxml*"
   ]
  },
  {
   "cell_type": "markdown",
   "metadata": {},
   "source": [
    "Le module *lxml* est un autre module Python qui permet de manipuler des documents XML tout en offrant un support pour XSLT. Il est à noter qu’il est en plus compatible avec les commandes de base du module  *elementTree* :"
   ]
  },
  {
   "cell_type": "code",
   "execution_count": null,
   "metadata": {},
   "outputs": [],
   "source": [
    "from lxml import etree\n",
    "\n",
    "tree = etree.parse('./data/bbt-simple.xml')\n",
    "root = tree.getroot()\n",
    "\n",
    "for child in root:\n",
    "    print(child.tag)"
   ]
  },
  {
   "cell_type": "markdown",
   "metadata": {},
   "source": [
    "Comme un document XSLT est écrit en XML, le même méthode `parse()` convient pour l’analyser :"
   ]
  },
  {
   "cell_type": "code",
   "execution_count": null,
   "metadata": {},
   "outputs": [],
   "source": [
    "xslt = etree.parse('./data/bbt-simple.xsl')"
   ]
  },
  {
   "cell_type": "markdown",
   "metadata": {},
   "source": [
    "L’étape d’après consiste à instancier un processeur XSLT avec la méthode `XSLT()` :"
   ]
  },
  {
   "cell_type": "code",
   "execution_count": null,
   "metadata": {},
   "outputs": [],
   "source": [
    "processor = etree.XSLT(xslt)"
   ]
  },
  {
   "cell_type": "markdown",
   "metadata": {},
   "source": [
    "Pour finalement exécuter la transformation avec le processeur :"
   ]
  },
  {
   "cell_type": "code",
   "execution_count": null,
   "metadata": {},
   "outputs": [],
   "source": [
    "new_tree = processor(tree)"
   ]
  },
  {
   "cell_type": "markdown",
   "metadata": {},
   "source": [
    "Vérifiez le résultat :"
   ]
  },
  {
   "cell_type": "code",
   "execution_count": null,
   "metadata": {},
   "outputs": [],
   "source": [
    "print(etree.tostring(new_tree))"
   ]
  },
  {
   "cell_type": "markdown",
   "metadata": {},
   "source": [
    "Et pour enregistrer le nouvel arbre XML dans un fichier, il suffit d’utiliser la méthode `write()` :"
   ]
  },
  {
   "cell_type": "code",
   "execution_count": null,
   "metadata": {},
   "outputs": [],
   "source": [
    "new_tree.write('./data/new-bbt-simple.xml')"
   ]
  },
  {
   "cell_type": "markdown",
   "metadata": {},
   "source": [
    "À noter le paramètre nommé `pretty_print` qui permet d’établir automatiquement l’indentation des balises :"
   ]
  },
  {
   "cell_type": "code",
   "execution_count": null,
   "metadata": {},
   "outputs": [],
   "source": [
    "new_tree.write('./data/new-bbt-simple.xml', pretty_print=True)"
   ]
  },
  {
   "cell_type": "markdown",
   "metadata": {},
   "source": [
    "## Produire un document HTML"
   ]
  },
  {
   "cell_type": "markdown",
   "metadata": {},
   "source": [
    "Un autre des intérêts de transformer un document XML en un autre document XML est lorsque l’on souhaite se reposer sur un document XML pour créer une page HTML.\n",
    "\n",
    "À partir du même document XML, l’objectif est maintenant de produire un fichier *big-bang-theory.html* :\n",
    "\n",
    "```html\n",
    "<!DOCTYPE html>\n",
    "<html lang=\"fr\" xmlns=\"http://www.w3.org/1999/xhtml\">\n",
    "<head>\n",
    "    <meta charset=\"utf-8\" />\n",
    "    <title>Présentation | The Big Bang Theory</title>\n",
    "</head>\n",
    "<body>\n",
    "    <h1>The Big Bang Theory</h1>\n",
    "    <p><b>Créateurs :</b> Chuck Lorre, Bill Prady<br />\n",
    "    <b>Année de création :</b> 2007</p>\n",
    "</body>\n",
    "</html>\n",
    "```"
   ]
  },
  {
   "cell_type": "markdown",
   "metadata": {},
   "source": [
    "### 1e étape : écrire la feuille de transformation minimale"
   ]
  },
  {
   "cell_type": "markdown",
   "metadata": {},
   "source": [
    "```xml\n",
    "<?xml version=\"1.0\" encoding=\"UTF-8\"?>\n",
    "<xsl:stylesheet version=\"3.0\" xmlns:xsl=\"http://www.w3.org/1999/XSL/Transform\">\n",
    "\n",
    "    <!-- an HTML document will be produced -->\n",
    "    <xsl:output method=\"html\" encoding=\"utf-8\" indent=\"yes\"/>\n",
    "\n",
    "    <!-- backbone -->\n",
    "    <xsl:template match=\"/\">\n",
    "\n",
    "        <!-- special root to print HTML doctype -->\n",
    "        <xsl:text disable-output-escaping=\"yes\">&amp;lt;!DOCTYPE html&amp;gt;</xsl:text>\n",
    "        <xsl:text>&amp;#xA;</xsl:text>\n",
    "\n",
    "    </xsl:template>\n",
    "\n",
    "</xsl:stylesheet>\n",
    "```"
   ]
  },
  {
   "cell_type": "markdown",
   "metadata": {},
   "source": [
    "### 2e étape : décrire la règle principale de transformation"
   ]
  },
  {
   "cell_type": "markdown",
   "metadata": {},
   "source": [
    "```xml\n",
    "<!-- backbone -->\n",
    "<xsl:template match=\"/\">\n",
    "\n",
    "    <xsl:text disable-output-escaping=\"yes\">&amp;lt;!DOCTYPE html&amp;gt;</xsl:text>\n",
    "    <xsl:text>&amp;#xA;</xsl:text>\n",
    "\n",
    "    <html lang=\"fr\" xmlns=\"http://www.w3.org/1999/xhtml\">\n",
    "        <head>\n",
    "            <title>Présentation | <xsl:apply-templates select=\"show/@title\"/></title>\n",
    "            <meta charset=\"utf-8\"/>\n",
    "        </head>\n",
    "        <body>\n",
    "            <!-- call for application for attribute 'title', child of element 'show' -->\n",
    "            <h1><xsl:apply-templates select=\"show/@title\"/></h1>\n",
    "            <p>\n",
    "                <b>Créateurs :</b>\n",
    "                <xsl:text> </xsl:text>\n",
    "                <!-- call for nodes 'author' -->\n",
    "                <xsl:apply-templates select=\"//author\"/>\n",
    "                <br/>\n",
    "                <b>Année de création :</b>\n",
    "                <xsl:text> </xsl:text>\n",
    "                <!-- call for nodes 'year' (only one) -->\n",
    "                <xsl:apply-templates select=\"//year\"/>\n",
    "            </p>\n",
    "        </body>\n",
    "    </html>\n",
    "\n",
    "</xsl:template>\n",
    "```"
   ]
  },
  {
   "cell_type": "markdown",
   "metadata": {},
   "source": [
    "### 3e étape : description des templates candidats"
   ]
  },
  {
   "cell_type": "markdown",
   "metadata": {},
   "source": [
    "```xml\n",
    "<!-- a template than can apply to all calls -->\n",
    "<xsl:template match=\"*\">\n",
    "    <!-- copy the textual content of the current node -->\n",
    "    <xsl:value-of select=\".\"/>\n",
    "</xsl:template>\n",
    "\n",
    "<!-- cadidate 'author' -->\n",
    "<xsl:template match=\"author\">\n",
    "    <!-- copy the textual content of the current node -->\n",
    "    <xsl:value-of select=\".\"/>\n",
    "    <!-- if the current node is not the last one, add a comma -->\n",
    "    <xsl:if test=\"position() != last()\">, </xsl:if>\n",
    "</xsl:template>\n",
    "```"
   ]
  },
  {
   "cell_type": "markdown",
   "metadata": {},
   "source": [
    "### 4e étape : lancer la transformation"
   ]
  },
  {
   "cell_type": "code",
   "execution_count": null,
   "metadata": {},
   "outputs": [],
   "source": [
    "from lxml import etree\n",
    "\n",
    "tree = etree.parse('./data/bbt-simple.xml')\n",
    "xslt = etree.parse('./data/bbt-to-html.xsl')\n",
    "processor = etree.XSLT(xslt)\n",
    "html = processor(tree)\n",
    "html.write('./data/big-bang-theory.html')"
   ]
  },
  {
   "cell_type": "markdown",
   "metadata": {},
   "source": [
    "## Principes de la transformation avec XSLT"
   ]
  },
  {
   "cell_type": "markdown",
   "metadata": {},
   "source": [
    "### Un ensemble de règles"
   ]
  },
  {
   "cell_type": "markdown",
   "metadata": {},
   "source": [
    "Les transformations respectent un modèle de traitement par ensemble de règles :\n",
    "\n",
    "1. Sélection des noeuds correspondant au *pattern* ;\n",
    "2. actions à effectuer pour chaque élément de la sélection ;\n",
    "3. exécution du traitement.\n",
    "\n",
    "```xml\n",
    "<!-- this template is ready to apply to a call -->\n",
    "<!-- the attribute 'match' expresses a condition:\n",
    "<!-- from the current position of the pointer, an element 'actor' must exist -->\n",
    "<xsl:template match=\"actor\">\n",
    "    <p>\n",
    "        <b>Prénom :</b>\n",
    "        <!-- copy the textual content of node 'firstname' -->\n",
    "        <xsl:value-of select=\"firstname\"/>\n",
    "        <b>Nom :</b>\n",
    "        <!-- copy the textual content of node 'lastname' -->\n",
    "        <xsl:value-of select=\"lastname\"/>\n",
    "    </p>\n",
    "</xsl:template>\n",
    "```"
   ]
  },
  {
   "cell_type": "markdown",
   "metadata": {},
   "source": [
    "### Une résolution non-linéaire des règles"
   ]
  },
  {
   "cell_type": "markdown",
   "metadata": {},
   "source": [
    "Plutôt que d’exécuter les règles dans l’ordre de leur apparition dans le code, XSLT repose sur la notion de hiérarchie des instructions. La fonction `apply-templates` est alors chargée de déclencher le traitement des enfants liés au modèle :\n",
    "\n",
    "```xml\n",
    "<!-- candidate for node 'actor' -->\n",
    "<xsl:template match=\"//actor\">\n",
    "    <!-- its role? call for suitable candidates -->\n",
    "    <p><xsl:apply-templates/></p>\n",
    "</xsl:template>\n",
    "\n",
    "<!-- candidate for node 'firstname' -->\n",
    "<xsl:template match=\"firstname\">\n",
    "    <b>Prénom :</b><xsl:value-of select=\".\"/>\n",
    "</xsl:template>\n",
    "\n",
    "<!-- candidate for node 'lastname' -->\n",
    "<xsl:template match=\"lastname\">\n",
    "    <b>Nom :</b><xsl:value-of select=\".\"/>\n",
    "</xsl:template>\n",
    "\n",
    "<!-- candidate for node 'birth' -->\n",
    "<xsl:template match=\"birth\">\n",
    "    <b>Date de naissance :</b>\n",
    "    <xsl:value-of select=\"format-date(.,'[D01] [MNn] [Y0001]')\"/>\n",
    "</xsl:template>\n",
    "```"
   ]
  },
  {
   "cell_type": "markdown",
   "metadata": {},
   "source": [
    "### Rôles d’un template"
   ]
  },
  {
   "cell_type": "markdown",
   "metadata": {},
   "source": [
    "1. Interroger l’emplacement du pointeur dans la modélisation sous forme arborescente du document XML.\n",
    "2. Tester la validité de l’expression XPath (attribut `match`).\n",
    "    - Si elle est éligible :\n",
    "        - déplacer le pointeur au niveau de la résolution de l’expression XPath ;\n",
    "        - exécuter les actions définies ;\n",
    "        - replacer le pointeur à l’étape précédente.\n",
    "    - Sinon, il passe son tour."
   ]
  },
  {
   "cell_type": "markdown",
   "metadata": {},
   "source": [
    "## Les variables en XSLT"
   ]
  },
  {
   "cell_type": "markdown",
   "metadata": {},
   "source": [
    "### Enregistrer un résultat"
   ]
  },
  {
   "cell_type": "markdown",
   "metadata": {},
   "source": [
    "XSLT peut stocker le résultat d’une expression XPath dans une variable, tout comme du texte simple :\n",
    "\n",
    "```xml\n",
    "<!-- a variable named 'jim' stores the result of an XPath expression -->\n",
    "<xsl:variable name=\"jim\" select=\"//actor[firstname='Jim']\"/>\n",
    "```\n",
    "\n",
    "```xml\n",
    "<xsl:variable name=\"copyright\">\n",
    "<footer>\n",
    "    <p>© The Big Bang Theory, 2018</p>\n",
    "</footer>\n",
    "</xsl:variable>\n",
    "```\n",
    "\n",
    "Toute expression XPath peut servir à isoler un fragment d‘arbre ou à enregistrer un traitement :\n",
    "\n",
    "```xml\n",
    "<!-- a count -->\n",
    "<xsl:variable name=\"nb\" select=\"count(//character)\"/>\n",
    "<!-- a boolean -->\n",
    "<xsl:variable name=\"isLeonard\" select=\"//firstname='Leonard'\"/>\n",
    "```"
   ]
  },
  {
   "cell_type": "markdown",
   "metadata": {},
   "source": [
    "### Appeler une variable"
   ]
  },
  {
   "cell_type": "markdown",
   "metadata": {},
   "source": [
    "Une fois instanciée, une variable est référencée par le préfixe `$` :\n",
    "\n",
    "```xml\n",
    "<!-- only the textual content is copied -->\n",
    "<xsl:value-of select=\"$copyright\"/>\n",
    "```\n",
    "\n",
    "```xml\n",
    "<!-- elements and attributes are also copied -->\n",
    "<xsl:copy-of select=\"$copyright\"/>\n",
    "```"
   ]
  },
  {
   "cell_type": "markdown",
   "metadata": {},
   "source": [
    "## Exécuter une transformation en ligne de commande"
   ]
  },
  {
   "cell_type": "markdown",
   "metadata": {},
   "source": [
    "L’utilitaire qui applique une feuille de transformations à un document XML s’appelle `xsltproc`. Il est prévu pour fonctionner avec les spécifications XPath 1.1, aussi toute fonction XPath 2 ou d’une version supérieure provoquera une erreur bloquante. Si seul l’attribut `version` de la balise `stylesheet` indique le recours à une version supérieure à 1.1, l’erreur soulevée n’empêchera pas l’exécution de la feuille de transformations :"
   ]
  },
  {
   "cell_type": "code",
   "execution_count": null,
   "metadata": {},
   "outputs": [],
   "source": [
    "!xsltproc ./data/bbt-to-html-full.xsl ./data/bbt.xml"
   ]
  },
  {
   "cell_type": "markdown",
   "metadata": {},
   "source": [
    "Pour écrire le résultat dans un document, il suffit de rediriger le flux de sortie :"
   ]
  },
  {
   "cell_type": "code",
   "execution_count": null,
   "metadata": {},
   "outputs": [],
   "source": [
    "!xsltproc ./data/bbt-to-html-full.xsl ./files/bbt.xml > ./files/bbt.html"
   ]
  }
 ],
 "metadata": {
  "kernelspec": {
   "display_name": "Python 3 (ipykernel)",
   "language": "python",
   "name": "python3"
  },
  "language_info": {
   "codemirror_mode": {
    "name": "ipython",
    "version": 3
   },
   "file_extension": ".py",
   "mimetype": "text/x-python",
   "name": "python",
   "nbconvert_exporter": "python",
   "pygments_lexer": "ipython3",
   "version": "3.11.8"
  }
 },
 "nbformat": 4,
 "nbformat_minor": 4
}
