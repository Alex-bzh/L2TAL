{
 "cells": [
  {
   "cell_type": "markdown",
   "metadata": {},
   "source": [
    "# Un corpus parallélisé"
   ]
  },
  {
   "cell_type": "markdown",
   "metadata": {},
   "source": [
    "*Europarl* est un corpus parallélisé issu des sessions de travail du Parlement européen entre 1996 et 2011. Il intègre, dans sa v7, des versions dans 21 langues européennes et se destine plutôt à être utilisé par des outils automatiques (TAL, statistiques…).\n",
    "\n",
    "Un extrait anglais-français est disponible dans le fichier CSV *europarl.csv* :"
   ]
  },
  {
   "cell_type": "code",
   "execution_count": null,
   "metadata": {},
   "outputs": [],
   "source": [
    "# module to parse CSV files\n",
    "import csv\n",
    "\n",
    "# 'europarl' contains a list of dicts, with two keys:\n",
    "# 'fr' and 'en' for each sentence aligned\n",
    "with open('../files/europarl.csv') as csvfile:\n",
    "    reader = csv.DictReader(csvfile, delimiter='\\t')\n",
    "    europarl = [row for row in reader]"
   ]
  },
  {
   "cell_type": "markdown",
   "metadata": {},
   "source": [
    "Pour visualiser une phrase en particulier, traduite dans les deux langues :"
   ]
  },
  {
   "cell_type": "code",
   "execution_count": null,
   "metadata": {},
   "outputs": [],
   "source": [
    "print(f\"{europarl[0]['fr']}\\t{europarl[0]['en']}\")"
   ]
  },
  {
   "cell_type": "markdown",
   "metadata": {},
   "source": [
    "Pour cet exercice, vous convertirez ces données issues d’un fichier CSV au format XML."
   ]
  },
  {
   "cell_type": "code",
   "execution_count": null,
   "metadata": {},
   "outputs": [],
   "source": [
    "# your code here"
   ]
  }
 ],
 "metadata": {
  "kernelspec": {
   "display_name": "Python 3 (ipykernel)",
   "language": "python",
   "name": "python3"
  },
  "language_info": {
   "codemirror_mode": {
    "name": "ipython",
    "version": 3
   },
   "file_extension": ".py",
   "mimetype": "text/x-python",
   "name": "python",
   "nbconvert_exporter": "python",
   "pygments_lexer": "ipython3",
   "version": "3.12.1"
  }
 },
 "nbformat": 4,
 "nbformat_minor": 4
}
