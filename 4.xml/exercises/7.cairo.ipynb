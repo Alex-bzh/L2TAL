{
 "cells": [
  {
   "cell_type": "markdown",
   "metadata": {},
   "source": [
    "# Un discours mémorable"
   ]
  },
  {
   "cell_type": "markdown",
   "metadata": {},
   "source": [
    "Vous disposez d’une version trilingue anglais-français-espagnol au format TSV (*tabulated-separated values*) du discours de Barack Obama prononcé le 4 juin 2009 devant l’université du Caire, et souhaitez la transformer en un fichier au format TMX.\n",
    "\n",
    "Chargez tout d’abord les lignes du fichier dans une variable `rows` :"
   ]
  },
  {
   "cell_type": "code",
   "execution_count": null,
   "metadata": {},
   "outputs": [],
   "source": [
    "import csv\n",
    "\n",
    "with open('../data/obama-cairo.tsv') as csvfile:\n",
    "    fieldnames = ['en', 'fr', 'es']\n",
    "    reader = csv.DictReader(csvfile, delimiter='\\t', fieldnames=fieldnames)\n",
    "    \n",
    "    rows = [row for row in reader]"
   ]
  },
  {
   "cell_type": "markdown",
   "metadata": {},
   "source": [
    "Concevez à présent votre programme, sans oublier de déclarer la [DTD du format TMX](../files/tmx.dtd), présente également dans le répertoire *files* :"
   ]
  },
  {
   "cell_type": "code",
   "execution_count": null,
   "metadata": {},
   "outputs": [],
   "source": [
    "# your code here"
   ]
  }
 ],
 "metadata": {
  "kernelspec": {
   "display_name": "Python 3 (ipykernel)",
   "language": "python",
   "name": "python3"
  },
  "language_info": {
   "codemirror_mode": {
    "name": "ipython",
    "version": 3
   },
   "file_extension": ".py",
   "mimetype": "text/x-python",
   "name": "python",
   "nbconvert_exporter": "python",
   "pygments_lexer": "ipython3",
   "version": "3.12.1"
  }
 },
 "nbformat": 4,
 "nbformat_minor": 4
}
