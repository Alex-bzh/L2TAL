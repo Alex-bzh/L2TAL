{
 "cells": [
  {
   "cell_type": "markdown",
   "id": "81656655-9129-444a-9aca-06c54d601a6a",
   "metadata": {},
   "source": [
    "# Comment donner du sens à un fichier XML"
   ]
  },
  {
   "cell_type": "markdown",
   "id": "c932bd52-1ac3-4d14-bd82-f108433e17d1",
   "metadata": {},
   "source": [
    "## Présentation"
   ]
  },
  {
   "cell_type": "markdown",
   "id": "0cbf77b5-d134-455e-b510-478e9d2852c8",
   "metadata": {},
   "source": [
    "Dans la mesure où le format XML est personnalisable, il devient essentiel de pouvoir contrôler la structure d’un fichier. Si certaines grammaires font consensus (HTML, TEI, TMX…), il est également possible de définir son propre schéma de validation.\n",
    "\n",
    "L’une des manières de réaliser cette étape, la moins contraignante et la plus rapide à appréhender, est de passer par une DTD (*Document Type Definition*). Il s’agit d’un langage particulier, non-XML, qui offre des méthodes de contrôle des balises et des attributs en se passant de raffinements.\n",
    "\n",
    "Au-delà d’être bien formé, tout fichier XML se doit également d’être valide."
   ]
  },
  {
   "cell_type": "markdown",
   "id": "2344ffec-2a7e-43b3-bf5b-fafe5aeae571",
   "metadata": {},
   "source": [
    "### Déclarer une validation par DTD"
   ]
  },
  {
   "cell_type": "markdown",
   "id": "7f9239ea-c313-4f86-b36a-b9cad65d824e",
   "metadata": {},
   "source": [
    "Il existe deux façons de déclarer une DTD :\n",
    "\n",
    "- soit en écrivant les règles de contrôle à l’intérieur même du fichier XML ;\n",
    "- soit en faisant réféfence à un fichier externe (méthode privilégiée)."
   ]
  },
  {
   "cell_type": "markdown",
   "id": "966467cb-f75d-441b-8c2c-a9a2cd5fb827",
   "metadata": {},
   "source": [
    "#### Déclaration interne"
   ]
  },
  {
   "cell_type": "markdown",
   "id": "be1f71ef-a022-4dd3-b1df-c71e2268f43c",
   "metadata": {},
   "source": [
    "La liste des règles se présente dans une balise particulière `<!DOCTYPE>` qui prend pour nom l’étiquette de l’élément racine du document :\n",
    "\n",
    "```xml\n",
    "<?xml version=\"1.0\" encoding=\"utf-8\"?>\n",
    "<!DOCTYPE maGrammaire [\n",
    "    <!-- Liste des déclarations -->\n",
    "]>\n",
    "<maGrammaire/>\n",
    "```"
   ]
  },
  {
   "cell_type": "markdown",
   "id": "4e1b8bb7-68cf-4915-b237-9fcdaba36725",
   "metadata": {},
   "source": [
    "#### Déclaration externe"
   ]
  },
  {
   "cell_type": "markdown",
   "id": "f5b38be6-da42-4e53-a0e2-4ccfafbd1f41",
   "metadata": {},
   "source": [
    "Pour faire référence à un fichier externe, il suffit d’indiquer le chemin vers la DTD dans une balise `<!DOCTYPE>` :\n",
    "\n",
    "```xml\n",
    "<?xml version=\"1.0\" encoding=\"utf-8\"?>\n",
    "<!DOCTYPE maGrammaire SYSTEM \"/chemin/vers/MaGrammaire.dtd\">\n",
    "```\n",
    "\n",
    "**Remarque :** le nom de la grammaire porte toujours l’étiquette de l’élément racine."
   ]
  },
  {
   "cell_type": "markdown",
   "id": "01117cef-4cfa-4b9c-ae17-fb0605faed37",
   "metadata": {},
   "source": [
    "## Déclarer des éléments"
   ]
  },
  {
   "cell_type": "markdown",
   "id": "e613dac7-93ec-4d46-ada4-dc207230c966",
   "metadata": {},
   "source": [
    "La syntaxe de déclaration d’un élément respecte le canon suivant :\n",
    "\n",
    "```dtd\n",
    "<!ELEMENT étiquette (modèle)>\n",
    "```\n",
    "\n",
    "Il existe plusieurs modèles de contenus :\n",
    "\n",
    "- le **contenu d’élément** (seuls des éléments sont autorisés comme enfants de l’élément déclaré) ;\n",
    "- le **contenu textuel** (seul du texte est attaché à l’élément) ;\n",
    "- le **contenu mixte** (du texte et des éléments peuvent cohabiter) ;\n",
    "- le **contenu vide** (l’élément est réputé autonome) ;\n",
    "- le modèle de **contenu quelconque** (tout est autorisé)."
   ]
  },
  {
   "cell_type": "markdown",
   "id": "782ddcc0-709b-4df8-8768-42cf7842b1ca",
   "metadata": {},
   "source": [
    "### Le contenu d’élément"
   ]
  },
  {
   "cell_type": "markdown",
   "id": "e700c40f-b83b-4d25-97fb-cda2af0b67c4",
   "metadata": {},
   "source": [
    "#### Principes généraux"
   ]
  },
  {
   "cell_type": "markdown",
   "id": "43bc8483-0468-4ddf-90c6-d0151a20abd9",
   "metadata": {},
   "source": [
    "L’élément déclaré ne peut contenir que d’autres éléments. À noter que l’ordre de déclaration des éléments enfants est signifiant :\n",
    "\n",
    "```dtd\n",
    "<!ELEMENT author (firstname, lastname)>\n",
    "```\n",
    "\n",
    "Cette déclaration signifie que les éléments `<firstname>` et `<lastname>`, sans présumer de leurs modèles propres, se succèdent dans cet ordre à l’intérieur de l’élément `<author>`, comme dans :\n",
    "\n",
    "```xml\n",
    "<author>\n",
    "    <firstname/>\n",
    "    <lastname/>\n",
    "</author>\n",
    "```\n",
    "\n",
    "Des parenthèses peuvent servir à proposer des règles alternatives :\n",
    "\n",
    "```dtd\n",
    "<!ELEMENT author (\n",
    "    (firstname, lastname) | name\n",
    ")>\n",
    "```\n",
    "\n",
    "La déclaration précédente autoriserait en plus de la première la structure suivante :\n",
    "\n",
    "```xml\n",
    "<author>\n",
    "    <name/>\n",
    "</author>\n",
    "```"
   ]
  },
  {
   "cell_type": "markdown",
   "id": "67db2e8d-fc7c-4ff7-a284-737c7797ff01",
   "metadata": {},
   "source": [
    "#### Combinaisons"
   ]
  },
  {
   "cell_type": "markdown",
   "id": "6d886d87-b711-4214-883e-76c711d63dc9",
   "metadata": {},
   "source": [
    "**Opérateurs logiques :** `,` `|`\n",
    "\n",
    "**Quantificateurs :** `?` `*` `+`\n",
    "\n",
    "```dtd\n",
    "<!-- Sans suffixe : 'title' obligatoire une seule fois -->\n",
    "<!ELEMENT head (title)>\n",
    "<!-- Opérateur logique ET : 'title' et 'author' obligatoires -->\n",
    "<!ELEMENT head (title, author)>\n",
    "<!-- Opérateur logique OU : soit 'verse' soit 'line' -->\n",
    "<!ELEMENT lyrics (verse | line)>\n",
    "<!-- Quantificateur facultatif : 'duration' 0 ou 1 fois -->\n",
    "<!ELEMENT head (title, author, duration?)>\n",
    "<!-- Quantificateur facultatif multiple : 'verse' 0 ou n fois -->\n",
    "<!ELEMENT lyrics (verse*)>\n",
    "<!-- Quantificateur obligatoire : 'line' 1 fois ou plus -->\n",
    "<!ELEMENT verse (line+)>\n",
    "```"
   ]
  },
  {
   "cell_type": "markdown",
   "id": "ce2253c7-fca4-408b-b59c-a42099baacfd",
   "metadata": {},
   "source": [
    "### Le contenu textuel"
   ]
  },
  {
   "cell_type": "markdown",
   "id": "6dd4b408-3334-495d-9f4a-58f871ca5880",
   "metadata": {},
   "source": [
    "Ce modèle de contenu répond au cas de figure où seul du texte est attaché à un élément, comme dans :\n",
    "\n",
    "```xml\n",
    "<firstname>Pierre</firstname>\n",
    "```\n",
    "\n",
    "L’expression `#PCDATA` doit alors figurer comme seule possibilité :\n",
    "\n",
    "```dtd\n",
    "<!ELEMENT firstname (#PCDATA)>\n",
    "```"
   ]
  },
  {
   "cell_type": "markdown",
   "id": "a159845f-6707-4278-975a-96c79c586c7a",
   "metadata": {},
   "source": [
    "### Le contenu mixte"
   ]
  },
  {
   "cell_type": "markdown",
   "id": "98971fa4-dbd5-4ea5-a572-fac63835265d",
   "metadata": {},
   "source": [
    "La déclaration est plus permissive dans la mesure où, à l’intérieur d’un élément, peuvent cohabiter comme enfants directs du texte ou des éléments :\n",
    "\n",
    "```xml\n",
    "<author>\n",
    "    <firstname>Pierre</firstname>\n",
    "    Corneille\n",
    "</author>\n",
    "```\n",
    "\n",
    "La règle pour valider la structure précédente doit mentionner l’expression `#PCDATA` en tête du modèle et moibliser l’opérateur logique **OU** entre chacun des éléments :\n",
    "\n",
    "```dtd\n",
    "<!ELEMENT author (#PCDATA | firstname)*>\n",
    "```\n",
    "\n",
    "**Remarque :** à éviter le plus possible pour des raisons de performance et d’optimisation."
   ]
  },
  {
   "cell_type": "markdown",
   "id": "6c76b5e9-6c63-4b3e-aeab-c57c8da5b2c1",
   "metadata": {},
   "source": [
    "### Le contenu vide"
   ]
  },
  {
   "cell_type": "markdown",
   "id": "2d477a1c-c316-41aa-adc2-5a942665886d",
   "metadata": {},
   "source": [
    "Dans le cas où l’élément est autonome, lorsqu’il est prévu pour ne comporter que des attributs par exemple, il convient de le déclarer avec la clause `EMPTY` :\n",
    "\n",
    "```dtd\n",
    "<!ELEMENT audio EMPTY>\n",
    "```"
   ]
  },
  {
   "cell_type": "markdown",
   "id": "a547a8c9-18fc-4adb-84d1-10a1c9d04b72",
   "metadata": {},
   "source": [
    "### Le modèle de contenu quelconque"
   ]
  },
  {
   "cell_type": "markdown",
   "id": "34bc0a20-287f-45e4-b2b5-cf3a89639623",
   "metadata": {},
   "source": [
    "La clause `ANY` attachée à un élément permet de valider n’importe quelle structure. Il s’agit encore d’une structure à éviter autant que possible.\n",
    "\n",
    "```dtd\n",
    "<!ELEMENT audio ANY>\n",
    "```"
   ]
  },
  {
   "cell_type": "markdown",
   "id": "1510c504-7867-4399-b3fd-c3bd826d63bd",
   "metadata": {},
   "source": [
    "## Déclarer des attributs"
   ]
  },
  {
   "cell_type": "markdown",
   "id": "4743f8eb-1c84-49ca-9aaa-054d966b2b1e",
   "metadata": {},
   "source": [
    "Pour rappel, les attributs se placent dans la balise ouvrante d’un élément et se déclarent sous forme de paire `name=\"value\"` :\n",
    "\n",
    "```xml\n",
    "<song author=\"Loreena McKennitt\" title=\"The Highwayman\"/>\n",
    "```\n",
    "\n",
    "La syntaxe de déclaration des attributs respecte le schéma suivant :\n",
    "\n",
    "```dtd\n",
    "<!ATTLIST étiquette\n",
    "    attribut_1 TYPE clause\n",
    "    attribut_2 TYPE clause\n",
    ">\n",
    "```"
   ]
  },
  {
   "cell_type": "markdown",
   "id": "23ebbcf2-86b4-4882-92f4-50e35a441a04",
   "metadata": {},
   "source": [
    "### Type textuel"
   ]
  },
  {
   "cell_type": "markdown",
   "id": "90232d78-6ec0-42a0-be79-3eae93d9b58f",
   "metadata": {},
   "source": [
    "Lorsque la valeur attribuée à un attribut ne revêt aucune importance particulière, il suffit de le déclarer comme texte simple :\n",
    "\n",
    "```dtd\n",
    "<!ELEMENT song EMPTY>\n",
    "<!ATTLIST song\n",
    "    author CDATA #REQUIRED\n",
    "    title CDATA #REQUIRED\n",
    ">\n",
    "```\n",
    "\n",
    "**Rappel !** Signes `<` `&` `>` `\"` et `'` doivent être remplacés par une entité."
   ]
  },
  {
   "cell_type": "markdown",
   "id": "f8bf1d47-ba71-47af-840c-9efc5720af67",
   "metadata": {},
   "source": [
    "### Type identifiant"
   ]
  },
  {
   "cell_type": "markdown",
   "id": "1d88d551-e936-4983-ba8a-ace137efc120",
   "metadata": {},
   "source": [
    "Assez souvent, le besoin apparaît d’identifier un élément de manière unique. Dans cette éventualité, on recourt à un attribut de type `ID` :\n",
    "\n",
    "```dtd\n",
    "<!ELEMENT verse (line+)>\n",
    "<!ATTLIST verse\n",
    "    num ID #REQUIRED\n",
    ">\n",
    "```\n",
    "\n",
    "L’identifiant respecte les contraintes suivantes :\n",
    "- il est unique dans tout le document ;\n",
    "- aucun autre identifiant ne peut être attribué à un élément déjà identifié ;\n",
    "- pour des raisons de clarté, sa valeur ne peut être partagée avec un autre élément ;\n",
    "- il doit avoir un nom XML valide.\n",
    "\n",
    "Les exemples ci-dessous sont par conséquent jugés illicites :\n",
    "\n",
    "```xml\n",
    "<!-- same value! -->\n",
    "<verse num=\"n10\">\n",
    "    …\n",
    "</verse>\n",
    "<verse num=\"n10\">\n",
    "    …\n",
    "</verse>\n",
    "```\n",
    "\n",
    "```xml\n",
    "<!-- even in different elements, an ID can not appear twice -->\n",
    "<verse vID=\"n10\">\n",
    "    …\n",
    "    <line lID=\"n10\">…</line>\n",
    "</verse>\n",
    "```\n",
    "\n",
    "```xml\n",
    "<!-- if author is an ID, validation will fail! -->\n",
    "<verse num=\"v10\" author=\"a1\">\n",
    "    …\n",
    "</verse>\n",
    "```\n",
    "\n"
   ]
  },
  {
   "cell_type": "markdown",
   "id": "f1ff320b-a2a0-416b-9b77-5dc4b80eee22",
   "metadata": {},
   "source": [
    "### Type référent d’identifiant"
   ]
  },
  {
   "cell_type": "markdown",
   "id": "a634a2ad-f723-45f1-b225-1a48cbe49c4b",
   "metadata": {},
   "source": [
    "Afin de permettre de relier plusieurs éléments, il est possible de déclarer un référent d’identifiant :\n",
    "\n",
    "```dtd\n",
    "<!ELEMENT artist EMPTY>\n",
    "<!ATTLIST artist\n",
    "    tag ID #REQUIRED\n",
    ">\n",
    "<!ELEMENT song EMPTY>\n",
    "<!ATTLIST song\n",
    "    num ID #REQUIRED\n",
    "    ref_artist IDREF #REQUIRED\n",
    ">\n",
    "```\n",
    "\n",
    "Les déclarations précédentes permettent par exemple d’indiquer que l’élément identifié `loreena` est relié à l’élément identifié `c1` :\n",
    "\n",
    "```xml\n",
    "<artist tag=\"loreena\"/>\n",
    "<song num=\"c1\" ref_artist=\"loreena\"/>\n",
    "```"
   ]
  },
  {
   "cell_type": "markdown",
   "id": "de0e4dbc-3686-4df3-adc8-8bb457c0b308",
   "metadata": {},
   "source": [
    "### Type référent d’identifiants"
   ]
  },
  {
   "cell_type": "markdown",
   "id": "ab22ca7b-9b8b-456c-b52f-efc4f7945575",
   "metadata": {},
   "source": [
    "Dans le cas où plusieurs éléments devraient être reliés à un autre, il existe le type `IDREFS` :\n",
    "\n",
    "```dtd\n",
    "<!ELEMENT artist EMPTY>\n",
    "<!ATTLIST artist\n",
    "    tag ID #REQUIRED\n",
    ">\n",
    "<!ELEMENT song EMPTY>\n",
    "<!ATTLIST song\n",
    "    num ID #REQUIRED\n",
    "    artists IDREFS #REQUIRED\n",
    ">\n",
    "```\n",
    "\n",
    "À présent, plusieurs artistes peuvent être reliés à une même chanson :\n",
    "\n",
    "```xml\n",
    "<artist tag=\"bowie\"/>\n",
    "<artist tag=\"jagger\"/>\n",
    "<song num=\"c2\" artists=\"bowie jagger\"/>\n",
    "```"
   ]
  },
  {
   "cell_type": "markdown",
   "id": "85111322-06bf-4573-a5fb-1a91529e0e2e",
   "metadata": {},
   "source": [
    "### Contrôler les valeurs permises"
   ]
  },
  {
   "cell_type": "markdown",
   "id": "48e0df6d-174e-43e1-a761-64ff72a7ffb0",
   "metadata": {},
   "source": [
    "Afin d’obliger un attribut à prendre sa valeur parmi une liste contrôlée, il est possible de lister les possibilités en les combinants avec l’opérateur **OU** :\n",
    "\n",
    "```dtd\n",
    "<!ELEMENT paper EMPTY>\n",
    "<!ATTLIST paper\n",
    "    color (\n",
    "        beige | yellow | dark\n",
    "    ) \"yellow\"\n",
    ">\n",
    "```\n",
    "\n",
    "Ainsi, les structures suivantes sont autorisées :\n",
    "\n",
    "```xml\n",
    "<paper color=\"beige\"/>\n",
    "<paper/>\n",
    "```\n",
    "\n",
    "**Remarque :** dans le deuxième cas, l’attribut `color` sera considéré comme présent et avec la valeur `yellow` affectée.\n",
    "\n",
    "Sans surprise, l’apparition d’une valeur ne faisant pas partie de la liste contrôlée fera échouer la validation :\n",
    "\n",
    "```xml\n",
    "<paper color=\"red\"/>\n",
    "```"
   ]
  },
  {
   "cell_type": "markdown",
   "id": "e230a5b5-cf0a-4835-9636-0d84428c92d4",
   "metadata": {},
   "source": [
    "### Obliger ou non la présence d’un attribut"
   ]
  },
  {
   "cell_type": "markdown",
   "id": "6c8999b9-c5a0-43bf-b93a-7031230c7ff6",
   "metadata": {},
   "source": [
    "Les clauses `#REQUIRED` et `#IMPLIED` gèrent l’obligation de présence d’un attribut :\n",
    "\n",
    "```dtd\n",
    "<!ELEMENT paper EMPTY>\n",
    "<!ATTLIST paper\n",
    "    color (\n",
    "        beige | yellow | black\n",
    "    ) #REQUIRED\n",
    ">\n",
    "```\n",
    "\n",
    "Dans ce cas de figure, l’attribut `color` devra être renseigné pour tout élément `paper` et devra en plus prendre sa valeur parmi la liste contrôlée.\n",
    "\n",
    "Dans le cas ci-dessous, soit l’attribut `color` est présent et prend sa valeur parmi la liste des valeurs autorisées, soit il est permis qu’il soit absent :\n",
    "\n",
    "```dtd\n",
    "<!ELEMENT paper EMPTY>\n",
    "<!ATTLIST paper\n",
    "    color (\n",
    "        beige | yellow | black\n",
    "    ) #IMPLIED\n",
    ">\n",
    "```"
   ]
  },
  {
   "cell_type": "markdown",
   "id": "d2bad13f-1100-4cbb-9430-3e93f624358e",
   "metadata": {},
   "source": [
    "### Imposer une valeur par défaut"
   ]
  },
  {
   "cell_type": "markdown",
   "id": "0d681263-5350-4997-82e8-1cf56cce584b",
   "metadata": {},
   "source": [
    "La clause `#FIXED` permet d’imposer une valeur :\n",
    "\n",
    "```dtd\n",
    "<!ELEMENT paper EMPTY>\n",
    "<!ATTLIST paper\n",
    "    color CDATA #FIXED \"beige\"\n",
    ">\n",
    "```\n",
    "\n",
    "Si l’attribut n’est pas présent, l’analyseur XML considérera qu’on lui a affecté la valeur `beige` et, s’il est au contraire renseigné, il devra bien comporter la valeur imposée au risque de faire échouer la validation."
   ]
  },
  {
   "cell_type": "markdown",
   "id": "8fe7122c-6850-49de-9930-eeec7590a9da",
   "metadata": {},
   "source": [
    "## Les entités"
   ]
  },
  {
   "cell_type": "markdown",
   "id": "63e1819d-e6f4-46cd-8c17-3038377a32a6",
   "metadata": {},
   "source": [
    "Les entités permettent de remplacer une écriture formelle par du texte de substitution. Elles sont de quatre types :\n",
    "\n",
    "- les entités prédéfinies ;\n",
    "- les entités internes ;\n",
    "- les entités externes ;\n",
    "- les entités paramètres."
   ]
  },
  {
   "cell_type": "markdown",
   "id": "4282896e-a72c-4a7b-921f-6d6446622496",
   "metadata": {},
   "source": [
    "### Les entités prédéfinies"
   ]
  },
  {
   "cell_type": "markdown",
   "id": "d6a23159-0fe6-4f17-a29e-44fbb2419542",
   "metadata": {},
   "source": [
    "Le langage XML définit cinq entités :\n",
    "\n",
    "|Caractère|Entité|Logogramme|Unicode|Unicode hexa\n",
    "|:-|:-:|:-:|:-:|:-:|\n",
    "|*Lower than*|`&lt;`|`<`|`&#60;`|`&#x3C;`|\n",
    "|*Greater than*|`&gt;`|`>`|`&#62;`|`&#x3E;`|\n",
    "|*Ampersand*|`&amp;`|`&`|`&#38;`|`&#x26;`|\n",
    "|*Double quote*|`&quot;`|`\"`|`&#34;`|`&#x22;`|\n",
    "|*Apostroph*|`&apos;`|`'`|`&#39;`|`&#x27;`|"
   ]
  },
  {
   "cell_type": "markdown",
   "id": "ca9a9f6f-400e-4d73-9e6b-0afa9b510166",
   "metadata": {},
   "source": [
    "### Les entités internes"
   ]
  },
  {
   "cell_type": "markdown",
   "id": "872b6fb8-4d70-45ca-951c-a26c50c2681d",
   "metadata": {},
   "source": [
    "Aux entités prédéfinies, il est possible d’en déclarer de nouvelles :\n",
    "\n",
    "```dtd\n",
    "<!ENTITY bow \"David Bowie\">\n",
    "```\n",
    "\n",
    "L’entité `bow` peut ensuite être appelée directement dans le document XML :\n",
    "\n",
    "```xml\n",
    "<artist>&bow;</artist>\n",
    "```\n",
    "\n",
    "**Remarque :** une entité peut faire référence à une structure XML :\n",
    "\n",
    "```dtd\n",
    "<!ENTITY bow\n",
    "    \"<firstname>David</firstname>\n",
    "    <lastname>Bowie</lastname>\"\n",
    ">\n",
    "```"
   ]
  },
  {
   "cell_type": "markdown",
   "id": "d91ea910-e83e-4d70-84d4-57c2868ea8b2",
   "metadata": {},
   "source": [
    "### Les entités externes"
   ]
  },
  {
   "cell_type": "markdown",
   "id": "def449ef-0c17-48f7-ba02-317f9f567dfe",
   "metadata": {},
   "source": [
    "Sur le même principe, il peut parfois être pertinent de sauvegarder l’entité dans un fichier externe. Soit le fichier `bowie.xml` qui présente l’encodage suivant :\n",
    "\n",
    "```xml\n",
    "<?xml version=\"1.0\" encoding=\"utf-8\"?>\n",
    "<artist>\n",
    "    <firstname>David</firstname>\n",
    "    <lastname>Bowie</lastname>\n",
    "</artist>\n",
    "```\n",
    "\n",
    "Dans la DTD, on retrouve maintenant la déclaration de l’entité `bow` qui fait référence au fichier précédent :\n",
    "\n",
    "```dtd\n",
    "<!ENTITY bow SYSTEM \"bowie.xml\">\n",
    "```\n",
    "\n",
    "Dans le fichier validé par la DTD, il est désormais permis de simplement citer l’entité :\n",
    "\n",
    "```xml\n",
    "<album>\n",
    "    &bow;\n",
    "    <title>The Rise and Fall of Ziggy Stardust and the Spiders from Mars</title>\n",
    "</album>\n",
    "```"
   ]
  },
  {
   "cell_type": "markdown",
   "id": "b7c3d68b-0a68-4a8b-88cc-f0d98a2e6f9a",
   "metadata": {},
   "source": [
    "### Les entités paramètres"
   ]
  },
  {
   "cell_type": "markdown",
   "id": "41be1223-a34b-433a-b3b5-ccc1fed491b4",
   "metadata": {},
   "source": [
    "À la différence des entités classiques, les entités paramètres font référence à une déclaration DTD plutôt qu’à une structure XML.\n",
    "\n",
    "Considérons l’entité paramètre suivante :\n",
    "\n",
    "```dtd\n",
    "<!ENTITY % identity\n",
    "    \"<!ELEMENT firstname (#PCDATA)>\n",
    "    <!ELEMENT lastname (#PCDATA)>\"\n",
    ">\n",
    "```\n",
    "\n",
    "Plus loin dans la DTD, nous faisons référence à l’entité paramètre grâce au symbole `%` :\n",
    "\n",
    "```dtd\n",
    "<!ELEMENT artist (firstname?, lastname)>\n",
    "    %identity;\n",
    "```"
   ]
  },
  {
   "cell_type": "markdown",
   "id": "5ac5f822-b97f-4214-b27e-2a472aad058e",
   "metadata": {},
   "source": [
    "## Valider un fichier XML"
   ]
  },
  {
   "cell_type": "markdown",
   "id": "b2ef747d-cedf-41b1-b497-4852ac78b2b3",
   "metadata": {},
   "source": [
    "Un fichier XML est considéré valide s’il est à la fois **bien formé**, c’est-à-dire qu’il respecte les règles syntaxiques du format, et conforme à une grammaire de validation, qu’elle soit déclarée dans une DTD ou tout autre format."
   ]
  },
  {
   "cell_type": "markdown",
   "id": "f7bfb704-fc64-47b4-a430-a2cea700428e",
   "metadata": {},
   "source": [
    "### Vérifier la conformité syntaxique"
   ]
  },
  {
   "cell_type": "markdown",
   "id": "d224ffe3-7f36-4d5a-bd66-30053482958e",
   "metadata": {},
   "source": [
    "La librairie Python `xml.etree.ElementTree` ne propose pas de méthode pour valider un document XML. Il faut soit utiliser une autre librairie, comme `lxml`, ou passer par un utilitaire en ligne de commande :"
   ]
  },
  {
   "cell_type": "code",
   "execution_count": null,
   "id": "a0169aae-15d4-46d9-87a9-33a685ced249",
   "metadata": {},
   "outputs": [],
   "source": [
    "! xmllint ./data/library.xml"
   ]
  },
  {
   "cell_type": "markdown",
   "id": "73d958f8-3501-4ca7-b805-57b3a4621323",
   "metadata": {},
   "source": [
    "L’option `--noout` permet d’éviter l’affichage du document XML :"
   ]
  },
  {
   "cell_type": "code",
   "execution_count": null,
   "id": "9b53fe01-93d9-45a7-b782-1e27ade5671c",
   "metadata": {},
   "outputs": [],
   "source": [
    "! xmllint --noout ./data/library.xml"
   ]
  },
  {
   "cell_type": "markdown",
   "id": "4a456538-3942-43f9-8fa6-8446f893681c",
   "metadata": {},
   "source": [
    "Si un document XML n’est pas bien formé, la liste des erreurs ressort :"
   ]
  },
  {
   "cell_type": "code",
   "execution_count": null,
   "id": "887a35c0-c343-445f-926d-4cb472f227c0",
   "metadata": {},
   "outputs": [],
   "source": [
    "! xmllint --noout ./data/faulty_catalog.xml"
   ]
  },
  {
   "cell_type": "markdown",
   "id": "a2a4d1f0-b0ea-47f5-a00d-972db05cfd24",
   "metadata": {},
   "source": [
    "### Vérifier le respect des déclarations"
   ]
  },
  {
   "cell_type": "markdown",
   "id": "9ede867e-2c85-4a23-9757-42862e7df825",
   "metadata": {},
   "source": [
    "Pour valider la grammaire d’un document XML, il faut rajouter l’option `--valid` dans la mesure où un fichier de validation a été attaché au document (par exemple par une déclaration `<!DOCTYPE>`) :"
   ]
  },
  {
   "cell_type": "code",
   "execution_count": null,
   "id": "b0a598bd-925e-4e7b-9305-712696dc4324",
   "metadata": {},
   "outputs": [],
   "source": [
    "! xmllint --noout --valid ./data/catalog.xml"
   ]
  },
  {
   "cell_type": "markdown",
   "id": "ba803599-5531-4c42-b3ed-c8614bc250ad",
   "metadata": {},
   "source": [
    "**Remarque :** il convient de corriger les erreurs de syntaxe avant de procéder à la validation grammaticale.\n",
    "\n",
    "Une fois la syntaxe corrigée, on peut également faire référence à une autre DTD que celle déclarée dans le document XML :"
   ]
  },
  {
   "cell_type": "code",
   "execution_count": null,
   "id": "82dae211-7098-4fe3-b8c6-c61d2479003c",
   "metadata": {},
   "outputs": [],
   "source": [
    "! xmllint --noout --dtdvalid ./data/catalog.dtd ./data/catalog.xml"
   ]
  }
 ],
 "metadata": {
  "kernelspec": {
   "display_name": "Python 3 (ipykernel)",
   "language": "python",
   "name": "python3"
  },
  "language_info": {
   "codemirror_mode": {
    "name": "ipython",
    "version": 3
   },
   "file_extension": ".py",
   "mimetype": "text/x-python",
   "name": "python",
   "nbconvert_exporter": "python",
   "pygments_lexer": "ipython3",
   "version": "3.12.1"
  }
 },
 "nbformat": 4,
 "nbformat_minor": 5
}
