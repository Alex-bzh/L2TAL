{
 "cells": [
  {
   "cell_type": "markdown",
   "metadata": {},
   "source": [
    "# Un jeu de caractères défectif"
   ]
  },
  {
   "cell_type": "markdown",
   "metadata": {},
   "source": [
    "## Objectif"
   ]
  },
  {
   "cell_type": "markdown",
   "metadata": {},
   "source": [
    "Établissez un jeu de caractères minimal pour encoder le poème *La môme néant* (1951) de Jean Tardieu :\n",
    "\n",
    "```txt\n",
    "Quoi qu’a dit ?\n",
    "– A dit rin.\n",
    "Quoi qu’a fait ?\n",
    "– A fait rin.\n",
    "A quoi qu’a pense ?\n",
    "– A pense à rin.\n",
    "Pourquoi qu’a dit rin ?\n",
    "Pourquoi qu’a fait rin ?\n",
    "Pourquoi qu’a pense à rin ?\n",
    "– A’ xiste pas.\n",
    "```"
   ]
  },
  {
   "cell_type": "markdown",
   "metadata": {},
   "source": [
    "## Charger les données"
   ]
  },
  {
   "cell_type": "markdown",
   "metadata": {},
   "source": [
    "Le texte est disponible dans un fichier texte du dossier *data* :"
   ]
  },
  {
   "cell_type": "code",
   "execution_count": 1,
   "metadata": {},
   "outputs": [],
   "source": [
    "path_to_text = '../data/la-mome-neant.txt'"
   ]
  },
  {
   "cell_type": "markdown",
   "metadata": {},
   "source": [
    "Chargez les données dans une variable `text` :"
   ]
  },
  {
   "cell_type": "code",
   "execution_count": 2,
   "metadata": {},
   "outputs": [],
   "source": [
    "# your code here\n",
    "\n",
    "with open(path_to_text) as file:\n",
    "    text = file.read()"
   ]
  },
  {
   "cell_type": "markdown",
   "metadata": {},
   "source": [
    "Vérifiez que les données sont correctement chargées :"
   ]
  },
  {
   "cell_type": "code",
   "execution_count": 3,
   "metadata": {},
   "outputs": [
    {
     "name": "stdout",
     "output_type": "stream",
     "text": [
      "Le texte est bien chargé !\n"
     ]
    }
   ],
   "source": [
    "if len(text) == 189 and isinstance(text, str):\n",
    "    print(\"Le texte est bien chargé !\")"
   ]
  },
  {
   "cell_type": "markdown",
   "metadata": {},
   "source": [
    "## Préparer la table de conversion"
   ]
  },
  {
   "cell_type": "markdown",
   "metadata": {},
   "source": [
    "L’objectif est d’associer à chaque caractère un numéro d’ordre en base décimale et un codage binaire. Par exemple, si les caractères *h* et *w* se trouvaient dans le texte et que nous les avions placés respectivement au troisième et septième rangs de notre jeu de caractère, on les représenteraient ainsi :\n",
    "\n",
    "| character | decimal | binary  |\n",
    "|-----------|---------|---------|\n",
    "| h         | 2       | 010     |\n",
    "| w         | 6       | 110     |"
   ]
  },
  {
   "cell_type": "markdown",
   "metadata": {},
   "source": [
    "### Étape 1"
   ]
  },
  {
   "cell_type": "markdown",
   "metadata": {},
   "source": [
    "Constituez une liste des caractères uniques présents dans le poème :"
   ]
  },
  {
   "cell_type": "code",
   "execution_count": 4,
   "metadata": {},
   "outputs": [],
   "source": [
    "# your code here\n",
    "\n",
    "characters = set( [ c for c in text ] )"
   ]
  },
  {
   "cell_type": "markdown",
   "metadata": {},
   "source": [
    "Le poème doit être composé de vingt-quatre caractères différents:"
   ]
  },
  {
   "cell_type": "code",
   "execution_count": 5,
   "metadata": {},
   "outputs": [
    {
     "name": "stdout",
     "output_type": "stream",
     "text": [
      "Résultat correct !\n"
     ]
    }
   ],
   "source": [
    "if len(characters) == 24:\n",
    "    print(\"Résultat correct !\")"
   ]
  },
  {
   "cell_type": "markdown",
   "metadata": {},
   "source": [
    "### Étape 2"
   ]
  },
  {
   "cell_type": "markdown",
   "metadata": {},
   "source": [
    "Sachant qu’un bit ne peut représenter que deux caractères, enregistrez dans une variable `n` le nombre nécessaire pour afficher la totalité des caractères du poème :"
   ]
  },
  {
   "cell_type": "code",
   "execution_count": 6,
   "metadata": {},
   "outputs": [],
   "source": [
    "# your code here\n",
    "\n",
    "from math import ceil, log2\n",
    "\n",
    "nb_chars = len(characters)\n",
    "n = ceil(log2(nb_chars))\n",
    "\n",
    "# or\n",
    "n = len(f\"{nb_chars - 1:b}\")"
   ]
  },
  {
   "cell_type": "code",
   "execution_count": 14,
   "metadata": {},
   "outputs": [
    {
     "data": {
      "text/plain": [
       "5"
      ]
     },
     "execution_count": 14,
     "metadata": {},
     "output_type": "execute_result"
    }
   ],
   "source": [
    "ceil(log2(27))"
   ]
  },
  {
   "cell_type": "code",
   "execution_count": 16,
   "metadata": {},
   "outputs": [
    {
     "data": {
      "text/plain": [
       "256"
      ]
     },
     "execution_count": 16,
     "metadata": {},
     "output_type": "execute_result"
    }
   ],
   "source": [
    "2 ** 8"
   ]
  },
  {
   "cell_type": "markdown",
   "metadata": {},
   "source": [
    "Constituez à présent une liste `bits` de tous les *n* bits qui seront nécessaires pour encoder le poème :"
   ]
  },
  {
   "cell_type": "code",
   "execution_count": 7,
   "metadata": {},
   "outputs": [],
   "source": [
    "# your code here\n",
    "\n",
    "bits = [ f\"{idx:0{n}b}\" for idx, c in enumerate(characters) ]"
   ]
  },
  {
   "cell_type": "markdown",
   "metadata": {},
   "source": [
    "Fusionnez ensuite la liste des caractères et celle des représentations binaires afin d’obtenir une liste de tuples. Par exemple, pour nos caractères *h* et *w*, nous aurions :\n",
    "\n",
    "```python\n",
    "[('h', '010'), ('w', '110')]\n",
    "```"
   ]
  },
  {
   "cell_type": "code",
   "execution_count": 8,
   "metadata": {},
   "outputs": [],
   "source": [
    "# your code here\n",
    "\n",
    "character_set = zip(characters, bits)"
   ]
  },
  {
   "cell_type": "markdown",
   "metadata": {},
   "source": [
    "Dans un dernier temps, convertissez votre liste de tuples en dictionnaire."
   ]
  },
  {
   "cell_type": "code",
   "execution_count": 9,
   "metadata": {},
   "outputs": [],
   "source": [
    "# your code here\n",
    "\n",
    "character_set = dict(character_set)"
   ]
  },
  {
   "cell_type": "markdown",
   "metadata": {},
   "source": [
    "## Convertir le poème en bits"
   ]
  },
  {
   "cell_type": "markdown",
   "metadata": {},
   "source": [
    "Grâce à votre table de conversion, encodez le poème selon votre jeu de caractères personnalisé :"
   ]
  },
  {
   "cell_type": "code",
   "execution_count": 10,
   "metadata": {},
   "outputs": [
    {
     "name": "stdout",
     "output_type": "stream",
     "text": [
      "001100100010000000010010101011010001011110110001011001100001011010010101100011111000100101000100010110011000010110100101010010000101010000110111100110010001000000001001010101101000101111011000101000001011000001011010010101100011111000100101000100010100000101100000101101001010100100001010100001101111000100010101011010001000000001001010101101000101111011000101100101010001010011101010000101011000111110001001010001000101100101010001010011101010000101001000010101001000010101000011011111010110000010000100101011010001000000001001010101101000101111011000101100110000101101001010100100001010100010101100011111010110000010000100101011010001000000001001010101101000101111011000101000001011000001011010010101001000010101000101011000111110101100000100001001010110100010000000010010101011010001011110110001011001010100010100111010100001010010000101010010000101010001010110001111100010010100010101110010100111000010111001101101000010110010101100111000011"
     ]
    }
   ],
   "source": [
    "# your code here\n",
    "\n",
    "for c in text:\n",
    "    print(character_set[c], end=\"\")"
   ]
  }
 ],
 "metadata": {
  "kernelspec": {
   "display_name": "Python 3 (ipykernel)",
   "language": "python",
   "name": "python3"
  },
  "language_info": {
   "codemirror_mode": {
    "name": "ipython",
    "version": 3
   },
   "file_extension": ".py",
   "mimetype": "text/x-python",
   "name": "python",
   "nbconvert_exporter": "python",
   "pygments_lexer": "ipython3",
   "version": "3.12.1"
  }
 },
 "nbformat": 4,
 "nbformat_minor": 4
}
