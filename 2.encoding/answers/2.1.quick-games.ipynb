{
 "cells": [
  {
   "cell_type": "markdown",
   "id": "3f9744b2-b675-40b6-9a0b-e948c2ff9709",
   "metadata": {},
   "source": [
    "# Des petits jeux au gros caractère"
   ]
  },
  {
   "cell_type": "markdown",
   "id": "a0befb2f-902b-45f0-b718-18124a0118dc",
   "metadata": {},
   "source": [
    "## La disparition"
   ]
  },
  {
   "cell_type": "markdown",
   "id": "4bead31e-6b28-486b-b849-c8a7fee2fb65",
   "metadata": {},
   "source": [
    "Est-il possible d’encoder la phrase « *Jak się czujesz?* » en ASCII ?"
   ]
  },
  {
   "cell_type": "code",
   "execution_count": null,
   "id": "4c30a319-ff84-4db0-98a7-a51a53d2c12e",
   "metadata": {},
   "outputs": [],
   "source": [
    "# your code here\n",
    "\n",
    "# no\n",
    "! echo \"Jak się czujesz?\" | iconv -t ASCII"
   ]
  },
  {
   "cell_type": "markdown",
   "id": "b2bf8957-a933-4e0a-93f1-79e2176bb9f9",
   "metadata": {},
   "source": [
    "Et en latin-1 ?"
   ]
  },
  {
   "cell_type": "code",
   "execution_count": null,
   "id": "cf272464-003c-4701-905b-ec484657a64d",
   "metadata": {},
   "outputs": [],
   "source": [
    "# your code here\n",
    "\n",
    "# no\n",
    "! echo \"Jak się czujesz?\" | iconv -t LATIN1"
   ]
  },
  {
   "cell_type": "markdown",
   "id": "6093265c-9a94-447e-9f6b-c9e4ef5fe7ea",
   "metadata": {},
   "source": [
    "## Des lettres jumelles"
   ]
  },
  {
   "cell_type": "markdown",
   "id": "3a9897aa-595c-4c0d-b69e-5dc4b00877a8",
   "metadata": {},
   "source": [
    "Les deux caractères ci-dessous sont-ils identiques ?"
   ]
  },
  {
   "cell_type": "code",
   "execution_count": null,
   "id": "67294d0a-3b76-44a9-9d48-c35faf3658bc",
   "metadata": {},
   "outputs": [],
   "source": [
    "! echo \"à͏\"\n",
    "! echo \"à\""
   ]
  },
  {
   "cell_type": "markdown",
   "id": "74942375-6c91-4145-9567-072cc3c96155",
   "metadata": {},
   "source": [
    "> Your answer here\n",
    "> \n",
    "> No: the first character needs four bytes (c3 a0 cd 8f) to be printed correctly while the second one needs only two (c3 a0)"
   ]
  },
  {
   "cell_type": "markdown",
   "id": "fae184a8-d18f-431d-9e0e-db4966235342",
   "metadata": {},
   "source": [
    "## Un poème récalcitrant"
   ]
  },
  {
   "cell_type": "markdown",
   "id": "5d9d3190-dacb-4a44-96ba-94de1ade167d",
   "metadata": {},
   "source": [
    "Voici l’un des plus célèbres haïku de Matsuo Bashō :"
   ]
  },
  {
   "cell_type": "code",
   "execution_count": null,
   "id": "7a0e2535-82c7-4881-aead-645a77cc195a",
   "metadata": {},
   "outputs": [],
   "source": [
    "! cat ../data/haiku.gb18030.txt"
   ]
  },
  {
   "cell_type": "markdown",
   "id": "76331322-7310-4374-87ee-8e221cb0a93c",
   "metadata": {},
   "source": [
    "Tentez de découvrir ce qu’il cache !"
   ]
  },
  {
   "cell_type": "code",
   "execution_count": null,
   "id": "5a023fd2-ed8f-4650-942f-abd050bb5d1b",
   "metadata": {},
   "outputs": [],
   "source": [
    "# your code here\n",
    "\n",
    "! iconv -f GB18030 < ../data/haiku.gb18030.txt"
   ]
  },
  {
   "cell_type": "markdown",
   "id": "f42fbbcb-2364-48c5-8812-93f0462742b6",
   "metadata": {},
   "source": [
    "## Un byte fantôme dans le terminal"
   ]
  },
  {
   "cell_type": "markdown",
   "id": "9f822f6d-253f-4553-9a90-e4b89e2e0e81",
   "metadata": {},
   "source": [
    "Commencez par afficher la table des caractères ASCII :"
   ]
  },
  {
   "cell_type": "code",
   "execution_count": null,
   "id": "56f91909-7366-4a00-a2aa-930d3bd2f56a",
   "metadata": {},
   "outputs": [],
   "source": [
    "! ascii"
   ]
  },
  {
   "cell_type": "markdown",
   "id": "3a5c8ec2-c817-4134-bc5a-15c41c1fd6d6",
   "metadata": {},
   "source": [
    "Complétez maintenant le code ci-dessous pour obtenir le nombre de bytes du message :"
   ]
  },
  {
   "cell_type": "code",
   "execution_count": null,
   "id": "a62b1b70-55e5-4c87-9a94-4cf61024fb10",
   "metadata": {},
   "outputs": [],
   "source": [
    "! echo \"été\" | wc -c # your code here"
   ]
  },
  {
   "cell_type": "markdown",
   "id": "71a4a9c7-1b92-4b73-9e82-04ad7b61de1f",
   "metadata": {},
   "source": [
    "Expliquez pourquoi vous en trouvez beaucoup trop :"
   ]
  },
  {
   "cell_type": "markdown",
   "id": "889c5a5c-daae-47e9-934c-b6069c35c5e4",
   "metadata": {},
   "source": [
    "> Your answer here\n",
    ">\n",
    "> The last byte is 00001010, the 11th character in the ASCII table which is associated to the line feed."
   ]
  }
 ],
 "metadata": {
  "kernelspec": {
   "display_name": "Python 3 (ipykernel)",
   "language": "python",
   "name": "python3"
  },
  "language_info": {
   "codemirror_mode": {
    "name": "ipython",
    "version": 3
   },
   "file_extension": ".py",
   "mimetype": "text/x-python",
   "name": "python",
   "nbconvert_exporter": "python",
   "pygments_lexer": "ipython3",
   "version": "3.12.1"
  }
 },
 "nbformat": 4,
 "nbformat_minor": 5
}
