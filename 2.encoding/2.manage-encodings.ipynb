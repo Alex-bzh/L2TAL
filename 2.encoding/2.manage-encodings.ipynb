{
 "cells": [
  {
   "cell_type": "markdown",
   "id": "ae09d46b-5dba-432e-a5f8-b0c513602602",
   "metadata": {},
   "source": [
    "# Gérer l’encodage des caractères avec une ILC"
   ]
  },
  {
   "cell_type": "markdown",
   "id": "a2d2e42c-b354-4b1f-9d3d-a09c58c4a915",
   "metadata": {},
   "source": [
    "Le *shell* d’un système tente toujours d’interpréter ce qui est envoyé dans la sortie standard avec le jeu de caractères UTF-8. S’il en est incapable, plutôt que de renvoyer une erreur, il va tenter de substituer un caractère.\n",
    "\n",
    "Essayons de lire le fichier *ete.txt* depuis un terminal :"
   ]
  },
  {
   "cell_type": "code",
   "execution_count": null,
   "id": "6a66dd50-dacf-475d-aaff-e78faa1a9852",
   "metadata": {},
   "outputs": [],
   "source": [
    "! cat data/ete.utf8.txt"
   ]
  },
  {
   "cell_type": "markdown",
   "id": "4145fb1f-f9a3-4a2e-9d6d-c530ada2fa52",
   "metadata": {},
   "source": [
    "Le mot compte trois caractères mais cinq bytes :"
   ]
  },
  {
   "cell_type": "code",
   "execution_count": null,
   "id": "a2842ec5-181d-4bb9-88ea-3a09fa8207b1",
   "metadata": {},
   "outputs": [],
   "source": [
    "! cat data/ete.utf8.txt | wc -m && cat data/ete.utf8.txt | wc -c"
   ]
  },
  {
   "cell_type": "markdown",
   "id": "75dcc51e-ae2f-4163-a6ae-1f3ff3f440ab",
   "metadata": {},
   "source": [
    "Une représentation en binaire du fichier permet de révéler les cinq octets :"
   ]
  },
  {
   "cell_type": "code",
   "execution_count": null,
   "id": "21018fcb-9db4-40ff-9108-3c8b98c132e9",
   "metadata": {},
   "outputs": [],
   "source": [
    "! cat data/ete.utf8.txt | xxd -b"
   ]
  },
  {
   "cell_type": "markdown",
   "id": "0e0fbca5-f407-4f1a-a2fb-628da95cfe7e",
   "metadata": {},
   "source": [
    "Pour ces cinq octets, l’utilitaire `xxd` nous apprend qu’il n’a de représentation possible en ASCII ni pour les deux premiers ni pour les deux derniers."
   ]
  },
  {
   "cell_type": "markdown",
   "id": "5dfe9c1b-9508-47de-900c-6856ac7a1d9c",
   "metadata": {},
   "source": [
    "## Détecter l’encodage d’un fichier"
   ]
  },
  {
   "cell_type": "markdown",
   "id": "695b7dfd-0b44-42d9-b259-a0a666a8e0e9",
   "metadata": {},
   "source": [
    "L’utilitaire `file` associé à l’option `-I` permet de déduire l’encodage d’un fichier :"
   ]
  },
  {
   "cell_type": "code",
   "execution_count": null,
   "id": "b7512fc3-e5d5-45dd-b503-e7dc070a8c15",
   "metadata": {},
   "outputs": [],
   "source": [
    "! file -I data/ete.utf8.txt\n",
    "! file -I data/ete.latin1.txt"
   ]
  },
  {
   "cell_type": "markdown",
   "id": "c02678c8-9e29-4ecc-925f-25f96bb85773",
   "metadata": {},
   "source": [
    "## Modifier l’encodage d’un fichier"
   ]
  },
  {
   "cell_type": "markdown",
   "id": "78081386-656e-4221-a3aa-c363624488ba",
   "metadata": {},
   "source": [
    "Quand le décodage natif du *shell* en UTF-8 ne permet pas d’afficher correctement le message, il devient utile de se servir d’outils pour le décoder correctement. L’utilitaire `iconv` est ainsi prévu pour modifier l’encodage d’un fichier. Le fichier suivant n’est pas lu correctement par le *shell* car encodé en LATIN-1 :"
   ]
  },
  {
   "cell_type": "code",
   "execution_count": null,
   "id": "033768b2-0a17-4567-bf07-07e5a1db1804",
   "metadata": {},
   "outputs": [],
   "source": [
    "! cat data/ete.latin1.txt"
   ]
  },
  {
   "cell_type": "markdown",
   "id": "bdb109f4-a955-487d-990f-bcafe6751273",
   "metadata": {},
   "source": [
    "Avec l’option `-f` on précise depuis quel encodage le traiter :"
   ]
  },
  {
   "cell_type": "code",
   "execution_count": null,
   "id": "33f87841-fd70-4901-a325-52441db338dd",
   "metadata": {},
   "outputs": [],
   "source": [
    "! iconv -f LATIN1 data/ete.latin1.txt"
   ]
  },
  {
   "cell_type": "markdown",
   "id": "912e7b34-49b0-4ef3-af3e-f1bbda563b22",
   "metadata": {},
   "source": [
    "Si le décodage avec le jeu de caractères préconisé est impossible, une erreur est renvoyée :"
   ]
  },
  {
   "cell_type": "code",
   "execution_count": null,
   "id": "4593758a-6abb-4747-9b37-32029b66ff1f",
   "metadata": {},
   "outputs": [],
   "source": [
    "! iconv -f ASCII data/ete.latin1.txt"
   ]
  },
  {
   "cell_type": "markdown",
   "id": "3a6a20c9-a98b-4347-b2d5-cf87c7dccd53",
   "metadata": {},
   "source": [
    "La liste des jeux de caractères est disponible avec l’option `-l` :"
   ]
  },
  {
   "cell_type": "code",
   "execution_count": null,
   "id": "e2fefcef-4f93-445b-b8bc-866039fe1845",
   "metadata": {},
   "outputs": [],
   "source": [
    "! iconv -l"
   ]
  },
  {
   "cell_type": "markdown",
   "id": "f078357b-3d24-4131-978d-d6e694eb57c3",
   "metadata": {},
   "source": [
    "Demander à décoder un message avec un mauvais jeu de caractères peut amener à représenter les octets avec les mauvais caractères :"
   ]
  },
  {
   "cell_type": "code",
   "execution_count": null,
   "id": "3dd8f9c2-308a-442b-85ff-e8333bedb563",
   "metadata": {},
   "outputs": [],
   "source": [
    "! iconv -f LATIN1 data/ete.utf8.txt"
   ]
  },
  {
   "cell_type": "markdown",
   "id": "ac132877-6cd3-437b-8b32-6898aa47a8ac",
   "metadata": {},
   "source": [
    "L’option `-t` sert quant à elle à préciser vers quel encodage convertir un fichier :"
   ]
  },
  {
   "cell_type": "code",
   "execution_count": null,
   "id": "cc5bc671-7564-4837-b111-78cbdbbb6284",
   "metadata": {},
   "outputs": [],
   "source": [
    "! iconv -t ARABIC data/ete.latin1.txt > data/ete.arabic.txt\n",
    "! iconv -f ARABIC -t ARABIC data/ete.latin1.txt > data/ete.arabic.txt\n",
    "! cat data/ete.arabic.txt\n",
    "! iconv -f ARABIC data/ete.arabic.txt"
   ]
  },
  {
   "cell_type": "markdown",
   "id": "67595a89-7a40-439f-92a7-6a9420104473",
   "metadata": {},
   "source": [
    "## Comparer des caractères"
   ]
  },
  {
   "cell_type": "markdown",
   "id": "5844ecc1-a2cf-4366-9551-4caf5df526da",
   "metadata": {},
   "source": [
    "Les caractères *î* et *î* semblent parfaitement similaires à l’affichage :"
   ]
  },
  {
   "cell_type": "code",
   "execution_count": null,
   "id": "cb2d09d5-d53d-47af-9f60-b5616a5170d5",
   "metadata": {},
   "outputs": [],
   "source": [
    "! echo \"î\"\n",
    "! echo \"î\" | iconv -f LATIN1 -t LATIN1"
   ]
  },
  {
   "cell_type": "markdown",
   "id": "c16e869d-9482-4fdb-93e0-37174001a34b",
   "metadata": {},
   "source": [
    "Et pourtant ils proviennent de deux encodages différents : l’UTF-8 et l’ISO-8859-1. Avec la commande `hexdump`, on peut révéler leurs différences sous-jacentes :"
   ]
  },
  {
   "cell_type": "code",
   "execution_count": null,
   "id": "e82d229f-6593-41da-a9e4-5f85ec127b9d",
   "metadata": {},
   "outputs": [],
   "source": [
    "! echo \"î\" | hexdump -C\n",
    "! echo \"î\" | iconv -f LATIN1 | hexdump -C"
   ]
  },
  {
   "cell_type": "markdown",
   "id": "f10a3673-45b1-4ab6-a953-c333b4d11f70",
   "metadata": {},
   "source": [
    "En ISO-8859-1, quatre octets sont nécessaires pour le coder quand deux suffisent en UTF-8. Si on tente de le convertir en UTF-8, on observe que le système a souhaité afficher deux caractères :"
   ]
  },
  {
   "cell_type": "code",
   "execution_count": null,
   "id": "827982c7-5a96-4c14-bebc-4781f532815a",
   "metadata": {},
   "outputs": [],
   "source": [
    "! echo \"î\" | iconv -f LATIN1 -t UTF8"
   ]
  },
  {
   "cell_type": "markdown",
   "id": "41be3c19-4976-4aa3-9199-58e59f2a08a9",
   "metadata": {},
   "source": [
    "En UTF-8, le code hexadécimal du caractère *î* est `c3 ae` quand il est `c3 83 c2 ae` en ISO-8859-1. Que se passe-t-il en réalité ? En fait, quand nous avons affirmé plus haut que quatre octets étaient nécessaires pour coder le caractère *î* en ISO-8859-1, nous avons commis une faute d’appréciation. En vérité, le système a eu besoin de quatre octets pour afficher dans la sortie standard, qui elle est en UTF-8, l’interprétation du caractère selon le jeu ISO-8859-1. Or, le résultat de l’interprétation avait bien été faite sur deux caractères : *Ã®*.\n",
    "\n",
    "D’où proviennent ces caractères ? Le système les a sans surprise récupérés dans le jeu ISO-8859-1 comme indiqué. Dans ce jeu, le code `c3` correspond au caractère *Ã* et le code `ae` au caractère *®*. Si nous tentons d’afficher en UTF-8 le résultat de la conversion de ces caractères de l’UTF-8 vers l’ISO-8859-1, nous retrouvons bien notre caractère :"
   ]
  },
  {
   "cell_type": "code",
   "execution_count": null,
   "id": "8cab784f-2f0d-4ec2-ab28-07ebad98948d",
   "metadata": {},
   "outputs": [],
   "source": [
    "! echo \"Ã®\" | iconv -f UTF8 -t LATIN1"
   ]
  }
 ],
 "metadata": {
  "kernelspec": {
   "display_name": "Python 3 (ipykernel)",
   "language": "python",
   "name": "python3"
  },
  "language_info": {
   "codemirror_mode": {
    "name": "ipython",
    "version": 3
   },
   "file_extension": ".py",
   "mimetype": "text/x-python",
   "name": "python",
   "nbconvert_exporter": "python",
   "pygments_lexer": "ipython3",
   "version": "3.12.1"
  }
 },
 "nbformat": 4,
 "nbformat_minor": 5
}
