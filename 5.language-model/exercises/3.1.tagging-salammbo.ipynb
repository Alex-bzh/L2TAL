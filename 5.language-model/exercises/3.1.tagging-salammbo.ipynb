{
 "cells": [
  {
   "cell_type": "markdown",
   "id": "84afbb71-9180-49d1-80e5-657a40a69869",
   "metadata": {},
   "source": [
    "# Profession tageur·euse"
   ]
  },
  {
   "cell_type": "markdown",
   "id": "1b44009f-bc47-4b8a-ac6c-728cfa7b4ef2",
   "metadata": {},
   "source": [
    "Taguer *Salammbô*… son auteur aurait-il apprécié le sacrilège ? L’objectif est d’étiqueter le fichier *salammbo.txt* qui se trouve dans le répertoire *data* et de l’enregistrer dans ce même répertoire."
   ]
  },
  {
   "cell_type": "code",
   "execution_count": null,
   "id": "d4b9bb2d-9a57-491d-a21e-0a68906825cf",
   "metadata": {},
   "outputs": [],
   "source": [
    "# your code here"
   ]
  }
 ],
 "metadata": {
  "kernelspec": {
   "display_name": "Python 3 (ipykernel)",
   "language": "python",
   "name": "python3"
  },
  "language_info": {
   "codemirror_mode": {
    "name": "ipython",
    "version": 3
   },
   "file_extension": ".py",
   "mimetype": "text/x-python",
   "name": "python",
   "nbconvert_exporter": "python",
   "pygments_lexer": "ipython3",
   "version": "3.10.6"
  }
 },
 "nbformat": 4,
 "nbformat_minor": 5
}
