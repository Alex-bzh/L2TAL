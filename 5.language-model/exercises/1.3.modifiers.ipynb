{
 "cells": [
  {
   "cell_type": "markdown",
   "id": "0c87c3a8-dc70-4dd7-819e-2f5fa59fc578",
   "metadata": {},
   "source": [
    "# La modification"
   ]
  },
  {
   "cell_type": "markdown",
   "id": "99bf7b5b-1279-4bec-b397-520a917d1e65",
   "metadata": {},
   "source": [
    "Vous analysez deux langues : A et B. Pour chacune de ces langues, vous avez relevé des structures où un nom est modifié soit par un autre nom soit par un adjectif. Leur position peut être située avant ou après le nom qu’ils modifient. Vous avez retenu 1200 adjectifs et 800 noms dans chaque langue.\n",
    "\n",
    "Soit les fréquences suivantes pour la langue A :\n",
    "\n",
    "||ADJ|N|Total|\n",
    "|:-|:-:|:-:|:-:|\n",
    "|Prénominal|325|50|375|\n",
    "|Postnominal|875|750|1625|\n",
    "|**Total**|1200|800|2000|\n",
    "\n",
    "Et pour la langue B :\n",
    "\n",
    "||ADJ|N|Total|\n",
    "|:-|:-:|:-:|:-:|\n",
    "|Prénominal|732|412|1144|\n",
    "|Postnominal|468|388|856|\n",
    "|**Total**|1200|800|2000|"
   ]
  },
  {
   "cell_type": "markdown",
   "id": "c8a9dfe0-b262-4df1-b138-f3d73f30ea9f",
   "metadata": {},
   "source": [
    "## Questions"
   ]
  },
  {
   "cell_type": "markdown",
   "id": "cbd2bda6-41e3-49c5-b2c7-5d5d3af48411",
   "metadata": {},
   "source": [
    "1. Calculez $P(ADJ)$ afin de déterminer dans quelle langue il est plus probable de rencontrer un adjectif."
   ]
  },
  {
   "cell_type": "markdown",
   "id": "7b4f96f5-d074-4e7c-86ce-e802894b6798",
   "metadata": {},
   "source": [
    "> *Your answer here*"
   ]
  },
  {
   "cell_type": "markdown",
   "id": "b739d938-3dd7-4eba-891d-0a04dccef43a",
   "metadata": {},
   "source": [
    "2. Dans quelle langue est-il plus probable de rencontrer un adjectif en position postnominale ?"
   ]
  },
  {
   "cell_type": "markdown",
   "id": "40a3bc58-76f0-4b89-9154-586e9fd4d7d2",
   "metadata": {},
   "source": [
    "> *Your answer here*"
   ]
  },
  {
   "cell_type": "markdown",
   "id": "57e19ff2-e0db-4cfa-be55-6d023e621a78",
   "metadata": {},
   "source": [
    "3. Déterminez $P(Pré|N)$ pour la langue B en vous fondant uniquement sur les effectifs."
   ]
  },
  {
   "cell_type": "markdown",
   "id": "a4adc026-3001-40ed-ad5a-6e85ff01565d",
   "metadata": {},
   "source": [
    "> *Your answer here*"
   ]
  },
  {
   "cell_type": "markdown",
   "id": "86777321-9772-418e-a629-dab7de2eac47",
   "metadata": {},
   "source": [
    "4. Toujours pour la langue B, calculez maintenant $P(N|Pré)$ en utilisant le théorème de Bayes."
   ]
  },
  {
   "cell_type": "markdown",
   "id": "ab61ce8b-6203-4803-bd81-e3219dbbec2a",
   "metadata": {},
   "source": [
    "> *Your answer here*"
   ]
  }
 ],
 "metadata": {
  "kernelspec": {
   "display_name": "Python 3 (ipykernel)",
   "language": "python",
   "name": "python3"
  },
  "language_info": {
   "codemirror_mode": {
    "name": "ipython",
    "version": 3
   },
   "file_extension": ".py",
   "mimetype": "text/x-python",
   "name": "python",
   "nbconvert_exporter": "python",
   "pygments_lexer": "ipython3",
   "version": "3.11.8"
  }
 },
 "nbformat": 4,
 "nbformat_minor": 5
}
