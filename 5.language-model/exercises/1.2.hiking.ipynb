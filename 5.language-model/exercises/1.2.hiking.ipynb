{
 "cells": [
  {
   "cell_type": "markdown",
   "id": "6d19a919-1e02-403d-a4ca-90e33e675725",
   "metadata": {},
   "source": [
    "# En randonnée"
   ]
  },
  {
   "cell_type": "markdown",
   "id": "e49391f9-0a8c-4289-a305-2342ae559f6e",
   "metadata": {},
   "source": [
    "## Énoncé"
   ]
  },
  {
   "cell_type": "markdown",
   "id": "9b58be77-8f57-42c3-a85a-b0f34a5c2f6d",
   "metadata": {},
   "source": [
    "Soit la phrase suivante :\n",
    "\n",
    "> Paul, le jeune étudiant talentueux, aime explorer les vastes montagnes verdoyantes.\n",
    "\n",
    "Après les phases de tokenisation et d’étiquetage, vous obtenez le résultat suivant :\n",
    "\n",
    "```mermaid\n",
    "flowchart TB\n",
    "    A(\"Paul\"):::formal-->At[\"N\"]:::academic\n",
    "    B(\",\"):::formal-->Bt[\"PONCT\"]:::academic\n",
    "    C(\"le\"):::formal-->Ct[\"DET\"]:::academic\n",
    "    D(\"jeune\"):::formal-->Dt[\"ADJ\"]:::academic\n",
    "    E(\"étudiant\"):::formal-->Et[\"N\"]:::academic\n",
    "    F(\"talentueux\"):::formal-->Ft[\"ADJ\"]:::academic\n",
    "    G(\",\"):::formal-->Gt[\"PONCT\"]:::academic\n",
    "    H(\"aime\"):::formal-->Ht[\"V\"]:::academic\n",
    "    I(\"explorer\"):::formal-->It[\"V\"]:::academic\n",
    "    J(\"les\"):::formal-->Jt[\"DET\"]:::academic\n",
    "    K(\"vastes\"):::formal-->Kt[\"ADJ\"]:::academic\n",
    "    L(\"montagnes\"):::formal-->Lt[\"N\"]:::academic\n",
    "    M(\"verdoyantes\"):::formal-->Mt[\"ADJ\"]:::academic\n",
    "    N(\".\"):::formal-->Nt[\"PONCT\"]:::academic\n",
    "    classDef formal fill:#fff,stroke:#D68738,color:#D68738\n",
    "    classDef academic fill:#032B4F,stroke:#032B4F,color:#fff\n",
    "```"
   ]
  },
  {
   "cell_type": "markdown",
   "id": "5efda4d2-5d47-4092-8950-855fe8bab917",
   "metadata": {},
   "source": [
    "## Questions"
   ]
  },
  {
   "cell_type": "markdown",
   "id": "6a2fadae-f519-4fe3-9f5a-a958ce739e30",
   "metadata": {},
   "source": [
    "1. Dans une situation d’équiprobabilité des tokens, quelle est la probabilité de réalisation de l’évènement *Paul* ?"
   ]
  },
  {
   "cell_type": "markdown",
   "id": "0d47d97e-e1a9-4a40-b4db-52ef9431a681",
   "metadata": {},
   "source": [
    "> *Your answer here*"
   ]
  },
  {
   "cell_type": "markdown",
   "id": "33387afd-0eee-490a-8b74-3843aaf0e4a9",
   "metadata": {},
   "source": [
    "2. Quelle est la probabilité de l’évènement *ADJ* ?"
   ]
  },
  {
   "cell_type": "markdown",
   "id": "f09277e9-aa86-4cb6-8ec4-8b620da8f312",
   "metadata": {},
   "source": [
    "> *Your answer here*"
   ]
  },
  {
   "cell_type": "markdown",
   "id": "f3d92007-7776-4c80-af38-3205e55a548b",
   "metadata": {},
   "source": [
    "3. Quelle est la probabilité de l’évènement $\\lnot{ADJ}$ ?"
   ]
  },
  {
   "cell_type": "markdown",
   "id": "1464c286-3903-4d02-8484-38430166454c",
   "metadata": {},
   "source": [
    "> *Your answer here*"
   ]
  },
  {
   "cell_type": "markdown",
   "id": "632751c2-6958-495f-ba73-c73023c2ed19",
   "metadata": {},
   "source": [
    "4. Étant considérés comme indépendants, quelle est la probabilité de l’évènement *ADJ* puis de l’évènement *N* ?"
   ]
  },
  {
   "cell_type": "markdown",
   "id": "ef247046-44ef-4c24-a782-ede2780704f5",
   "metadata": {},
   "source": [
    "> *Your answer here*"
   ]
  },
  {
   "cell_type": "markdown",
   "id": "47b4c70a-d635-47bb-9832-9b125b6bdf10",
   "metadata": {},
   "source": [
    "5. Et quelle serait la probabilité de l’évènement *ADJ N* ?"
   ]
  },
  {
   "cell_type": "markdown",
   "id": "ba091b7c-ed88-4310-94c9-341ecd0865a7",
   "metadata": {},
   "source": [
    "> *Your answer here*"
   ]
  }
 ],
 "metadata": {
  "kernelspec": {
   "display_name": "Python 3 (ipykernel)",
   "language": "python",
   "name": "python3"
  },
  "language_info": {
   "codemirror_mode": {
    "name": "ipython",
    "version": 3
   },
   "file_extension": ".py",
   "mimetype": "text/x-python",
   "name": "python",
   "nbconvert_exporter": "python",
   "pygments_lexer": "ipython3",
   "version": "3.11.8"
  }
 },
 "nbformat": 4,
 "nbformat_minor": 5
}
