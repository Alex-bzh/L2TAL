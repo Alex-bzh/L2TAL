{
 "cells": [
  {
   "cell_type": "markdown",
   "id": "8522aeba-93ef-4f2a-b268-d481c1ececa3",
   "metadata": {},
   "source": [
    "# Exercices typiques"
   ]
  },
  {
   "cell_type": "markdown",
   "id": "837a2961-4cd1-46ed-845f-a865cea56879",
   "metadata": {},
   "source": [
    "## Un lancer de dé"
   ]
  },
  {
   "cell_type": "markdown",
   "id": "72acc349-65f6-4ab1-a869-ed56820771ef",
   "metadata": {},
   "source": [
    "Soit un dé à six faces parfaitement équilibré. Quelle est la probabilité d’obtenir un six avec un lancer ? Et d’obtenir un nombre pair ?"
   ]
  },
  {
   "cell_type": "markdown",
   "id": "68d9a4ca-1b4b-4498-94c3-9cd8d36f8dbf",
   "metadata": {},
   "source": [
    "## Un jeu de cartes"
   ]
  },
  {
   "cell_type": "markdown",
   "id": "d3e4c2b2-a3e9-4e8f-a150-f2a5c4589853",
   "metadata": {},
   "source": [
    "Soit trois figures extraites d’un jeu de cartes : un valet (V), une dame (D), un roi (R), déclinées dans les quatre couleurs (♥♦♠♣). Quelle est la probabilité d’obtenir le tirage *V* ? Et *R♣* ? *D♥* ou *D♦* ?"
   ]
  },
  {
   "cell_type": "markdown",
   "id": "1e0f0ec5-72d0-49db-a8af-496adbf11ad1",
   "metadata": {},
   "source": [
    "## Sortie de prison"
   ]
  },
  {
   "cell_type": "markdown",
   "id": "e77f5a82-0556-4fa3-813d-5727cba34193",
   "metadata": {},
   "source": [
    "Quelle est la probabilité d’obtenir un double six en lançant deux dés à six faces ?"
   ]
  },
  {
   "cell_type": "markdown",
   "id": "5b3f7f46-5b97-4ff5-ac1c-a2c4d3af8bcf",
   "metadata": {},
   "source": [
    "## Double jeu"
   ]
  },
  {
   "cell_type": "markdown",
   "id": "5b7d5383-4b6f-4404-8c65-be77a13727c4",
   "metadata": {},
   "source": [
    "Soit un dé à six faces et trois cartes (V, D, R) dont la couleur n’a aucune importance. Quelle est la probabilité d’obtenir un trois et de tirer un roi ?"
   ]
  }
 ],
 "metadata": {
  "kernelspec": {
   "display_name": "Python 3 (ipykernel)",
   "language": "python",
   "name": "python3"
  },
  "language_info": {
   "codemirror_mode": {
    "name": "ipython",
    "version": 3
   },
   "file_extension": ".py",
   "mimetype": "text/x-python",
   "name": "python",
   "nbconvert_exporter": "python",
   "pygments_lexer": "ipython3",
   "version": "3.11.8"
  }
 },
 "nbformat": 4,
 "nbformat_minor": 5
}
