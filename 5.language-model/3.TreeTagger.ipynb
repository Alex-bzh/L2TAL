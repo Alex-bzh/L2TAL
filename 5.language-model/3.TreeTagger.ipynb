{
 "cells": [
  {
   "cell_type": "markdown",
   "id": "5b59eade-04e3-42e8-84f8-5864336d9841",
   "metadata": {},
   "source": [
    "# De l’étiquetage avec *TreeTagger*"
   ]
  },
  {
   "cell_type": "markdown",
   "id": "22d1ea20-bb17-42d2-be21-856b321f92c5",
   "metadata": {},
   "source": [
    "## Un étiqueteur pré-entraîné"
   ]
  },
  {
   "cell_type": "markdown",
   "id": "876dd13c-2f83-4ff0-aff3-0db0d343e874",
   "metadata": {},
   "source": [
    "*TreeTagger* est un étiqueteur morpho-syntaxique pré-entraîné pour de multiples langues (anglais, allemand, français, espagnol, italien…). Il est développé à [l’IMS de Stuttgart](https://www.ims.uni-stuttgart.de/) par Helmut Schmid. La procédure d’installation de l’utilitaire et de ses fichiers de paramètres est détaillée dans [la documentation en ligne](https://www.cis.uni-muenchen.de/~schmid/tools/TreeTagger/). Vous trouverez ceci dit les fichiers nécessaires dans le répertoire *TreeTagger*."
   ]
  },
  {
   "cell_type": "markdown",
   "id": "eaf1f089-42d8-4bfc-bd11-23d9ff8f1f4f",
   "metadata": {},
   "source": [
    "## Segmentation d’un texte"
   ]
  },
  {
   "cell_type": "markdown",
   "id": "f9d7d2ff-949a-43c1-acba-a8a2c0896122",
   "metadata": {},
   "source": [
    "En entrée, *TreeTagger* accepte une liste de tokens afin de calculer les probabilités des étiquettes à leur assigner. Un tokénisateur basique est fourni avec la distribution :"
   ]
  },
  {
   "cell_type": "code",
   "execution_count": null,
   "id": "c5e01b64-6778-437e-b903-fbb99f43a274",
   "metadata": {},
   "outputs": [],
   "source": [
    "! echo \"A Lannister always pays his debts.\" | perl ./TreeTagger/utf8-tokenize.perl"
   ]
  },
  {
   "cell_type": "markdown",
   "id": "bcb376c4-f6de-4bff-bbd3-4e2c73a13cac",
   "metadata": {},
   "source": [
    "L’algorithme par défaut est prévu pour une segmentation sur l’espace. Des options permettent d’activer des comportements différenciés pour certaines langues :\n",
    "\n",
    "- `-e` : pour l’anglais ;\n",
    "- `-f` : pour le français ;\n",
    "- `-i` : pour l’italien ;\n",
    "- `-z` : pour le galicien ;\n",
    "- `-a` : pour fournir un fichier personnalisé d’abréviations."
   ]
  },
  {
   "cell_type": "code",
   "execution_count": null,
   "id": "acc28955-6e93-4dff-a454-03b89ea98f7e",
   "metadata": {},
   "outputs": [],
   "source": [
    "! echo \"C’est aujourd’hui ton rendez-vous chez l’ostéopathe ?\" | perl ./TreeTagger/utf8-tokenize.perl -f"
   ]
  },
  {
   "cell_type": "markdown",
   "id": "ea66ba45-cb4b-4db8-aeb6-f2264dd88510",
   "metadata": {},
   "source": [
    "Le script a correctement considéré *aujourd’hui* comme un seul mot quand *rendez-vous* a été séparé en deux. Essayons de lui transmettre un fichier pour gérer certaines spécificités du français :"
   ]
  },
  {
   "cell_type": "code",
   "execution_count": null,
   "id": "aef98040-3102-43e6-b484-69f67c2b1709",
   "metadata": {},
   "outputs": [],
   "source": [
    "! echo \"C’est aujourd’hui ton rendez-vous chez l’ostéopathe ?\" | perl ./TreeTagger/utf8-tokenize.perl -f -a ./TreeTagger/french-abbreviations"
   ]
  },
  {
   "cell_type": "markdown",
   "id": "09349498-ba19-48d2-afbd-1de2637d9606",
   "metadata": {},
   "source": [
    "Le fichier *french-abbreviations* contient une simple liste de mots constituée en connaissance de cause, c’est-à-dire après analyse des erreurs résiduelles du tokénisateur de *TreeTagger*."
   ]
  },
  {
   "cell_type": "markdown",
   "id": "a5d685f6-00b4-40b1-acb1-cfd5547e09bb",
   "metadata": {},
   "source": [
    "## Annotation des tokens"
   ]
  },
  {
   "cell_type": "markdown",
   "id": "4ed3753c-97b6-46d0-8ba9-a6587e094f25",
   "metadata": {},
   "source": [
    "### Étiquetage en parties du discours"
   ]
  },
  {
   "cell_type": "markdown",
   "id": "a651a9af-0ba6-483c-8fa0-b532a7875a3c",
   "metadata": {},
   "source": [
    "La procédure d’étiquetage de *TreeTagger* implémente un modèle probabiliste qui, pour des raisons de performance, prend la forme d’un arbre de décision. Différents modèles de langage sont disponibles sur la page des téléchargements. Il s’agit de fichiers de paramètres qui portent une extension en *.par* :"
   ]
  },
  {
   "cell_type": "code",
   "execution_count": null,
   "id": "32b05912-c112-4514-8aed-f63fa6893133",
   "metadata": {},
   "outputs": [],
   "source": [
    "! echo \"A Lannister always pays his debts.\" | perl ./TreeTagger/utf8-tokenize.perl -e | ./TreeTagger/tree-tagger ./TreeTagger/english.par"
   ]
  },
  {
   "cell_type": "markdown",
   "id": "f3e17ab0-b793-4f91-a2f0-19b4680277b3",
   "metadata": {},
   "source": [
    "L’ajout d’une option `-token` permet de révéler le token étiqueté :"
   ]
  },
  {
   "cell_type": "code",
   "execution_count": null,
   "id": "21b79993-3dc9-4f33-9990-a11077149460",
   "metadata": {},
   "outputs": [],
   "source": [
    "! echo \"A Lannister always pays his debts.\" | perl ./TreeTagger/utf8-tokenize.perl -e | ./TreeTagger/tree-tagger -token ./TreeTagger/english.par"
   ]
  },
  {
   "cell_type": "markdown",
   "id": "a58244aa-1308-47cd-a3a9-08dabe9c1f6f",
   "metadata": {},
   "source": [
    "Les étiquettes attribuées dépendent du modèle de langage indiqué :"
   ]
  },
  {
   "cell_type": "code",
   "execution_count": null,
   "id": "a5123eda-4096-4119-ac3d-c69b1844258a",
   "metadata": {},
   "outputs": [],
   "source": [
    "! echo \"A Lannister always pays his debts.\" | perl ./TreeTagger/utf8-tokenize.perl -f | ./TreeTagger/tree-tagger -token ./TreeTagger/french.par"
   ]
  },
  {
   "cell_type": "markdown",
   "id": "480d499e-0a4a-421e-a7bd-796187fcb8c2",
   "metadata": {},
   "source": [
    "*TreeTagger* ne vérifie donc pas la vraisemblance des tokens en entrée avec le modèle de langage spécifié. La pertinence de certains résultats peut s’en ressentir !\n",
    "\n",
    "**Remarque :** pour prendre connaissance de la signification des étiquettes, se référer à la documentation en ligne."
   ]
  },
  {
   "cell_type": "markdown",
   "id": "a07982e1-bd4b-4423-b303-4d3c6d12164f",
   "metadata": {},
   "source": [
    "### Lemmatisation"
   ]
  },
  {
   "cell_type": "markdown",
   "id": "31124278-7a99-4e96-a65b-7f44200d6632",
   "metadata": {},
   "source": [
    "Par lemmatisation, on entend l’opération consistant à obtenir la forme canonique d’un mot. Par exemple, *parent* serait le lemme de *parents*, ou *chanter* celui de la forme fléchie *chantes*.\n",
    "\n",
    "L’option `-lemma` active la fonction :"
   ]
  },
  {
   "cell_type": "code",
   "execution_count": null,
   "id": "afa83052-a648-4f03-b955-7ebaf924db41",
   "metadata": {},
   "outputs": [],
   "source": [
    "! echo \"A Lannister always pays his debts.\" | perl ./TreeTagger/utf8-tokenize.perl -e | ./TreeTagger/tree-tagger -token -lemma ./TreeTagger/english.par"
   ]
  },
  {
   "cell_type": "markdown",
   "id": "e135e579-4efd-4679-a243-a9dfd03d084f",
   "metadata": {},
   "source": [
    "Pour *TreeTagger*, cette étape n‘est résolue que par extraction depuis un lexique où à chaque lemme est associé une étiquette. En conséquence, si dans la phrase suivante il parvient bien à désambiguiser les occurrences du mot *dérive*, c’est uniquement grâce à leurs étiquettes :"
   ]
  },
  {
   "cell_type": "code",
   "execution_count": null,
   "id": "5c066e1a-736e-40c6-aa5d-fbfd159b1a06",
   "metadata": {},
   "outputs": [],
   "source": [
    "! echo \"Le navire dérive à cause d’une dérive instable.\" | perl ./TreeTagger/utf8-tokenize.perl -f | ./TreeTagger/tree-tagger -token -lemma ./TreeTagger/french.par"
   ]
  },
  {
   "cell_type": "markdown",
   "id": "5592e6a7-60d5-4984-8b33-585d3d9ecc81",
   "metadata": {},
   "source": [
    "*TreeTagger* ne fait aucune hypothèse quant aux lemmes aussi, en cas de doute, il liste les différentes possibilités avec une barre verticale :"
   ]
  },
  {
   "cell_type": "code",
   "execution_count": null,
   "id": "3a80616f-50d5-444f-9974-cdc277faec65",
   "metadata": {},
   "outputs": [],
   "source": [
    "! echo \"Il a été secouru par le fils du jardinier.\" | perl ./TreeTagger/utf8-tokenize.perl -f | ./TreeTagger/tree-tagger -token -lemma ./TreeTagger/french.par"
   ]
  },
  {
   "cell_type": "markdown",
   "id": "e3a56a64-07a6-4300-bbbd-f3a831f28d87",
   "metadata": {},
   "source": [
    "Étiqueté comme *NOM*, le mot *fils* peut aussi bien être le pluriel de *fil* – comme dans *le fil de l’histoire* ou *un fil de lin* – que l’une des formes du lemme *fils*."
   ]
  },
  {
   "cell_type": "markdown",
   "id": "73dedc57-5067-46fe-ba4e-7d1f49037f61",
   "metadata": {},
   "source": [
    "## Frontières de décision"
   ]
  },
  {
   "cell_type": "markdown",
   "id": "3a013f4e-1bf6-4fe2-a6ff-d7dcd05fec6a",
   "metadata": {},
   "source": [
    "Considérant les ambiguïtés inhérentes aux langues et le modèle probabiliste derrière *TreeTagger*, rien de surprenant à ce qu’il effectue un choix au regard du contexte.\n",
    "\n",
    "Prenons un énoncé qui ne pose guère de problème :"
   ]
  },
  {
   "cell_type": "code",
   "execution_count": null,
   "id": "a6e97ced-3470-4695-b2b8-5eeede53615e",
   "metadata": {},
   "outputs": [],
   "source": [
    "! echo \"Le capitaine Grant a mené le bataillon au combat.\" | perl ./TreeTagger/utf8-tokenize.perl -f | ./TreeTagger/tree-tagger -token -lemma ./TreeTagger/french.par"
   ]
  },
  {
   "cell_type": "markdown",
   "id": "dda427be-731d-4989-9be5-1ed0d30747d7",
   "metadata": {},
   "source": [
    "Ici, bien qu’inconnu, *Grant* est bien considéré comme un nom propre (*NAM*) grâce à la présence de la majuscule. Retirons à *TreeTagger* cette faculté de s’appuyer sur le préfixe avec l’option `-ignore-prefix` :"
   ]
  },
  {
   "cell_type": "code",
   "execution_count": null,
   "id": "d38f2c30-351d-4000-a5b5-a6231aafe523",
   "metadata": {},
   "outputs": [],
   "source": [
    "! echo \"Le capitaine Grant a mené le bataillon au combat.\" | perl ./TreeTagger/utf8-tokenize.perl -f | ./TreeTagger/tree-tagger -token -ignore-prefix ./TreeTagger/french.par"
   ]
  },
  {
   "cell_type": "markdown",
   "id": "45ff8b8b-49fd-4df6-a721-d92216151fe1",
   "metadata": {},
   "source": [
    "*Grant* est maintenant considéré comme un adjectif, un choix logique quand on le sait précédé par un nom.\n",
    "\n",
    "Pour comprendre le mécanisme, il nous faut révéler les frontières de décision avec les options `-threshold` et `-prob`. Le seuil est défini dans l’intervalle $]0,1]$ :"
   ]
  },
  {
   "cell_type": "code",
   "execution_count": null,
   "id": "5be35cbc-a851-4c09-913b-36ac9c39a256",
   "metadata": {},
   "outputs": [],
   "source": [
    "! echo \"Le capitaine Grant a mené le bataillon au combat.\" | perl ./TreeTagger/utf8-tokenize.perl -f | ./TreeTagger/tree-tagger -token -ignore-prefix -threshold 0.01 -prob ./TreeTagger/french.par"
   ]
  },
  {
   "cell_type": "markdown",
   "id": "a0e0ca8d-7299-4a7e-b356-2cbca3c827d3",
   "metadata": {},
   "source": [
    "Pour la majorité des mots de la phrase, *TreeTagger* n’a aucun doute. Il est en revanche moins assuré pour le fameux *Grant* qu’il identifie d’ailleurs à 71 % comme un participe présent (*VER:ppre*) à cause de sa terminaison en *-ant*.\n",
    "\n",
    "Pourquoi, alors, choisit-il au final de l’étiqueter *ADJ* ? Les probabilités affichées sont en fait celles du token considéré sans le contexte."
   ]
  },
  {
   "cell_type": "code",
   "execution_count": null,
   "id": "58057744-deab-4244-8a3e-abf967a0aaa0",
   "metadata": {},
   "outputs": [],
   "source": [
    "! echo \"Le capitaine Grant a mené le bataillon au combat.\" | perl ./TreeTagger/utf8-tokenize.perl -f | ./TreeTagger/tree-tagger -token -ignore-prefix -threshold 0.01 -prob ./TreeTagger/french.par"
   ]
  },
  {
   "cell_type": "markdown",
   "id": "ae09247b-b5cb-4176-9909-60bdec0d1248",
   "metadata": {},
   "source": [
    "Promouvons notre capitaine au rang de général :"
   ]
  },
  {
   "cell_type": "code",
   "execution_count": null,
   "id": "2c2443a2-d653-41d9-8151-f1cf3d662140",
   "metadata": {},
   "outputs": [],
   "source": [
    "! echo \"Le général Grant a mené le bataillon au combat.\" | perl ./TreeTagger/utf8-tokenize.perl -f | ./TreeTagger/tree-tagger -token -threshold 0.01 -prob ./TreeTagger/french.par"
   ]
  },
  {
   "cell_type": "markdown",
   "id": "365870c8-99c4-4cb5-a739-b4fb0158c272",
   "metadata": {},
   "source": [
    "Le mot *général* devient pour lui un adjectif, ce qui met en balance l’étiquette de *Grant*. Au final, même en lui autorisant l’appui du préfixe, *TreeTagger* fait également le mauvais choix pour *Grant* :"
   ]
  },
  {
   "cell_type": "code",
   "execution_count": null,
   "id": "9bb2d735-c495-4a07-871f-0204a849d522",
   "metadata": {},
   "outputs": [],
   "source": [
    "! echo \"Le général Grant a mené le bataillon au combat.\" | perl ./TreeTagger/utf8-tokenize.perl -f | ./TreeTagger/tree-tagger -token ./TreeTagger/french.par"
   ]
  }
 ],
 "metadata": {
  "kernelspec": {
   "display_name": "Python 3 (ipykernel)",
   "language": "python",
   "name": "python3"
  },
  "language_info": {
   "codemirror_mode": {
    "name": "ipython",
    "version": 3
   },
   "file_extension": ".py",
   "mimetype": "text/x-python",
   "name": "python",
   "nbconvert_exporter": "python",
   "pygments_lexer": "ipython3",
   "version": "3.10.6"
  }
 },
 "nbformat": 4,
 "nbformat_minor": 5
}
