{
 "cells": [
  {
   "cell_type": "markdown",
   "id": "5b59eade-04e3-42e8-84f8-5864336d9841",
   "metadata": {},
   "source": [
    "# De l’étiquetage avec *TreeTagger*"
   ]
  },
  {
   "cell_type": "markdown",
   "id": "22d1ea20-bb17-42d2-be21-856b321f92c5",
   "metadata": {},
   "source": [
    "## Un étiqueteur pré-entraîné"
   ]
  },
  {
   "cell_type": "markdown",
   "id": "876dd13c-2f83-4ff0-aff3-0db0d343e874",
   "metadata": {},
   "source": [
    "*TreeTagger* est un étiqueteur morpho-syntaxique pré-entraîné pour de multiples langues (anglais, allemand, français, espagnol, italien…). Il est développé à [l’IMS de Stuttgart](https://www.ims.uni-stuttgart.de/) par Helmut Schmid. La procédure d’installation de l’utilitaire et de ses fichiers de paramètres est détaillée dans [la documentation en ligne](https://www.cis.uni-muenchen.de/~schmid/tools/TreeTagger/). Vous trouverez ceci dit les fichiers nécessaires dans le répertoire *TreeTagger*."
   ]
  },
  {
   "cell_type": "code",
   "execution_count": 2,
   "id": "c5e01b64-6778-437e-b903-fbb99f43a274",
   "metadata": {},
   "outputs": [
    {
     "name": "stdout",
     "output_type": "stream",
     "text": [
      "A\n",
      "Lannister\n",
      "always\n",
      "pays\n",
      "his\n",
      "debts\n",
      ".\n"
     ]
    }
   ],
   "source": [
    "! echo \"A Lannister always pays his debts.\" | perl ./TreeTagger/utf8-tokenize.perl"
   ]
  },
  {
   "cell_type": "code",
   "execution_count": 11,
   "id": "32b05912-c112-4514-8aed-f63fa6893133",
   "metadata": {},
   "outputs": [
    {
     "name": "stdout",
     "output_type": "stream",
     "text": [
      "\treading parameters ...\n",
      "\ttagging ...\n",
      "A\tDT\n",
      "Lannister\tNP\n",
      "always\tRB\n",
      "pays\tVVZ\n",
      "his\tPP$\n",
      "debts\tNNS\n",
      ".\tSENT\n",
      "\t finished.\n"
     ]
    }
   ],
   "source": [
    "! echo \"A Lannister always pays his debts.\" | perl ./TreeTagger/utf8-tokenize.perl | ./TreeTagger/tree-tagger -token ./TreeTagger/english.par"
   ]
  },
  {
   "cell_type": "code",
   "execution_count": 12,
   "id": "a5123eda-4096-4119-ac3d-c69b1844258a",
   "metadata": {},
   "outputs": [
    {
     "name": "stdout",
     "output_type": "stream",
     "text": [
      "\treading parameters ...\n",
      "\ttagging ...\n",
      "A\tPRP\n",
      "Lannister\tVER:infi\n",
      "always\tNOM\n",
      "pays\tNOM\n",
      "his\tADJ\n",
      "debts\tNOM\n",
      ".\tSENT\n",
      "\t finished.\n"
     ]
    }
   ],
   "source": [
    "! echo \"A Lannister always pays his debts.\" | perl ./TreeTagger/utf8-tokenize.perl | ./TreeTagger/tree-tagger -token ./TreeTagger/french.par"
   ]
  },
  {
   "cell_type": "code",
   "execution_count": null,
   "id": "8e11953f-3e47-4264-a917-3633d5d19f5c",
   "metadata": {},
   "outputs": [],
   "source": []
  }
 ],
 "metadata": {
  "kernelspec": {
   "display_name": "Python 3 (ipykernel)",
   "language": "python",
   "name": "python3"
  },
  "language_info": {
   "codemirror_mode": {
    "name": "ipython",
    "version": 3
   },
   "file_extension": ".py",
   "mimetype": "text/x-python",
   "name": "python",
   "nbconvert_exporter": "python",
   "pygments_lexer": "ipython3",
   "version": "3.11.8"
  }
 },
 "nbformat": 4,
 "nbformat_minor": 5
}
