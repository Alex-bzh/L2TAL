{
 "cells": [
  {
   "cell_type": "markdown",
   "id": "0c87c3a8-dc70-4dd7-819e-2f5fa59fc578",
   "metadata": {},
   "source": [
    "# La modification"
   ]
  },
  {
   "cell_type": "markdown",
   "id": "99bf7b5b-1279-4bec-b397-520a917d1e65",
   "metadata": {},
   "source": [
    "Vous analysez deux langues : A et B. Pour chacune de ces langues, vous avez relevé des structures où un nom est modifié soit par un autre nom soit par un adjectif. Leur position peut être située avant ou après le nom qu’ils modifient. Vous avez retenu 1200 adjectifs et 800 noms dans chaque langue.\n",
    "\n",
    "Soient les fréquences suivantes pour la langue A :\n",
    "\n",
    "||ADJ|N|Total|\n",
    "|:-|:-:|:-:|:-:|\n",
    "|Prénominal|325|50|375|\n",
    "|Postnominal|875|750|1625|\n",
    "|**Total**|1200|800|2000|\n",
    "\n",
    "Et pour la langue B :\n",
    "\n",
    "||ADJ|N|Total|\n",
    "|:-|:-:|:-:|:-:|\n",
    "|Prénominal|732|412|1144|\n",
    "|Postnominal|468|388|856|\n",
    "|**Total**|1200|800|2000|"
   ]
  },
  {
   "cell_type": "markdown",
   "id": "c8a9dfe0-b262-4df1-b138-f3d73f30ea9f",
   "metadata": {},
   "source": [
    "## Questions"
   ]
  },
  {
   "cell_type": "markdown",
   "id": "cbd2bda6-41e3-49c5-b2c7-5d5d3af48411",
   "metadata": {},
   "source": [
    "1. Calculez $P(ADJ)$ afin de déterminer dans quelle langue il est plus probable de rencontrer un adjectif."
   ]
  },
  {
   "cell_type": "markdown",
   "id": "7b4f96f5-d074-4e7c-86ce-e802894b6798",
   "metadata": {},
   "source": [
    "> On le devine de l’énoncé : comme il y a 1200 adjectifs sur 2000 mots dans chaque langue, les chances sont équiprobables."
   ]
  },
  {
   "cell_type": "markdown",
   "id": "b739d938-3dd7-4eba-891d-0a04dccef43a",
   "metadata": {},
   "source": [
    "2. Dans quelle langue est-il plus probable de rencontrer un adjectif en position postnominale ?"
   ]
  },
  {
   "cell_type": "markdown",
   "id": "40a3bc58-76f0-4b89-9154-586e9fd4d7d2",
   "metadata": {},
   "source": [
    "> La question revient à estimer pour chaque langue :\n",
    ">\n",
    "> $$\n",
    "P(ADJ, Post) = \\frac{F(ADJ, Post)}{\\Omega}\n",
    "$$\n",
    ">\n",
    "> Soit pour la langue A :\n",
    ">\n",
    "> $$\n",
    "P(ADJ, Post) = \\frac{875}{2000}\n",
    "$$\n",
    "> Et pour la langue B :\n",
    ">\n",
    "> $$\n",
    "P(ADJ, Post) = \\frac{468}{2000}\n",
    "$$\n",
    ">\n",
    "> Il est plus probable de rencontrer un adjectif en postnominal dans la langue B."
   ]
  },
  {
   "cell_type": "markdown",
   "id": "57e19ff2-e0db-4cfa-be55-6d023e621a78",
   "metadata": {},
   "source": [
    "3. Déterminez $P(Pré|N)$ pour la langue B en vous fondant uniquement sur les effectifs."
   ]
  },
  {
   "cell_type": "markdown",
   "id": "a4adc026-3001-40ed-ad5a-6e85ff01565d",
   "metadata": {},
   "source": [
    "> Dit autrement, il s’agit d’estimer, parmi tous les noms de la langue B, la probabilité que l’un d’entre eux soit en position prénominale :\n",
    ">\n",
    "> $$\n",
    "P(Pré|N) = \\frac{412}{800} = \\frac{103}{200} = 0.515\n",
    "$$"
   ]
  },
  {
   "cell_type": "markdown",
   "id": "86777321-9772-418e-a629-dab7de2eac47",
   "metadata": {},
   "source": [
    "4. Toujours pour la langue B, calculez maintenant $P(N|Pré)$ en utilisant le théorème de Bayes."
   ]
  },
  {
   "cell_type": "markdown",
   "id": "ab61ce8b-6203-4803-bd81-e3219dbbec2a",
   "metadata": {},
   "source": [
    "> Le théorème de Bayes permet d’inverser les conditions, selon la formule :\n",
    ">\n",
    "> $$\n",
    "P(A|B) = \\frac{P(B|A) \\cdot P(A)}{P(B)}\n",
    "$$\n",
    ">\n",
    "> En l’appliquant à notre question, nous obtenons :\n",
    ">\n",
    "> $$\n",
    "P(N|Pré) = \\frac{P(Pré|N) \\cdot P(N)}{P(Pré)}\n",
    "$$\n",
    ">\n",
    "> Or :\n",
    ">\n",
    "> $$\n",
    "P(N) = \\frac{800}{2000} = 0.4\n",
    "$$\n",
    ">\n",
    "> Et :\n",
    ">\n",
    "> $$\n",
    "P(Pré) = \\frac{1144}{2000} = 0.572\n",
    "$$\n",
    ">\n",
    "> Donc :\n",
    ">\n",
    "> $$\n",
    "P(N|Pré) = \\frac{0.515 \\times 0.4}{0.572} \\approx 0.36\n",
    "$$\n",
    ">\n",
    "> Vérifions avec le calcul des effectifs :\n",
    ">\n",
    "> $$\n",
    "P(N|Pré) = \\frac{F(N, Pré)}{F(Pré)} = \\frac{412}{1144} \\approx 0.36\n",
    "$$"
   ]
  }
 ],
 "metadata": {
  "kernelspec": {
   "display_name": "Python 3 (ipykernel)",
   "language": "python",
   "name": "python3"
  },
  "language_info": {
   "codemirror_mode": {
    "name": "ipython",
    "version": 3
   },
   "file_extension": ".py",
   "mimetype": "text/x-python",
   "name": "python",
   "nbconvert_exporter": "python",
   "pygments_lexer": "ipython3",
   "version": "3.10.6"
  }
 },
 "nbformat": 4,
 "nbformat_minor": 5
}
