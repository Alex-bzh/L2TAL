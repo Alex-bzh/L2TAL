{
 "cells": [
  {
   "cell_type": "markdown",
   "id": "6d19a919-1e02-403d-a4ca-90e33e675725",
   "metadata": {},
   "source": [
    "# En randonnée"
   ]
  },
  {
   "cell_type": "markdown",
   "id": "e49391f9-0a8c-4289-a305-2342ae559f6e",
   "metadata": {},
   "source": [
    "## Énoncé"
   ]
  },
  {
   "cell_type": "markdown",
   "id": "9b58be77-8f57-42c3-a85a-b0f34a5c2f6d",
   "metadata": {},
   "source": [
    "Soit la phrase suivante :\n",
    "\n",
    "> Paul, le jeune étudiant talentueux, aime explorer les vastes montagnes verdoyantes.\n",
    "\n",
    "Après les phases de tokenisation et d’étiquetage, vous obtenez le résultat suivant :\n",
    "\n",
    "```mermaid\n",
    "flowchart TB\n",
    "    A(\"Paul\"):::formal-->At[\"N\"]:::academic\n",
    "    B(\",\"):::formal-->Bt[\"PONCT\"]:::academic\n",
    "    C(\"le\"):::formal-->Ct[\"DET\"]:::academic\n",
    "    D(\"jeune\"):::formal-->Dt[\"ADJ\"]:::academic\n",
    "    E(\"étudiant\"):::formal-->Et[\"N\"]:::academic\n",
    "    F(\"talentueux\"):::formal-->Ft[\"ADJ\"]:::academic\n",
    "    G(\",\"):::formal-->Gt[\"PONCT\"]:::academic\n",
    "    H(\"aime\"):::formal-->Ht[\"V\"]:::academic\n",
    "    I(\"explorer\"):::formal-->It[\"V\"]:::academic\n",
    "    J(\"les\"):::formal-->Jt[\"DET\"]:::academic\n",
    "    K(\"vastes\"):::formal-->Kt[\"ADJ\"]:::academic\n",
    "    L(\"montagnes\"):::formal-->Lt[\"N\"]:::academic\n",
    "    M(\"verdoyantes\"):::formal-->Mt[\"ADJ\"]:::academic\n",
    "    N(\".\"):::formal-->Nt[\"PONCT\"]:::academic\n",
    "    classDef formal fill:#fff,stroke:#D68738,color:#D68738\n",
    "    classDef academic fill:#032B4F,stroke:#032B4F,color:#fff\n",
    "```"
   ]
  },
  {
   "cell_type": "markdown",
   "id": "5efda4d2-5d47-4092-8950-855fe8bab917",
   "metadata": {},
   "source": [
    "## Questions"
   ]
  },
  {
   "cell_type": "markdown",
   "id": "6a2fadae-f519-4fe3-9f5a-a958ce739e30",
   "metadata": {},
   "source": [
    "1. Dans une situation d’équiprobabilité des tokens, quelle est la probabilité de réalisation de l’évènement *Paul* ?"
   ]
  },
  {
   "cell_type": "markdown",
   "id": "0d47d97e-e1a9-4a40-b4db-52ef9431a681",
   "metadata": {},
   "source": [
    "> Il existe 14 tokens en tout qui constituent l’univers des possibilités et un seul évènement *Paul*, ainsi :\n",
    ">\n",
    "> $$\n",
    "P(Paul) = \\frac{1}{14}\n",
    "$$"
   ]
  },
  {
   "cell_type": "markdown",
   "id": "33387afd-0eee-490a-8b74-3843aaf0e4a9",
   "metadata": {},
   "source": [
    "2. Quelle est la probabilité de l’évènement *ADJ* ?"
   ]
  },
  {
   "cell_type": "markdown",
   "id": "f09277e9-aa86-4cb6-8ec4-8b620da8f312",
   "metadata": {},
   "source": [
    "> Cette fois-ci, la fréquence de l’évènement *ADJ* est de 4, donc :\n",
    ">\n",
    "> $$\n",
    "P(ADJ) = \\frac{4}{14} = \\frac{2}{7}\n",
    "$$"
   ]
  },
  {
   "cell_type": "markdown",
   "id": "f3d92007-7776-4c80-af38-3205e55a548b",
   "metadata": {},
   "source": [
    "3. Quelle est la probabilité de l’évènement $\\lnot{ADJ}$ ?"
   ]
  },
  {
   "cell_type": "markdown",
   "id": "1464c286-3903-4d02-8484-38430166454c",
   "metadata": {},
   "source": [
    "> L'évènement *non ADJ* est quant à lui constitué de tous les évènements qui ne sont pas *ADJ*, soit :\n",
    ">\n",
    "> $$\n",
    "P(\\lnot ADJ) = 1 - \\frac{2}{7} = \\frac{5}{7}\n",
    "$$"
   ]
  },
  {
   "cell_type": "markdown",
   "id": "632751c2-6958-495f-ba73-c73023c2ed19",
   "metadata": {},
   "source": [
    "4. Étant considérés comme indépendants, quelle est la probabilité de l’évènement *ADJ* puis de l’évènement *N* ?"
   ]
  },
  {
   "cell_type": "markdown",
   "id": "ef247046-44ef-4c24-a782-ede2780704f5",
   "metadata": {},
   "source": [
    "> La probabilité de *ADJ* puis de *N* vaut :\n",
    ">\n",
    "> $$\n",
    "\\begin{align}\n",
    "P(ADJ \\cap N) &= P(ADJ) \\cdot P(N)\\\\\n",
    "&= \\frac{2}{7} \\cdot \\frac{3}{14}\\\\\n",
    "&= \\frac{6}{98} = \\frac{3}{49}\n",
    "\\end{align}\n",
    "$$"
   ]
  },
  {
   "cell_type": "markdown",
   "id": "47b4c70a-d635-47bb-9832-9b125b6bdf10",
   "metadata": {},
   "source": [
    "5. Et quelle serait la probabilité de l’évènement *ADJ N* ?"
   ]
  },
  {
   "cell_type": "markdown",
   "id": "ba091b7c-ed88-4310-94c9-341ecd0865a7",
   "metadata": {},
   "source": [
    "> La question est ici d’estimer la probabilité d’un évènement qui soit *ADJ N* :\n",
    ">\n",
    "> $$\n",
    "P(ADJ, N) = \\frac{F(ADJ, N)}{\\Omega - 1} = \\frac{2}{13}\n",
    "$$"
   ]
  },
  {
   "cell_type": "markdown",
   "id": "b113187e-43f9-4d5d-81ac-ac93ade3f549",
   "metadata": {},
   "source": [
    "6. Nous souhaiterions maintenant estimer la probabilité de l’évènement *ADJ* ou *N*."
   ]
  },
  {
   "cell_type": "markdown",
   "id": "f0182874-6b88-4e89-8b7a-902624ddc3e5",
   "metadata": {},
   "source": [
    "> Les deux évènements sont incompatibles, aussi on retrouve la relation suivante :\n",
    ">\n",
    "> $$\n",
    "\\begin{align}\n",
    "P(ADJ \\cup N) &= P(ADJ) + P(N)\\\\\n",
    "&= \\frac{4}{14} + \\frac{3}{14} = \\frac{7}{14} = \\frac{1}{2}\n",
    "\\end{align}\n",
    "$$"
   ]
  },
  {
   "cell_type": "markdown",
   "id": "6cd3e4f4-712f-4501-b4f0-2d6a745e13e6",
   "metadata": {},
   "source": [
    "7. Pour finir, quelle est la probabilité de l’évènement *aime* ou *V* ?"
   ]
  },
  {
   "cell_type": "markdown",
   "id": "e2dd270d-bbe8-481c-aee2-afafc311f6d1",
   "metadata": {},
   "source": [
    "> *aimer* et *V* pouvant être conjoints, il faut ôter leur fréquence de la somme de leurs probabilités respectives :\n",
    ">\n",
    "> $$\n",
    "\\begin{align}\n",
    "P(aime \\cup V) &= P(aime) + P(V) - P(aime \\cap V)\\\\\n",
    "&= \\frac{1}{14} + \\frac{2}{14} - \\frac{1}{14}\\\\\n",
    "&= \\frac{2}{14} = \\frac{1}{7}\n",
    "\\end{align}\n",
    "$$"
   ]
  }
 ],
 "metadata": {
  "kernelspec": {
   "display_name": "Python 3 (ipykernel)",
   "language": "python",
   "name": "python3"
  },
  "language_info": {
   "codemirror_mode": {
    "name": "ipython",
    "version": 3
   },
   "file_extension": ".py",
   "mimetype": "text/x-python",
   "name": "python",
   "nbconvert_exporter": "python",
   "pygments_lexer": "ipython3",
   "version": "3.10.6"
  }
 },
 "nbformat": 4,
 "nbformat_minor": 5
}
