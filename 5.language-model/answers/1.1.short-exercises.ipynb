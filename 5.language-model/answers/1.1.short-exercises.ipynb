{
 "cells": [
  {
   "cell_type": "markdown",
   "id": "8522aeba-93ef-4f2a-b268-d481c1ececa3",
   "metadata": {},
   "source": [
    "# Exercices d’approche"
   ]
  },
  {
   "cell_type": "markdown",
   "id": "837a2961-4cd1-46ed-845f-a865cea56879",
   "metadata": {},
   "source": [
    "## Un lancer de dé"
   ]
  },
  {
   "cell_type": "markdown",
   "id": "72acc349-65f6-4ab1-a869-ed56820771ef",
   "metadata": {},
   "source": [
    "Soit un dé à six faces parfaitement équilibré. Quelle est la probabilité d’obtenir un six avec un lancer ?"
   ]
  },
  {
   "cell_type": "markdown",
   "id": "4477b429-9d65-42b2-a0ba-7194e3e2320e",
   "metadata": {},
   "source": [
    "> Il y a six possibilités et une seule d’entre elles représente l’évènement &laquo; obtenir un six &raquo;. La probabilité s’exprime ainsi :\n",
    ">\n",
    "> $$\n",
    "P(6) = \\frac{1}{6}\n",
    "$$"
   ]
  },
  {
   "cell_type": "markdown",
   "id": "e3256b51-e674-4b04-bde5-85edf377491b",
   "metadata": {},
   "source": [
    "Et d’obtenir un nombre pair ?"
   ]
  },
  {
   "cell_type": "markdown",
   "id": "49804c93-2116-4d1e-89c1-2c4b74512442",
   "metadata": {},
   "source": [
    "> Cette fois-ci, sur les six possibilités, trois représentent l’évènement &laquo; obtenir un nombre pair &raquo;. On obtient ainsi la relation suivante :\n",
    ">\n",
    "> $$\n",
    "P(pair) = \\frac{3}{6} = \\frac{1}{2}\n",
    "$$"
   ]
  },
  {
   "cell_type": "markdown",
   "id": "68d9a4ca-1b4b-4498-94c3-9cd8d36f8dbf",
   "metadata": {},
   "source": [
    "## Un jeu de cartes"
   ]
  },
  {
   "cell_type": "markdown",
   "id": "d3e4c2b2-a3e9-4e8f-a150-f2a5c4589853",
   "metadata": {},
   "source": [
    "Soit trois figures extraites d’un jeu de cartes : un valet (V), une dame (D), un roi (R), déclinées dans les quatre couleurs (♥♦♠♣). Quelle est la probabilité d’obtenir le tirage *V* ?"
   ]
  },
  {
   "cell_type": "markdown",
   "id": "1cb83a9d-283e-4a0f-9f77-e5d8beb2cb8a",
   "metadata": {},
   "source": [
    "> L’ensemble des possibilités est le résultat de la multiplication des trois cartes par le nombre de couleurs pour chaque :\n",
    ">\n",
    "> $$\n",
    "\\Omega = 3 \\times 4 = 12\n",
    "$$\n",
    "> Or il y a quatre valets dans le jeu, ce qui donne la probabilité suivante ou F est la fréquence de l’évènement :\n",
    "> $$\n",
    "P(V) = \\frac{F(V)}{\\Omega} = \\frac{4}{12} = \\frac{1}{3}\n",
    "$$"
   ]
  },
  {
   "cell_type": "markdown",
   "id": "c4ef4067-01ed-459b-af25-5cdccc18c15e",
   "metadata": {},
   "source": [
    "Et le tirage ♠ ?"
   ]
  },
  {
   "cell_type": "markdown",
   "id": "1147c54f-5784-41a6-a6f5-5850fd64c086",
   "metadata": {},
   "source": [
    "> La probabilité d’obtenir un ♠ est le rapport entre la fréquence de la couleur sur le nombre de possibilités, soit :\n",
    ">\n",
    "> $$\n",
    "P(♠) = \\frac{F(♠)}{\\Omega} = \\frac{3}{12} = \\frac{1}{4}\n",
    "$$"
   ]
  },
  {
   "cell_type": "markdown",
   "id": "a3926d63-69f8-4854-a355-debe00f491b4",
   "metadata": {},
   "source": [
    "Et le tirage *R♣* ?"
   ]
  },
  {
   "cell_type": "markdown",
   "id": "51bc8f79-0caa-4943-a3a8-09933fe0a1a9",
   "metadata": {},
   "source": [
    "> Dans cet exemple, il existe un seul roi de trèfle, aussi la probabilité est de $\\frac{1}{12}$. Du point de vue mathématique, la relation s’exprimerait ainsi :\n",
    ">\n",
    "> $$\n",
    "\\begin{align}\n",
    "P(R \\cap ♣) &= P(R) \\cdot P(♣)\\\\\n",
    "&= \\frac{F(R)}{\\Omega} \\cdot \\frac{F(♣)}{\\Omega}\\\\\n",
    "&= \\frac{4}{12} \\cdot \\frac{3}{12}\\\\\n",
    "&= \\frac{1}{3} \\cdot \\frac{1}{4} = \\frac{1}{12}\n",
    "\\end{align}\n",
    "$$"
   ]
  },
  {
   "cell_type": "markdown",
   "id": "40784286-29b3-4422-848b-ea2f556583c9",
   "metadata": {},
   "source": [
    "Un ♠ ou une dame ?"
   ]
  },
  {
   "cell_type": "markdown",
   "id": "4db28390-085d-4c1b-b1fe-b556d086a330",
   "metadata": {},
   "source": [
    "> Dans notre jeu de cartes, il y a trois ♠ et quatre D, aussi il serait tentant de décider que :\n",
    ">\n",
    "> $$\n",
    "P(♠ \\cup D) = \\frac{3}{12} + \\frac{4}{12} = \\frac{7}{12}\n",
    "$$\n",
    ">\n",
    "> Sauf que nous savons que ces deux évènements peuvent survenir conjointement : l’un des ♠ peut être une D et l’une des D peut être un ♠. Ces évènements sont jugés compatibles, aussi il faut retrancher du résultat le nombre de fois où ils peuvent se réaliser. Ici, une seule fois :\n",
    ">\n",
    "> $$\n",
    "\\begin{align}\n",
    "P(♠ \\cup D) &= P(♠) + P(D) - P(♠ \\cap D)\\\\\n",
    "&= \\frac{3}{12} + \\frac{4}{12} - \\frac{1}{12}\\\\\n",
    "&= \\frac{6}{12} = \\frac{1}{2}\n",
    "\\end{align}\n",
    "$$"
   ]
  },
  {
   "cell_type": "markdown",
   "id": "7e67e39f-7f61-4d01-8e40-90f2ecc37b68",
   "metadata": {},
   "source": [
    "*D♥* ou *D♦* ?"
   ]
  },
  {
   "cell_type": "markdown",
   "id": "f464e7e6-9fb9-4601-b051-ab55b5ebf87f",
   "metadata": {},
   "source": [
    "> Les deux évènements étant cette fois-ci incompatibles, c’est-à-dire qu’ils ne peuvent survenir ensemble, leur union est la somme de leurs probabilités respectives :\n",
    ">\n",
    "> $$\n",
    "P(D♥ \\cup D♦) = P(D♥) + P(D♦) = \\frac{1}{12} + \\frac{1}{12} = \\frac{1}{6}\n",
    "$$"
   ]
  },
  {
   "cell_type": "markdown",
   "id": "1e0f0ec5-72d0-49db-a8af-496adbf11ad1",
   "metadata": {},
   "source": [
    "## Sortie de prison"
   ]
  },
  {
   "cell_type": "markdown",
   "id": "e77f5a82-0556-4fa3-813d-5727cba34193",
   "metadata": {},
   "source": [
    "Quelle est la probabilité d’obtenir un double six en lançant deux dés à six faces ?"
   ]
  },
  {
   "cell_type": "markdown",
   "id": "d3df91d1-1b9b-4abd-9f8d-48e8bb3f2b72",
   "metadata": {},
   "source": [
    "> Lancer deux dés à six faces revient à lancer deux fois un dé à six faces. Le nombre de possibilités pour un lancer est donc fixé à 6, soit $6^1$. Pour deux lancers, on passe à $6^2$, soit 36 possibilités. Une seule d’entre elles est réalisable, d’où :\n",
    ">\n",
    "> $$\n",
    "P(6 \\cap 6) = \\frac{1}{6} \\cdot \\frac{1}{6} = \\frac{1}{36}\n",
    "$$"
   ]
  },
  {
   "cell_type": "markdown",
   "id": "eccbe6a0-9fc9-41eb-95d6-ab017be4312b",
   "metadata": {},
   "source": [
    "Et de faire un double ?"
   ]
  },
  {
   "cell_type": "markdown",
   "id": "f72e5e1d-7af4-4dc0-a0cf-141c283914a7",
   "metadata": {},
   "source": [
    "> Il s’agit de la somme des probabilités de réaliser un double :\n",
    ">\n",
    "> $$\n",
    "P(double) = P(1 \\cap 1) + P(2 \\cap 2) + P(3 \\cap 3) + P(4 \\cap 4) + P(5 \\cap 5) + P(6 \\cap 6)\n",
    "$$\n",
    ">\n",
    "> Ou, mieux :\n",
    ">\n",
    "> $$\n",
    "P(double) = \\sum^6_{i=1} P(i \\cap i)\n",
    "$$\n",
    ">\n",
    "> Soit une chance sur six d’obtenir un double."
   ]
  },
  {
   "cell_type": "markdown",
   "id": "5b3f7f46-5b97-4ff5-ac1c-a2c4d3af8bcf",
   "metadata": {},
   "source": [
    "## Double jeu"
   ]
  },
  {
   "cell_type": "markdown",
   "id": "5b7d5383-4b6f-4404-8c65-be77a13727c4",
   "metadata": {},
   "source": [
    "Soit un dé à six faces et trois cartes (V, D, R) dont la couleur n’a aucune importance. Quelle est la probabilité d’obtenir un trois et de tirer un roi ?"
   ]
  },
  {
   "cell_type": "markdown",
   "id": "99b08d72-df61-4ce9-b442-97dd865f268c",
   "metadata": {},
   "source": [
    "> La probabilité de tirer un roi et de faire un trois au dé s’exprime ainsi :\n",
    ">\n",
    "> $$\n",
    "P(R \\cap 3) = P(R) \\cdot P(3) = \\frac{1}{3} \\cdot \\frac{1}{6} = \\frac{1}{18}\n",
    "$$"
   ]
  }
 ],
 "metadata": {
  "kernelspec": {
   "display_name": "Python 3 (ipykernel)",
   "language": "python",
   "name": "python3"
  },
  "language_info": {
   "codemirror_mode": {
    "name": "ipython",
    "version": 3
   },
   "file_extension": ".py",
   "mimetype": "text/x-python",
   "name": "python",
   "nbconvert_exporter": "python",
   "pygments_lexer": "ipython3",
   "version": "3.10.6"
  }
 },
 "nbformat": 4,
 "nbformat_minor": 5
}
