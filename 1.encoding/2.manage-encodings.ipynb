{
 "cells": [
  {
   "cell_type": "markdown",
   "id": "ae09d46b-5dba-432e-a5f8-b0c513602602",
   "metadata": {},
   "source": [
    "# Gérer l’encodage des caractères"
   ]
  },
  {
   "cell_type": "markdown",
   "id": "df5efe8b-fd6e-42e9-887a-8c65f2478879",
   "metadata": {},
   "source": [
    "## Avec une ILC"
   ]
  },
  {
   "cell_type": "markdown",
   "id": "a2d2e42c-b354-4b1f-9d3d-a09c58c4a915",
   "metadata": {},
   "source": [
    "Le *shell* d’un système tente toujours d’interpréter ce qui est envoyé dans la sortie standard avec le jeu de caractères UTF-8. S’il en est incapable, plutôt que de renvoyer une erreur, il va tenter de substituer un caractère.\n",
    "\n",
    "Essayons de lire le fichier *ete.txt* depuis un terminal :"
   ]
  },
  {
   "cell_type": "code",
   "execution_count": null,
   "id": "6a66dd50-dacf-475d-aaff-e78faa1a9852",
   "metadata": {},
   "outputs": [],
   "source": [
    "! cat data/ete.utf8.txt"
   ]
  },
  {
   "cell_type": "markdown",
   "id": "4145fb1f-f9a3-4a2e-9d6d-c530ada2fa52",
   "metadata": {},
   "source": [
    "Le mot compte trois caractères mais cinq bytes :"
   ]
  },
  {
   "cell_type": "code",
   "execution_count": null,
   "id": "a2842ec5-181d-4bb9-88ea-3a09fa8207b1",
   "metadata": {},
   "outputs": [],
   "source": [
    "! cat data/ete.utf8.txt | wc -m && cat data/ete.utf8.txt | wc -c"
   ]
  },
  {
   "cell_type": "markdown",
   "id": "75dcc51e-ae2f-4163-a6ae-1f3ff3f440ab",
   "metadata": {},
   "source": [
    "Une représentation en binaire du fichier permet de révéler les cinq octets :"
   ]
  },
  {
   "cell_type": "code",
   "execution_count": null,
   "id": "21018fcb-9db4-40ff-9108-3c8b98c132e9",
   "metadata": {},
   "outputs": [],
   "source": [
    "! cat data/ete.utf8.txt | xxd -b"
   ]
  },
  {
   "cell_type": "markdown",
   "id": "0e0fbca5-f407-4f1a-a2fb-628da95cfe7e",
   "metadata": {},
   "source": [
    "Pour ces cinq octets, l’utilitaire `xxd` nous apprend qu’il n’a de représentation possible en ASCII ni pour les deux premiers ni pour les deux derniers."
   ]
  },
  {
   "cell_type": "markdown",
   "id": "5dfe9c1b-9508-47de-900c-6856ac7a1d9c",
   "metadata": {},
   "source": [
    "### Détecter l’encodage d’un fichier"
   ]
  },
  {
   "cell_type": "markdown",
   "id": "695b7dfd-0b44-42d9-b259-a0a666a8e0e9",
   "metadata": {},
   "source": [
    "L’utilitaire `file` associé à l’option `-I` permet de déduire l’encodage d’un fichier :"
   ]
  },
  {
   "cell_type": "code",
   "execution_count": null,
   "id": "b7512fc3-e5d5-45dd-b503-e7dc070a8c15",
   "metadata": {},
   "outputs": [],
   "source": [
    "! file -I data/ete.utf8.txt\n",
    "! file -I data/ete.latin1.txt"
   ]
  },
  {
   "cell_type": "markdown",
   "id": "c02678c8-9e29-4ecc-925f-25f96bb85773",
   "metadata": {},
   "source": [
    "### Modifier l’encodage d’un fichier"
   ]
  },
  {
   "cell_type": "markdown",
   "id": "78081386-656e-4221-a3aa-c363624488ba",
   "metadata": {},
   "source": [
    "Quand le décodage natif du *shell* en UTF-8 ne permet pas d’afficher correctement le message, il devient utile de se servir d’outils pour le décoder correctement. L’utilitaire `iconv` est ainsi prévu pour modifier l’encodage d’un fichier. Le fichier suivant n’est pas lu correctement par le *shell* car encodé en LATIN-1 :"
   ]
  },
  {
   "cell_type": "code",
   "execution_count": null,
   "id": "033768b2-0a17-4567-bf07-07e5a1db1804",
   "metadata": {},
   "outputs": [],
   "source": [
    "! cat data/ete.latin1.txt"
   ]
  },
  {
   "cell_type": "markdown",
   "id": "bdb109f4-a955-487d-990f-bcafe6751273",
   "metadata": {},
   "source": [
    "Avec l’option `-f` on précise depuis quel encodage le traiter :"
   ]
  },
  {
   "cell_type": "code",
   "execution_count": null,
   "id": "33f87841-fd70-4901-a325-52441db338dd",
   "metadata": {},
   "outputs": [],
   "source": [
    "! iconv -f LATIN1 data/ete.latin1.txt"
   ]
  },
  {
   "cell_type": "markdown",
   "id": "912e7b34-49b0-4ef3-af3e-f1bbda563b22",
   "metadata": {},
   "source": [
    "Si le décodage avec le jeu de caractères préconisé est impossible, une erreur est renvoyée :"
   ]
  },
  {
   "cell_type": "code",
   "execution_count": null,
   "id": "4593758a-6abb-4747-9b37-32029b66ff1f",
   "metadata": {},
   "outputs": [],
   "source": [
    "! iconv -f ASCII data/ete.latin1.txt"
   ]
  },
  {
   "cell_type": "markdown",
   "id": "3a6a20c9-a98b-4347-b2d5-cf87c7dccd53",
   "metadata": {},
   "source": [
    "La liste des jeux de caractères est disponible avec l’option `-l` :"
   ]
  },
  {
   "cell_type": "code",
   "execution_count": null,
   "id": "e2fefcef-4f93-445b-b8bc-866039fe1845",
   "metadata": {},
   "outputs": [],
   "source": [
    "! iconv -l"
   ]
  },
  {
   "cell_type": "markdown",
   "id": "f078357b-3d24-4131-978d-d6e694eb57c3",
   "metadata": {},
   "source": [
    "Demander à décoder un message avec un mauvais jeu de caractères peut amener à représenter les octets avec les mauvais caractères :"
   ]
  },
  {
   "cell_type": "code",
   "execution_count": null,
   "id": "3dd8f9c2-308a-442b-85ff-e8333bedb563",
   "metadata": {},
   "outputs": [],
   "source": [
    "! iconv -f LATIN1 data/ete.utf8.txt"
   ]
  },
  {
   "cell_type": "markdown",
   "id": "ac132877-6cd3-437b-8b32-6898aa47a8ac",
   "metadata": {},
   "source": [
    "L’option `-t` sert quant à elle à préciser vers quel encodage convertir un fichier :"
   ]
  },
  {
   "cell_type": "code",
   "execution_count": null,
   "id": "cc5bc671-7564-4837-b111-78cbdbbb6284",
   "metadata": {},
   "outputs": [],
   "source": [
    "! iconv -t ARABIC data/ete.latin1.txt > data/ete.arabic.txt\n",
    "! iconv -f ARABIC -t ARABIC data/ete.latin1.txt > data/ete.arabic.txt\n",
    "! cat data/ete.arabic.txt\n",
    "! iconv -f ARABIC data/ete.arabic.txt"
   ]
  },
  {
   "cell_type": "markdown",
   "id": "8e0964b8-7fce-4bb5-a63f-5d5483e85e99",
   "metadata": {},
   "source": [
    "## Avec le langage Python"
   ]
  },
  {
   "cell_type": "markdown",
   "id": "5376e2e9-6a03-4995-bb50-8eab1be35a7a",
   "metadata": {
    "slideshow": {
     "slide_type": "fragment"
    }
   },
   "source": [
    "Python 3 introduit une révolution dans la gestion de l’encodage des caractères, au prix d’une confusion troublante pour qui vient de Python 2 :\n",
    "\n",
    "- en Python 2, les chaînes de caractères (type `str`) sont par défaut encodées\n",
    "- en Python 3, elles sont décodées\n",
    "\n",
    "Type par défaut d’une chaîne de caractères décodée en Python 3 :"
   ]
  },
  {
   "cell_type": "code",
   "execution_count": null,
   "id": "075abac9-e08d-48da-b27f-bf64dd74416b",
   "metadata": {
    "slideshow": {
     "slide_type": "-"
    }
   },
   "outputs": [],
   "source": [
    "# decoded string\n",
    "type('chaîne de caractères')"
   ]
  },
  {
   "cell_type": "markdown",
   "id": "614ec65d-71fc-41a8-8571-19db975d10df",
   "metadata": {
    "slideshow": {
     "slide_type": "fragment"
    }
   },
   "source": [
    "Une chaîne encodée **ne** doit contenir **que** des caractères ASCII :"
   ]
  },
  {
   "cell_type": "code",
   "execution_count": null,
   "id": "c3ff3efa-dce6-4dae-8aee-f5f4012db012",
   "metadata": {
    "slideshow": {
     "slide_type": "-"
    }
   },
   "outputs": [],
   "source": [
    "# encoded string (type 'bytes')\n",
    "print(b'chaîne de caractères')"
   ]
  },
  {
   "cell_type": "markdown",
   "id": "32ba9392-51db-479d-84e2-3021931fa53f",
   "metadata": {
    "slideshow": {
     "slide_type": "subslide"
    }
   },
   "source": [
    "Pour la manipuler sous forme d’octets, il faut alors l’encoder en choisissant un encodage :"
   ]
  },
  {
   "cell_type": "code",
   "execution_count": null,
   "id": "b613fba6-b335-4f81-b63c-aea0844abd44",
   "metadata": {
    "slideshow": {
     "slide_type": "-"
    }
   },
   "outputs": [],
   "source": [
    "print('chaîne de caractères'.encode('utf8'))\n",
    "print(bytes('chaîne de caractères', 'latin1'))"
   ]
  },
  {
   "cell_type": "markdown",
   "id": "beb21081-4312-4d3b-aebe-3e9e1c310bea",
   "metadata": {
    "slideshow": {
     "slide_type": "fragment"
    }
   },
   "source": [
    "À l’inverse, une liste d’octets en entrée doit être décodée pour s’afficher :"
   ]
  },
  {
   "cell_type": "code",
   "execution_count": null,
   "id": "5a500a06-7789-4eda-9dce-1cc72666917d",
   "metadata": {
    "slideshow": {
     "slide_type": "-"
    }
   },
   "outputs": [],
   "source": [
    "segment = 'chaîne de caractères'.encode('utf8')\n",
    "print(segment.decode('utf8'))"
   ]
  },
  {
   "cell_type": "markdown",
   "id": "bac381fe-113e-4fb3-bbeb-ef14934cf479",
   "metadata": {
    "slideshow": {
     "slide_type": "subslide"
    }
   },
   "source": [
    "Il convient donc de connaître l’encodage utilisé, sinon le décodage se passe mal :"
   ]
  },
  {
   "cell_type": "code",
   "execution_count": null,
   "id": "e6aef28f-3667-4f45-9982-d77f3b2117dd",
   "metadata": {
    "slideshow": {
     "slide_type": "-"
    }
   },
   "outputs": [],
   "source": [
    "print(segment.decode('latin1'))\n",
    "print(segment.decode('mac-roman'))\n",
    "print(segment.decode('cp855'))"
   ]
  },
  {
   "cell_type": "markdown",
   "id": "7a9b3b0c-498b-4bc4-8b4a-6928efa89f28",
   "metadata": {
    "slideshow": {
     "slide_type": "subslide"
    }
   },
   "source": [
    "En bref, lorsque Python 3 manipule du texte, il offre toujours un affichage Unicode. Les ennuis commencent lorsque l’on veut manipuler des données binaires :"
   ]
  },
  {
   "cell_type": "code",
   "execution_count": null,
   "id": "33154bd0-451b-4f40-a03e-f2c599555e3b",
   "metadata": {
    "slideshow": {
     "slide_type": "-"
    }
   },
   "outputs": [],
   "source": [
    "a = 'chaîne de caractères'\n",
    "b = 'chaîne de caractères'.encode('latin1')\n",
    "\n",
    "print(a[3])\n",
    "print(b[3])"
   ]
  },
  {
   "cell_type": "markdown",
   "id": "38bc3610-d121-4a18-80c3-16c37ae32fb9",
   "metadata": {
    "slideshow": {
     "slide_type": "subslide"
    }
   },
   "source": [
    "L’accès atomique à des données binaires se fait donc sous forme d’octet. Pour savoir quel caractère unicode se cache derrière un entier, on utilise la fonction `chr()` :"
   ]
  },
  {
   "cell_type": "code",
   "execution_count": null,
   "id": "8d4b117a-83a2-44a4-945b-28166b7136a7",
   "metadata": {
    "slideshow": {
     "slide_type": "-"
    }
   },
   "outputs": [],
   "source": [
    "chr(238)"
   ]
  },
  {
   "cell_type": "markdown",
   "id": "bc6ce2b1-277d-4147-84a9-10720d815b21",
   "metadata": {
    "slideshow": {
     "slide_type": "fragment"
    }
   },
   "source": [
    "Et pour connaître le point de code Unicode d’un caractère décodé, on utilise la fonction `ord()` :"
   ]
  },
  {
   "cell_type": "code",
   "execution_count": null,
   "id": "248b3eb3-2c38-43a5-b113-c05fe7ef9233",
   "metadata": {
    "slideshow": {
     "slide_type": "-"
    }
   },
   "outputs": [],
   "source": [
    "letters = ['ε', 'ܬ']\n",
    "[ord(l) for l in letters]"
   ]
  },
  {
   "cell_type": "markdown",
   "id": "065b45c6-b5e3-4626-81e1-6c44c981fef9",
   "metadata": {
    "slideshow": {
     "slide_type": "slide"
    }
   },
   "source": [
    "### Cas pratique"
   ]
  },
  {
   "cell_type": "markdown",
   "id": "043d66aa-a616-40b3-87e8-ddb033ff4e3f",
   "metadata": {},
   "source": [
    "En japonais, le mot *paix* s’orthographie *平和* (*heiwa*). Il est constitué de deux caractères :\n",
    "\n",
    "- *平*\n",
    "- *和*\n",
    "\n",
    "Leurs numéros d’ordre Uncicode s’obtiennent facilement :"
   ]
  },
  {
   "cell_type": "code",
   "execution_count": null,
   "id": "a8aa9ca1-0065-450a-98b2-d7f3a5896b2c",
   "metadata": {
    "slideshow": {
     "slide_type": "-"
    }
   },
   "outputs": [],
   "source": [
    "[ ord(c) for c in '平和' ]"
   ]
  },
  {
   "cell_type": "markdown",
   "id": "76849e36-9ca1-406e-b992-dc659288acfb",
   "metadata": {
    "slideshow": {
     "slide_type": "subslide"
    }
   },
   "source": [
    "Ces numéros sont fournis en base 10 (décimale). Or, le langage informatique repose sur une base 2 (binaire). Si le premier idéogramme peut se représenter sur 5 signes allant de 0 à 9 (24179), il est impossible de le représenter sur un octet (8 signes allant de 0 à 1).\n",
    "\n",
    "Comme il faut plus d’un octet pour le représenter, toute conversion est impossible :"
   ]
  },
  {
   "cell_type": "code",
   "execution_count": null,
   "id": "c006ec6c-c5a3-4561-a4a9-fd701cc95610",
   "metadata": {},
   "outputs": [],
   "source": [
    "print(b'平')"
   ]
  },
  {
   "cell_type": "markdown",
   "id": "eac4273f-2b17-4735-9c3f-9485a74ee747",
   "metadata": {
    "slideshow": {
     "slide_type": "subslide"
    }
   },
   "source": [
    "Pour rendre la conversion possible, on doit d’abord fournir un encodage adéquat :"
   ]
  },
  {
   "cell_type": "code",
   "execution_count": null,
   "id": "3c81532c-4a66-4884-9e23-550e10f927b2",
   "metadata": {
    "slideshow": {
     "slide_type": "-"
    }
   },
   "outputs": [],
   "source": [
    "# 平 is not part of latin1 character set\n",
    "c = '平'.encode('latin1')"
   ]
  },
  {
   "cell_type": "code",
   "execution_count": null,
   "id": "3977c166-3dbd-440e-8111-ff193306215e",
   "metadata": {
    "slideshow": {
     "slide_type": "fragment"
    }
   },
   "outputs": [],
   "source": [
    "# UTF-8 works well!\n",
    "c = '平'.encode('utf8')"
   ]
  },
  {
   "cell_type": "markdown",
   "id": "1d6f7db3-b72c-43d1-934d-c234e57e0d67",
   "metadata": {
    "slideshow": {
     "slide_type": "subslide"
    }
   },
   "source": [
    "**Attention !** `c` est désormais une donnée binaire, représentée sous forme d’octets !"
   ]
  },
  {
   "cell_type": "code",
   "execution_count": null,
   "id": "6b782e41-2cd7-440a-9874-c7f2b7de2ffd",
   "metadata": {
    "slideshow": {
     "slide_type": "-"
    }
   },
   "outputs": [],
   "source": [
    "# how many bytes to encode ideogram 平 in UTF-8?\n",
    "print(len(c))\n",
    "\n",
    "# 3 bytes: e5 b9 b3 (in hexa form)\n",
    "print(c)\n",
    "\n",
    "# bytes in decimal form\n",
    "for byte in c:\n",
    "    print(byte)\n",
    "\n",
    "# in binary form\n",
    "for byte in c:\n",
    "    print(bin(byte))\n",
    "\n",
    "# f-String with format spectifier\n",
    "for byte in c:\n",
    "    print(f\"{byte:b}\")"
   ]
  },
  {
   "cell_type": "markdown",
   "id": "fddbb057-d056-478f-b17a-b8b2dd59f231",
   "metadata": {
    "slideshow": {
     "slide_type": "slide"
    }
   },
   "source": [
    "### Unicode et Python"
   ]
  },
  {
   "cell_type": "markdown",
   "id": "cbac1f75-3f44-4323-921e-eac82fbcb010",
   "metadata": {},
   "source": [
    "**Rappel :** toute chaîne affichée par Python3 est compatible Unicode.\n",
    "\n",
    "Le module qui permet d’interagir avec Unicode s’appelle *unicodedata*. Il expose des méthodes pour manipuler les caractères :\n",
    "\n",
    "- `.lookup()` : rechercher un caractère par son nom\n",
    "- `.decimal()` : obtenir la valeur décimale du caractère\n",
    "- `.normalize()` : obtenir une version normalisée du caractère\n",
    "- …\n",
    "\n",
    "Documentation sur le module :  \n",
    "[https://docs.python.org/3/library/unicodedata.html](https://docs.python.org/3/library/unicodedata.html)"
   ]
  },
  {
   "cell_type": "markdown",
   "id": "cfb6b8c2-c69d-4859-89dc-cbbaede88ab9",
   "metadata": {
    "slideshow": {
     "slide_type": "subslide"
    }
   },
   "source": [
    "#### Ordre lexicographique"
   ]
  },
  {
   "cell_type": "markdown",
   "id": "f9ff1a87-baad-45e8-9557-aea3bae0d33a",
   "metadata": {},
   "source": [
    "Une opération commune en analyse textuelle consiste à trier des éléments (*i.e.* des mots) par ordre alphabétique :"
   ]
  },
  {
   "cell_type": "code",
   "execution_count": null,
   "id": "b6681777-0868-47f8-8f9c-d58b87585122",
   "metadata": {
    "slideshow": {
     "slide_type": "-"
    }
   },
   "outputs": [],
   "source": [
    "words = ['lettre', 'apostrophe']\n",
    "words.sort()\n",
    "\n",
    "print(words)"
   ]
  },
  {
   "cell_type": "markdown",
   "id": "6b935848-e782-44da-9c2d-c1836aeeb153",
   "metadata": {
    "slideshow": {
     "slide_type": "fragment"
    }
   },
   "source": [
    "Le premier écueil se manifeste dès que des majuscules s’invitent dans la liste :"
   ]
  },
  {
   "cell_type": "code",
   "execution_count": null,
   "id": "858c8fb0-f082-4d27-8d59-721d85f0cd13",
   "metadata": {
    "slideshow": {
     "slide_type": "-"
    }
   },
   "outputs": [],
   "source": [
    "words = ['lettre', 'apostrophe', 'Ellipse']\n",
    "words.sort()\n",
    "\n",
    "print(words)"
   ]
  },
  {
   "cell_type": "markdown",
   "id": "35ec56ad-bdc7-47e7-a767-2b8c5c78168f",
   "metadata": {
    "slideshow": {
     "slide_type": "subslide"
    }
   },
   "source": [
    "C’est ici qu’intervient le paramètre `key` pour transmettre une fonction à chaque élément de la liste, avant toute comparaison :"
   ]
  },
  {
   "cell_type": "code",
   "execution_count": null,
   "id": "33a5d9ce-a3f5-4ba7-a9c2-d10a3545f25a",
   "metadata": {
    "slideshow": {
     "slide_type": "-"
    }
   },
   "outputs": [],
   "source": [
    "words = ['lettre', 'apostrophe', 'Ellipse']\n",
    "\n",
    "# each word is converted to lowercase before sorting\n",
    "words.sort(key=str.lower)\n",
    "\n",
    "print(words)"
   ]
  },
  {
   "cell_type": "markdown",
   "id": "66882e9e-4488-45c9-92a3-bd5bc635c5ca",
   "metadata": {
    "slideshow": {
     "slide_type": "fragment"
    }
   },
   "source": [
    "Méthode plutôt efficace et suffisante pour l’anglais, mais qui montre ses limites dès qu’entrent en jeu des caractères accentués :"
   ]
  },
  {
   "cell_type": "code",
   "execution_count": null,
   "id": "aff4f0b1-222b-43dd-bef6-5b9c16d53460",
   "metadata": {
    "slideshow": {
     "slide_type": "-"
    }
   },
   "outputs": [],
   "source": [
    "words = ['lettre', 'apostrophe', 'Ellipse', 'à']\n",
    "words.sort(key=str.lower)\n",
    "\n",
    "print(words)"
   ]
  },
  {
   "cell_type": "markdown",
   "id": "fcc23290-bfae-4d2a-88fe-85387436c7eb",
   "metadata": {
    "slideshow": {
     "slide_type": "subslide"
    }
   },
   "source": [
    "L’un des remèdes possibles consiste à supprimer les accents des chaînes de caractères.\n",
    "\n",
    "Plutôt que de prévoir tous les cas possibles (*Si le caractère se trouve parmi \\[à, â, ä\\], alors le transformer en \"a\", et sinon, si le caractère est un parmi \\[éè\\]…*), la méthode `.normalize()` du module `unicodedata` permet d’effectuer ce calcul plus simplement.\n",
    "\n",
    "En résumé, la fonction décompose un caractère en ses différents composants. Exemple avec la \"ligature minuscule latine fi\" :"
   ]
  },
  {
   "cell_type": "code",
   "execution_count": null,
   "id": "bb844f80-bf58-4c24-8164-d87873f5a7ff",
   "metadata": {
    "slideshow": {
     "slide_type": "-"
    }
   },
   "outputs": [],
   "source": [
    "import unicodedata\n",
    "\n",
    "fi = unicodedata.lookup('Latin Small Ligature Fi')\n",
    "components = unicodedata.normalize('NFKD', fi)\n",
    "\n",
    "print(f'Le caractère \"{ fi }\" est composé de : { [ c for c in components ] }')"
   ]
  },
  {
   "cell_type": "markdown",
   "id": "df7a5112-85c8-4c7a-b9d4-af632e50b5a8",
   "metadata": {
    "slideshow": {
     "slide_type": "subslide"
    }
   },
   "source": [
    "Appliquée à notre collection de mots, les caractères accentués ne sont plus relégués à la fin :"
   ]
  },
  {
   "cell_type": "code",
   "execution_count": null,
   "id": "8c8ad436-e721-4fad-b3d9-ee1d73c7c86b",
   "metadata": {
    "slideshow": {
     "slide_type": "-"
    }
   },
   "outputs": [],
   "source": [
    "words = ['lettre', 'apostrophe', 'Ellipse', 'à']\n",
    "\n",
    "words.sort(\n",
    "    key=lambda ch:unicodedata.normalize('NFKD', ch)\n",
    ")\n",
    "\n",
    "print(words)"
   ]
  },
  {
   "cell_type": "markdown",
   "id": "8aaaa18a-b67e-4bdb-bac5-cf15c494e3d5",
   "metadata": {
    "slideshow": {
     "slide_type": "subslide"
    }
   },
   "source": [
    "En revanche, elle soulève d’autres problèmes :\n",
    "\n",
    "- perte de la distinction majuscules/minuscules\n",
    "- perte du tri par nombre de caractères\n",
    "\n",
    "Plutôt que de transmettre une fonction anonyme au paramètre `key`, autant définir une fonction utilisateur :"
   ]
  },
  {
   "cell_type": "code",
   "execution_count": null,
   "id": "5826ea67-4940-4235-961b-c21d28eddec4",
   "metadata": {
    "slideshow": {
     "slide_type": "-"
    }
   },
   "outputs": [],
   "source": [
    "def comparison(word):\n",
    "    \"\"\"Removes the accent marks on every character in a word.\n",
    "    \n",
    "    Keyword argument:\n",
    "    word -- the word to analyze\n",
    "    \"\"\"\n",
    "    norm = \"\"\n",
    "    word = word.lower()\n",
    "    for ch in word:\n",
    "        components = unicodedata.normalize('NFKD', ch)\n",
    "        norm += components[0]\n",
    "    return norm\n",
    "\n",
    "words = ['lettre', 'apostrophe', 'Ellipse', 'à']\n",
    "words.sort(key=comparison)\n",
    "\n",
    "print(words)"
   ]
  }
 ],
 "metadata": {
  "kernelspec": {
   "display_name": "Python 3 (ipykernel)",
   "language": "python",
   "name": "python3"
  },
  "language_info": {
   "codemirror_mode": {
    "name": "ipython",
    "version": 3
   },
   "file_extension": ".py",
   "mimetype": "text/x-python",
   "name": "python",
   "nbconvert_exporter": "python",
   "pygments_lexer": "ipython3",
   "version": "3.12.1"
  }
 },
 "nbformat": 4,
 "nbformat_minor": 5
}
