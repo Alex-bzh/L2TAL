{
 "cells": [
  {
   "cell_type": "markdown",
   "metadata": {},
   "source": [
    "# Opérations courantes avec le Web\n",
    "\n",
    "La communication entre un client et un serveur sur le Web s’effectue au moyen d’un protocole (HTTP, HTTPS, FTP…) et de méthodes (*verbs*) qui définissent le type d’échanges souhaité. Parmi les méthodes les plus souvent employées :\n",
    "- **GET :** obtenir une ressource\n",
    "- **POST :** ajouter une ressource\n",
    "- **PUT :** modifier une ressource\n",
    "- **DELETE :** supprimer une ressource"
   ]
  },
  {
   "cell_type": "markdown",
   "metadata": {},
   "source": [
    "## *WGET*\n",
    "\n",
    "L’utilitaire `wget` (*network downloader*) permet d’interroger le Web uniquement en mode **GET**. Il sert ainsi à télécharger du contenu.\n",
    "\n",
    "```bash\n",
    "wget http://www.inalco.fr/sites/all/themes/inalco/logo.svg\n",
    "```\n",
    "\n",
    "Un ensemble d’options permettent d’aspirer par exemple un site Web entier :\n",
    "\n",
    "```bash\n",
    "wget -r -k -E -np http://www.llf.cnrs.fr\n",
    "```\n",
    "\n",
    "Explication des options :\n",
    "- `-r` : de manière récursive\n",
    "- `-k` : conversion des liens en liens locaux\n",
    "- `-E` : conversion des scripts PHP en pages HTML\n",
    "- `-np` : pour ne pas remonter dans l’arborescence du site"
   ]
  },
  {
   "cell_type": "markdown",
   "metadata": {},
   "source": [
    "## *CURL*\n",
    "\n",
    "Plus polyvalent que le précédent, l’utilitaire `curl` (*transfer a url*) dialogue avec de nombreux protocoles réseaux (HTTP(S), (S)FTP, LDAP, IMAP(S), SCP, SMB…) pour convoyer des données depuis ou vers un serveur.\n",
    "\n",
    "Par défaut, `curl` est programmé en mode **GET**. Pour modifier ce paramétrage, il faut lui passer l’option `-X` :\n",
    "\n",
    "```bash\n",
    "curl -X GET \"https://api.archives-ouvertes.fr/search/?q=<idhal>\"\n",
    "```\n",
    "\n",
    "Parmi les innombrables options de `curl`, citons :\n",
    "- la possibilité de transmettre des identifiants de connexion :\n",
    "```bash\n",
    "curl --user <username>:<password> <URL>\n",
    "```\n",
    "- ou encore celle d’utiliser un certificat :\n",
    "```bash\n",
    "curl --cert <client.pem> --key <key.pem> --insecure <URL>\n",
    "```\n"
   ]
  }
 ],
 "metadata": {
  "kernelspec": {
   "display_name": "Python 3",
   "language": "python",
   "name": "python3"
  },
  "language_info": {
   "codemirror_mode": {
    "name": "ipython",
    "version": 3
   },
   "file_extension": ".py",
   "mimetype": "text/x-python",
   "name": "python",
   "nbconvert_exporter": "python",
   "pygments_lexer": "ipython3",
   "version": "3.7.7"
  }
 },
 "nbformat": 4,
 "nbformat_minor": 4
}
