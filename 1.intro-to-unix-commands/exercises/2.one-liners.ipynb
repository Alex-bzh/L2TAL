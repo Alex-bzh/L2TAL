{
 "cells": [
  {
   "cell_type": "markdown",
   "metadata": {},
   "source": [
    "# Des programmes unilignes\n",
    "\n",
    "**Uniligne :** court programme informatique, généralement jetable, tenant sur une seule ligne."
   ]
  },
  {
   "cell_type": "markdown",
   "metadata": {},
   "source": [
    "## Comptage de lignes\n",
    "\n",
    "1. Créez un répertoire *data* ;\n",
    "2. copiez dedans tous les fichiers TXT du répertoire *files* ;\n",
    "3. créez dans ce répertoire *data* un fichier *output.txt* ;\n",
    "4. sachant que la commande `wc -l` permet de comptabiliser un nombre de lignes, enregistrez dans ce fichier le nombre de fichiers copiés."
   ]
  },
  {
   "cell_type": "markdown",
   "metadata": {},
   "source": [
    "```bash\n",
    "# Votre code ici\n",
    "\n",
    "```"
   ]
  },
  {
   "cell_type": "markdown",
   "metadata": {},
   "source": [
    "## Nombre d’occurences de mots uniques\n",
    "\n",
    "1. À l’exception des caractères alphabétiques, transformez dans le fichier *5200-0.txt* du répertoire *files* tous les caractères en sauts de ligne ;\n",
    "2. supprimez les lignes vides ;\n",
    "3. triez par ordre alphabétique ;\n",
    "4. comptez enfin le nombre d’occurrences de chaque mot, indépendamment de la casse.\n",
    "\n",
    "Pour réaliser ce petit programme, vous aurez besoin des utilitaires `sed`, `uniq`, `sort` et `tr`."
   ]
  },
  {
   "cell_type": "markdown",
   "metadata": {},
   "source": [
    "```bash\n",
    "# Votre code ici\n",
    "\n",
    "```"
   ]
  }
 ],
 "metadata": {
  "kernelspec": {
   "display_name": "Python 3",
   "language": "python",
   "name": "python3"
  },
  "language_info": {
   "codemirror_mode": {
    "name": "ipython",
    "version": 3
   },
   "file_extension": ".py",
   "mimetype": "text/x-python",
   "name": "python",
   "nbconvert_exporter": "python",
   "pygments_lexer": "ipython3",
   "version": "3.7.7"
  }
 },
 "nbformat": 4,
 "nbformat_minor": 4
}
