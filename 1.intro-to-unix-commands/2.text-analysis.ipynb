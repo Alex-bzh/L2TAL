{
 "cells": [
  {
   "cell_type": "markdown",
   "metadata": {},
   "source": [
    "# Analyse de texte avec Unix"
   ]
  },
  {
   "cell_type": "markdown",
   "metadata": {},
   "source": [
    "## Filtrage\n",
    "\n",
    "L’utilitaire `grep` (*file pattern searcher*) associé à l’option `-a` considère les fichiers en paramètres comme de l’ASCII. Il est utile pour rechercher un motif (*pattern*) en utilisant les expressions rationnelles.\n",
    "\n",
    "```bash\n",
    "# find, in all the TXT files, the lines that contain the word 'upon'\n",
    "cat ./files/*.txt | grep -a upon\n",
    "```\n",
    "\n",
    "```bash\n",
    "# words that end with suffix -ly\n",
    "cat ./files/*.txt | grep -a \"[a-zA-Z]*ly\"\n",
    "```"
   ]
  },
  {
   "cell_type": "markdown",
   "metadata": {},
   "source": [
    "## Remplacement"
   ]
  },
  {
   "cell_type": "markdown",
   "metadata": {},
   "source": [
    "### *SED*\n",
    "\n",
    "`sed` (*stream editor*) est un utilitaire très puissant qui permet d’éditer les lignes d’un flux en effectuant des remplacements.\n",
    "\n",
    "```bash\n",
    "# substitutes first occurrence of 'id' by 'it'\n",
    "echo \"Le petit chat boid du laid.\" | sed 's/id/it/'\n",
    "```\n",
    "\n",
    "```bash\n",
    "# substitutes all occurrences of 'id' by 'it'\n",
    "echo \"Le petit chat boid du laid.\" | sed 's/id/it/g'\n",
    "```\n",
    "\n",
    "Il est possible d’utiliser des expressions rationnelles :\n",
    "\n",
    "```bash\n",
    "echo \"Le petit chat boid du laid.\" | sed 's/\\w*d/t/g'\n",
    "```\n",
    "\n",
    "Si l’utilitaire renvoie ordinairement le flux dans la sortie standard, l’option `-i` effectue le remplacement en place dans les fichiers en paramètres :\n",
    "\n",
    "```bash\n",
    "sed -i '' 's/subscribe/unsubscribe/g' ./files/*.txt\n",
    "```\n",
    "\n",
    "La configuration `d` dans le paramétrage de l’outil permet de supprimer les lignes qui répondent au motif renseigné :\n",
    "\n",
    "```bash\n",
    "# remove lines starting with a whitespace character\n",
    "sed '/^[[:space:]]/d' ./files/*.txt\n",
    "```\n",
    "\n",
    "```bash\n",
    "# remove empty lines\n",
    "sed '/^$/d' ./files/*.txt\n",
    "```"
   ]
  },
  {
   "cell_type": "markdown",
   "metadata": {},
   "source": [
    "### *TR*\n",
    "\n",
    "Un autre utilitaire pour manipuler le flux d’un texte est `tr` (*translate characters*). Il offre la capacité d’effectuer une concordance entre plusieurs caractères à remplacer.\n",
    "\n",
    "```bash\n",
    "# 'a' => 'e' ; 'e' => 'a'\n",
    "echo \"Le petit chat boit du lait.\" | tr ae ea\n",
    "```\n",
    "\n",
    "Les remplacements peuvent s’opérer depuis un fichier :\n",
    "\n",
    "```bash\n",
    "tr ae ea < ./files/*.txt\n",
    "```\n",
    "\n",
    "L’option `-d` s’utilise pour supprimer des caractères :\n",
    "\n",
    "```bash\n",
    "# removes all occurrences of character 'e'\n",
    "tr -d e < ./files/*.txt\n",
    "```\n",
    "\n",
    "Avec l’option `-s`, les caractères répétés fusionnent :\n",
    "```bash\n",
    "# the three whitespace characters become one, while single ones still\n",
    "echo \"Le petit chat   boit du lait.\" | tr -s '[:blank:]' ' '\n",
    "```\n",
    "\n",
    "Une autre option intéressante consiste à effectuer un remplacement sur tous les autres caractères sauf ceux indiqués :\n",
    "\n",
    "```bash\n",
    "# keep all digits\n",
    "echo \"La révolution française a eu lieu en 1789.\" | tr -cd '[:digit:]'\n",
    "```\n",
    "\n",
    "```bash\n",
    "# every character but digits become an 'x'\n",
    "echo \"La révolution française a eu lieu en 1789.\" | tr -c '[:digit:]' 'x'\n",
    "```"
   ]
  },
  {
   "cell_type": "markdown",
   "metadata": {},
   "source": [
    "## Tri\n",
    "\n",
    "L’utilitaire `sort` permet de trier des lignes de textes. Avec l’option `-r`, le tri s’effectue de manière inversée et, avec `-f`, il ignore la casse des caractères :\n",
    "\n",
    "```bash\n",
    "echo \"Le\n",
    "petit\n",
    "chat\n",
    "boit\n",
    "du\n",
    "lait\n",
    ".\" | sort -rf\n",
    "```\n",
    "\n",
    "Et pour effectuer un tri sur des valeurs numériques plutôt qu’alphabétiques, il faut recourir à l’option `-n`."
   ]
  },
  {
   "cell_type": "markdown",
   "metadata": {},
   "source": [
    "## Comptage\n",
    "\n",
    "Il existe un utilitaire pour compter les lignes, mots et caractères dans un texte : `wc` (*word count*).\n",
    "\n",
    "```bash\n",
    "# 1 line, 6 words, 28 characters\n",
    "echo \"Le petit chat boit du lait.\" | wc\n",
    "```\n",
    "\n",
    "Pour limiter le comptage à l’une ou l’autre des unités, il faut utiliser les options `-l` (lignes), `-w` (mots) et `-m` (caractères)."
   ]
  },
  {
   "cell_type": "markdown",
   "metadata": {},
   "source": [
    "## Fréquence\n",
    "\n",
    "Grâce à `uniq` et son option `-c`, il est possible d’obtenir un décompte des occurrences d’un mot dans un texte :\n",
    "\n",
    "```bash\n",
    "echo \"Le\n",
    "petit\n",
    "chat\n",
    "boit\n",
    "du\n",
    "lait\n",
    ".\n",
    "Le\n",
    "petit\n",
    "chien\n",
    "boit\n",
    "de\n",
    "l’\n",
    "eau\n",
    ".\" | sort | uniq -c | sort -rn\n",
    "```\n",
    "\n",
    "À noter que l’option `-i` permet d’effectuer ce calcul en ignorant la casse."
   ]
  }
 ],
 "metadata": {
  "kernelspec": {
   "display_name": "Python 3",
   "language": "python",
   "name": "python3"
  },
  "language_info": {
   "codemirror_mode": {
    "name": "ipython",
    "version": 3
   },
   "file_extension": ".py",
   "mimetype": "text/x-python",
   "name": "python",
   "nbconvert_exporter": "python",
   "pygments_lexer": "ipython3",
   "version": "3.7.7"
  }
 },
 "nbformat": 4,
 "nbformat_minor": 4
}
