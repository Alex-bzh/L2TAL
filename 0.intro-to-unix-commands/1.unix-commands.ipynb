{
 "cells": [
  {
   "cell_type": "markdown",
   "metadata": {
    "slideshow": {
     "slide_type": "slide"
    }
   },
   "source": [
    "# Des commandes UNIX"
   ]
  },
  {
   "cell_type": "markdown",
   "metadata": {},
   "source": [
    "## Ce qu’il est inutile de savoir"
   ]
  },
  {
   "cell_type": "markdown",
   "metadata": {
    "slideshow": {
     "slide_type": "subslide"
    }
   },
   "source": [
    "- **UNIX :** famille de systèmes d’exploitation\n",
    "- issu de recherches menées par Kenneth Thompson\n",
    "- Linux est de type UNIX\n",
    "- Mac OS dérivé de UNIX (BSD)"
   ]
  },
  {
   "cell_type": "markdown",
   "metadata": {},
   "source": [
    "## Ce qu’il est utile de savoir"
   ]
  },
  {
   "cell_type": "markdown",
   "metadata": {
    "slideshow": {
     "slide_type": "subslide"
    }
   },
   "source": [
    "- repose sur un interpréteur (*shell*)\n",
    "- dispose de petits utilitaires appelés en ligne de commande\n",
    "- ligne de commande débute par une invite (*prompt*), par exemple le `$` ou le `#` en mode superutilisateur\n",
    "- syntaxe de l’appel d’une commande :\n",
    "```txt\n",
    "commande [-options] [arguments]\n",
    "```\n",
    "- exemple :"
   ]
  },
  {
   "cell_type": "code",
   "execution_count": null,
   "metadata": {},
   "outputs": [],
   "source": [
    "! ls -l ./data/pg2490.txt"
   ]
  },
  {
   "cell_type": "markdown",
   "metadata": {
    "slideshow": {
     "slide_type": "slide"
    }
   },
   "source": [
    "## Commandes usuelles"
   ]
  },
  {
   "cell_type": "markdown",
   "metadata": {},
   "source": [
    "### Opérations sur les fichiers ou répertoires"
   ]
  },
  {
   "cell_type": "markdown",
   "metadata": {
    "slideshow": {
     "slide_type": "subslide"
    }
   },
   "source": [
    "- `ls`: liste le contenu d’un répertoire\n",
    "- `touch`: crée un fichier\n",
    "- `mv`: renomme un fichier\n",
    "- `rm`: supprime un fichier\n",
    "- `cp`: copie un fichier"
   ]
  },
  {
   "cell_type": "markdown",
   "metadata": {},
   "source": [
    "### Opérations spécifiques aux répertoires"
   ]
  },
  {
   "cell_type": "markdown",
   "metadata": {
    "slideshow": {
     "slide_type": "subslide"
    }
   },
   "source": [
    "- `cd` : modifie le répertoire courant\n",
    "- `pwd` : affiche le chemin vers le répertoire courant\n",
    "- `mkdir`: crée un répertoire\n",
    "- `rmdir` : supprime un répertoire"
   ]
  },
  {
   "cell_type": "markdown",
   "metadata": {},
   "source": [
    "### Opérations sur des fichiers textes"
   ]
  },
  {
   "cell_type": "markdown",
   "metadata": {
    "slideshow": {
     "slide_type": "subslide"
    }
   },
   "source": [
    "- `cat` : concatène des fichiers pour les imprimer\n",
    "- `less` : ouvre un fichier pour affichage\n",
    "- `more` : ouvre un fichier pour affichage\n",
    "- `head` : affiche les dix premières lignes d’un fichier\n",
    "- `tail` : affiche les dix dernières lignes d’un fichier\n",
    "- `grep` : recherche de motifs dans un fichier"
   ]
  },
  {
   "cell_type": "markdown",
   "metadata": {},
   "source": [
    "### Divers"
   ]
  },
  {
   "cell_type": "markdown",
   "metadata": {
    "slideshow": {
     "slide_type": "subslide"
    }
   },
   "source": [
    "- `echo` : imprime un message\n",
    "- `man` : obtenir la page du manuel relative à la commande\n",
    "\n",
    "Un doute sur l’utilisation d’une commande ? Pensez à `man` ou au site [TLDR](https://tldr.ostera.io/) qui présente des cas pratiques."
   ]
  },
  {
   "cell_type": "markdown",
   "metadata": {},
   "source": [
    "## Enchaîner des instructions"
   ]
  },
  {
   "cell_type": "markdown",
   "metadata": {
    "slideshow": {
     "slide_type": "slide"
    }
   },
   "source": [
    "Parmi les manières d’enchaîner des instructions :\n",
    "- opérateur `;` pour tout exécuter en même temps\n",
    "- opérateur `&&` pour exécuter une commande seulement si les précédentes ont réussi\n",
    "- opérateur `|` pour envoyer à une commande le résultat des précédentes"
   ]
  },
  {
   "cell_type": "markdown",
   "metadata": {},
   "source": [
    "### Exemples d’utilisation"
   ]
  },
  {
   "cell_type": "markdown",
   "metadata": {},
   "source": [
    "Essayons de lister les fichiers du répertoire *data* :"
   ]
  },
  {
   "cell_type": "code",
   "execution_count": null,
   "metadata": {},
   "outputs": [],
   "source": [
    "! ls ./data"
   ]
  },
  {
   "cell_type": "markdown",
   "metadata": {},
   "source": [
    "Sur la base du résultat, recherchons les fichiers avec une extension `.csv` :"
   ]
  },
  {
   "cell_type": "code",
   "execution_count": null,
   "metadata": {},
   "outputs": [],
   "source": [
    "! ls ./data | grep \".csv\""
   ]
  },
  {
   "cell_type": "markdown",
   "metadata": {},
   "source": [
    "Qu’il existe ou non des fichiers CSV, on souhaite créer un fichier de résultats :"
   ]
  },
  {
   "cell_type": "code",
   "execution_count": null,
   "metadata": {},
   "outputs": [],
   "source": [
    "! ls ./data | grep \".csv\" ; touch ./data/results.txt"
   ]
  },
  {
   "cell_type": "markdown",
   "metadata": {},
   "source": [
    "S’il existe des fichiers CSV dans le répertoire, on souhaite en plus afficher un message :"
   ]
  },
  {
   "cell_type": "code",
   "execution_count": null,
   "metadata": {},
   "outputs": [],
   "source": [
    "! ls ./data | grep \".csv\" && echo \"Il existe des fichiers CSV dans le répertoire.\""
   ]
  },
  {
   "cell_type": "markdown",
   "metadata": {},
   "source": [
    "S’il existe des fichiers CSV, on souhaite maintenant créer un fichier dans lequel écrire le message :"
   ]
  },
  {
   "cell_type": "code",
   "execution_count": null,
   "metadata": {
    "slideshow": {
     "slide_type": "subslide"
    }
   },
   "outputs": [],
   "source": [
    "! ls ./data | grep \".csv\" && touch ./data/results.txt && echo \"Il existe des fichiers CSV dans le répertoire.\" > ./data/results.txt"
   ]
  },
  {
   "cell_type": "markdown",
   "metadata": {},
   "source": [
    "**Remarque :** il est possible d’obtenir le même résultat en effectuant les opérations les unes après les autres."
   ]
  },
  {
   "cell_type": "markdown",
   "metadata": {},
   "source": [
    "## Les flux de redirection"
   ]
  },
  {
   "cell_type": "markdown",
   "metadata": {},
   "source": [
    "Une commande tapée affiche un résultat dans la console. Pour envoyer le résultat ailleurs, il faut utiliser les flux de redirection :\n",
    "\n",
    "- `>` pour remplacer le contenu d’un fichier par le résultat d’une commande\n",
    "- `>>` pour ajouter à un fichier le résultat d’une commande\n",
    "- `<` pour lire depuis un fichier\n",
    "- `<<` pour lire depuis le clavier"
   ]
  },
  {
   "cell_type": "markdown",
   "metadata": {},
   "source": [
    "### Les flux d’entrée/sorties"
   ]
  },
  {
   "cell_type": "markdown",
   "metadata": {},
   "source": [
    "Lorsqu’une commande est saisie au clavier, par exemple la commande `cat`, elle transite via l’entrée standard (*standard input* ou *stdin*) qui est perçue par le *shell* comme un fichier à accès séquentiel. Le résultat de la commande est alors dirigé soit vers la sortie standard (*standard output* ou *stdout*) en cas de succès, soit vers la sortie d’erreur standard (*standard error* ou *stderr*).\n",
    "\n",
    "Par ailleurs, à chacun de ces fichiers est attribué un numéro, comme l’illustre le schéma ci-dessous :\n",
    "\n",
    "![Les entrée/sorties](./images/streams.svg)\n",
    "\n",
    "Or, il est possible de rediriger ces entrée et sorties."
   ]
  },
  {
   "cell_type": "markdown",
   "metadata": {},
   "source": [
    "### Remplacer le contenu d’un fichier"
   ]
  },
  {
   "cell_type": "markdown",
   "metadata": {},
   "source": [
    "Le flux de redirection `>` permet de rediriger la sortie vers un fichier autre que *stdout*. Si le fichier existe déjà, il sera écrasé ; autrement, il sera créé."
   ]
  },
  {
   "cell_type": "code",
   "execution_count": null,
   "metadata": {},
   "outputs": [],
   "source": [
    "# create a file hello.txt\n",
    "! echo 'Hello World!' > ./data/hello.txt"
   ]
  },
  {
   "cell_type": "markdown",
   "metadata": {},
   "source": [
    "### Ajouter du contenu à la fin d’un fichier"
   ]
  },
  {
   "cell_type": "markdown",
   "metadata": {},
   "source": [
    "Le flux de redirection `>>` s’utilise de la même manière à l’exception près que le résultat de la commande sera redirigé à la fin du fichier mentionné. Et si le fichier n’existe pas, il sera tout simplement créé."
   ]
  },
  {
   "cell_type": "code",
   "execution_count": null,
   "metadata": {},
   "outputs": [],
   "source": [
    "! echo 'This is a warm welcoming message' >> ./data/hello.txt"
   ]
  },
  {
   "cell_type": "markdown",
   "metadata": {},
   "source": [
    "### Lire depuis un fichier"
   ]
  },
  {
   "cell_type": "markdown",
   "metadata": {},
   "source": [
    "Le flux de redirection `<` indique à la commande d’où provient l’entrée qu’on lui soumet."
   ]
  },
  {
   "cell_type": "code",
   "execution_count": null,
   "metadata": {},
   "outputs": [],
   "source": [
    "# the content of the file is sent to the command\n",
    "! cat -n < ./data/hello.txt"
   ]
  },
  {
   "cell_type": "markdown",
   "metadata": {},
   "source": [
    "Il existe une différence notable de traitement entre cette syntaxe et celle liée à la commande `cat` elle-même :"
   ]
  },
  {
   "cell_type": "code",
   "execution_count": null,
   "metadata": {},
   "outputs": [],
   "source": [
    "! cat -n ./data/hello.txt"
   ]
  },
  {
   "cell_type": "markdown",
   "metadata": {},
   "source": [
    "Dans le second cas, c’est à la commande d’ouvrir le fichier et de lire son contenu !"
   ]
  },
  {
   "cell_type": "markdown",
   "metadata": {},
   "source": [
    "### Lire depuis le clavier"
   ]
  },
  {
   "cell_type": "markdown",
   "metadata": {},
   "source": [
    "Le flux de redirection `<<` permet de saisir des données depuis le clavier et de les interpréter dynamiquement. Par exemple, pour trier des données saisies au clavier :\n",
    "\n",
    "```bash\n",
    "# :q to exit\n",
    "! sort << :q\n",
    "```\n",
    "\n",
    "Les données que vous saisissez sont envoyées en entrée à la commande `sort` qui se chargera de produire un résultat en sortie. Pour terminer la saisie, il suffit de taper à la fin les caractères qui se trouvent à droite de l’instruction (`:q` en l’occurrence)."
   ]
  },
  {
   "cell_type": "markdown",
   "metadata": {},
   "source": [
    "### Rediriger les erreurs"
   ]
  },
  {
   "cell_type": "markdown",
   "metadata": {},
   "source": [
    "Il existe plusieurs manières de rediriger les erreurs rencontrées lors de l’analyse d’une commande. Dans l’exemple ci-dessous, la commande `cat` ne trouve pas le fichier et l’indique dans un message d’erreur qui s’affiche dans la console. Il s’agit d’un résultat qui transite non pas vers *stdout* mais vers *stderr*."
   ]
  },
  {
   "cell_type": "code",
   "execution_count": null,
   "metadata": {},
   "outputs": [],
   "source": [
    "! cat hello.txt"
   ]
  },
  {
   "cell_type": "markdown",
   "metadata": {},
   "source": [
    "Comme *stderr* est numéroté 2, il est possible de l’intercepter et de le rediriger avec les opérateurs `2>` ou `2>>` :"
   ]
  },
  {
   "cell_type": "code",
   "execution_count": null,
   "metadata": {},
   "outputs": [],
   "source": [
    "! cat hello.txt 2> ./data/erorr.log"
   ]
  },
  {
   "cell_type": "markdown",
   "metadata": {},
   "source": [
    "Une autre possibilité consiste à rediriger *stdout* et *stderr* au même endroit :"
   ]
  },
  {
   "cell_type": "code",
   "execution_count": null,
   "metadata": {},
   "outputs": [],
   "source": [
    "# file does not exist, error is printed inside copy.txt\n",
    "! cat hello.txt > ./data/error.log 2>&1"
   ]
  },
  {
   "cell_type": "markdown",
   "metadata": {},
   "source": [
    "De manière réciproque, il est tout à fait envisageable de rediriger *stdout* vers *stderr* :"
   ]
  },
  {
   "cell_type": "code",
   "execution_count": null,
   "metadata": {},
   "outputs": [],
   "source": [
    "# message sent to stderr in spite of stdout\n",
    "! echo \"An error occurred\" 1>&2"
   ]
  }
 ],
 "metadata": {
  "celltoolbar": "Diaporama",
  "kernelspec": {
   "display_name": "Python 3 (ipykernel)",
   "language": "python",
   "name": "python3"
  },
  "language_info": {
   "codemirror_mode": {
    "name": "ipython",
    "version": 3
   },
   "file_extension": ".py",
   "mimetype": "text/x-python",
   "name": "python",
   "nbconvert_exporter": "python",
   "pygments_lexer": "ipython3",
   "version": "3.11.7"
  }
 },
 "nbformat": 4,
 "nbformat_minor": 4
}
