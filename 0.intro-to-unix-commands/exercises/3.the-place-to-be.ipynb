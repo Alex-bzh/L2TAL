{
 "cells": [
  {
   "cell_type": "markdown",
   "metadata": {},
   "source": [
    "# The place to be"
   ]
  },
  {
   "cell_type": "markdown",
   "metadata": {},
   "source": [
    "L’objectif de cet exercice est de connaître le nombre d’occurrences de chaque ville de Lorraine citée dans un fichier extrait du corpus du quotidien de *L’Est Républicain*.\n",
    "\n",
    "Vous disposez pour ce faire de deux ressources clés :\n",
    "- le fichier *dbpedia.txt* qui est une extraction en SPARQL des communes de Lorraine depuis la base de données [*DBpedia FR*](http://fr.dbpedia.org/) ;\n",
    "- et le fichier *02_01_2011.xml* issu du corpus *L’Est Républicain*.\n",
    "\n",
    "Vous nettoierez dans un premier temps les deux fichiers avant de les confronter et de comptabiliser le nombre d’occurrences de chacune des communes.\n",
    "\n",
    "Pour vous aider, vous pourriez suivre le cheminement suivant :\n",
    "1. supprimer la chaîne `http://fr.dbpedia.org/resource/` qui précède chaque commune du fichier *dbpedia.txt* et l’enregistrer dans un fichier *lorraine.tmp* ;\n",
    "2. supprimer dans ce fichier les guillemets doubles `\"` et sauvegarder le résultat dans un fichier *lorraine.txt* ;\n",
    "3. supprimer le fichier *lorraine.tmp* ;\n",
    "4. découper le contenu du fichier *02_01_2011.xml* en mots avec un mot par ligne ;\n",
    "5. supprimer de la liste des mots tous ceux qui ne débutent pas par une majuscule ;\n",
    "6. trier ces noms propres et comptabiliser leur fréquence d’apparition ;\n",
    "7. filtrer enfin avec `grep` et le fichier *lorraine.txt* la liste des noms propres et enregistrer le résultats dans un fichier *stats.txt*."
   ]
  },
  {
   "cell_type": "code",
   "execution_count": null,
   "metadata": {},
   "outputs": [],
   "source": [
    "# your code here"
   ]
  }
 ],
 "metadata": {
  "kernelspec": {
   "display_name": "Python 3 (ipykernel)",
   "language": "python",
   "name": "python3"
  },
  "language_info": {
   "codemirror_mode": {
    "name": "ipython",
    "version": 3
   },
   "file_extension": ".py",
   "mimetype": "text/x-python",
   "name": "python",
   "nbconvert_exporter": "python",
   "pygments_lexer": "ipython3",
   "version": "3.11.7"
  }
 },
 "nbformat": 4,
 "nbformat_minor": 4
}
