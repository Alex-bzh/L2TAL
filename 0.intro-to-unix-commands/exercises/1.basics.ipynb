{
 "cells": [
  {
   "cell_type": "markdown",
   "metadata": {},
   "source": [
    "# Les bases"
   ]
  },
  {
   "cell_type": "markdown",
   "metadata": {},
   "source": [
    "## Manipulation de fichiers\n",
    "\n",
    "1. Créez un répertoire *data* sur votre bureau ;\n",
    "2. toujours sur votre bureau, créez un fichier *poem.txt*\n",
    "3. saisissez le poème *Alicante* de Prévert :\n",
    ">Une orange sur la table  \n",
    "Ta robe sur le tapis  \n",
    "Et toi dans mon lit  \n",
    "Doux présent du présent  \n",
    "Fraîcheur de la nuit  \n",
    "Chaleur de ma vie.\n",
    "4. copiez le fichier *poem.txt* vers un nouveau fichier *alicante.txt* dans le répertoire *data* ;\n",
    "5. supprimez le fichier *poem.txt*"
   ]
  },
  {
   "cell_type": "markdown",
   "metadata": {},
   "source": [
    "```bash\n",
    "# Your code here\n",
    "\n",
    "```"
   ]
  },
  {
   "cell_type": "markdown",
   "metadata": {},
   "source": [
    "## Comptage\n",
    "\n",
    "Comptez le nombre de mots dans un texte saisi au clavier par un utilisateur. L’opérateur de sortie de la saisie devra être une succession d’au moins trois caractères et dont le premier caractère sera un caractère spécial.\n",
    "\n",
    "Essayez votre programme avec cet haïku de Matsuo Bashō :\n",
    "\n",
    ">Puissé-je à la rosée  \n",
    "Petit à petit me laver  \n",
    "Des poussières de ce monde ?\n",
    "\n",
    "Commentez le résultat."
   ]
  },
  {
   "cell_type": "markdown",
   "metadata": {},
   "source": [
    "```bash\n",
    "# Your code here\n",
    "\n",
    "```\n",
    "\n",
    "**Votre commentaire :** "
   ]
  },
  {
   "cell_type": "markdown",
   "metadata": {},
   "source": [
    "## Enregistrer une opération\n",
    "\n",
    "En partant de l’exercice précédent, enregistrez individuellement chaque résultat de votre programme dans un fichier *stats.txt*."
   ]
  },
  {
   "cell_type": "markdown",
   "metadata": {},
   "source": [
    "```bash\n",
    "# Your code here\n",
    "\n",
    "```"
   ]
  }
 ],
 "metadata": {
  "kernelspec": {
   "display_name": "Python 3",
   "language": "python",
   "name": "python3"
  },
  "language_info": {
   "codemirror_mode": {
    "name": "ipython",
    "version": 3
   },
   "file_extension": ".py",
   "mimetype": "text/x-python",
   "name": "python",
   "nbconvert_exporter": "python",
   "pygments_lexer": "ipython3",
   "version": "3.7.4"
  }
 },
 "nbformat": 4,
 "nbformat_minor": 4
}
