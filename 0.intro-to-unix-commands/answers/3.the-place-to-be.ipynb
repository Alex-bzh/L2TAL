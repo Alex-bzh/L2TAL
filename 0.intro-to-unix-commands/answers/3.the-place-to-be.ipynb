{
 "cells": [
  {
   "cell_type": "markdown",
   "metadata": {},
   "source": [
    "# The place to be"
   ]
  },
  {
   "cell_type": "markdown",
   "metadata": {},
   "source": [
    "L’objectif de cet exercice est de connaître le nombre d’occurrences de chaque ville de Lorraine citée dans un fichier extrait du corpus du quotidien de *L’Est Républicain*.\n",
    "\n",
    "Vous disposez pour ce faire de deux ressources clés :\n",
    "- le fichier *dbpedia.txt* qui est une extraction en SPARQL des communes de Lorraine depuis la base de données [*DBpedia FR*](http://fr.dbpedia.org/) ;\n",
    "- et le fichier *02_01_2011.xml* issu du corpus *L’Est Républicain*.\n",
    "\n",
    "Vous nettoierez dans un premier temps les deux fichiers avant de les confronter et de comptabiliser le nombre d’occurrences de chacune des communes.\n",
    "\n",
    "Pour vous aider, vous pourriez suivre le cheminement suivant :\n",
    "1. supprimer la chaîne `http://fr.dbpedia.org/resource/` qui précède chaque commune du fichier *dbpedia.txt* et l’enregistrer dans un fichier *lorraine.tmp* ;\n",
    "2. supprimer dans ce fichier les guillemets doubles `\"` et sauvegarder le résultat dans un fichier *lorraine.txt* ;\n",
    "3. supprimer le fichier *lorraine.tmp* ;\n",
    "4. découper le contenu du fichier *02_01_2011.xml* en mots avec un mot par ligne ;\n",
    "5. supprimer de la liste des mots tous ceux qui ne débutent pas par une majuscule ;\n",
    "6. trier ces noms propres et comptabiliser leur fréquence d’apparition ;\n",
    "7. filtrer enfin avec `grep` et le fichier *lorraine.txt* la liste des noms propres et enregistrer le résultats dans un fichier *stats.txt*."
   ]
  },
  {
   "cell_type": "code",
   "execution_count": null,
   "metadata": {},
   "outputs": [],
   "source": [
    "# your code here\n",
    "\n",
    "# all the towns in Lorraine\n",
    "! sed 's/http:\\/\\/fr.dbpedia.org\\/resource\\///g' ../data/dbpedia.txt > lorraine.tmp\n",
    "\n",
    "# remove character \" and put the cleaned DB in another file\n",
    "! sed 's/\"//g' lorraine.tmp > ../data/lorraine.txt\n",
    "\n",
    "# delete temporary file\n",
    "! rm lorraine.tmp\n",
    "\n",
    "# all non alphabetic letters are converted into spaces, then blank lines are removed\n",
    "! tr -cs \"[:alpha:]\" \"\\n\" < ../data/02_01_2011.xml | sed '/^$/d' > ../data/words_in_xml.txt\n",
    "\n",
    "# keep words beginning \u0000o\u0000r\u0000d\u0000s\u0000 \u0000w\u0000i\u0000t\u0000h\u0000 r, sort them before counting their occurrences\n",
    "! sed '/^[^A-Z]/d' ../data/words_in_xml.txt | sort | uniq -c > ../data/ne.txt\n",
    "\n",
    "# filtering\n",
    "! cat ../data/ne.txt | grep -f ../data/lorraine.txt > ../data/stats.txt"
   ]
  }
 ],
 "metadata": {
  "kernelspec": {
   "display_name": "Python 3 (ipykernel)",
   "language": "python",
   "name": "python3"
  },
  "language_info": {
   "codemirror_mode": {
    "name": "ipython",
    "version": 3
   },
   "file_extension": ".py",
   "mimetype": "text/x-python",
   "name": "python",
   "nbconvert_exporter": "python",
   "pygments_lexer": "ipython3",
   "version": "3.11.7"
  }
 },
 "nbformat": 4,
 "nbformat_minor": 4
}
