{
 "cells": [
  {
   "cell_type": "markdown",
   "metadata": {},
   "source": [
    "# Des programmes unilignes"
   ]
  },
  {
   "cell_type": "markdown",
   "metadata": {},
   "source": [
    "**Uniligne :** court programme informatique, généralement jetable, tenant sur une seule ligne."
   ]
  },
  {
   "cell_type": "markdown",
   "metadata": {},
   "source": [
    "## Comptage de lignes"
   ]
  },
  {
   "cell_type": "markdown",
   "metadata": {},
   "source": [
    "1. Créez un répertoire *files* ;\n",
    "2. copiez dedans tous les fichiers TXT du répertoire *data* ;\n",
    "3. créez dans ce répertoire *files* un fichier *output.txt* ;\n",
    "4. sachant que la commande `wc -l` permet de comptabiliser un nombre de lignes, enregistrez dans ce fichier le nombre de fichiers copiés."
   ]
  },
  {
   "cell_type": "code",
   "execution_count": null,
   "metadata": {},
   "outputs": [],
   "source": [
    "# your code here\n",
    "\n",
    "! mkdir data && cp ./data/*.txt ./data && ls ./data | wc -l > ./data/output.txt"
   ]
  },
  {
   "cell_type": "markdown",
   "metadata": {},
   "source": [
    "## Nombre d’occurences de mots uniques"
   ]
  },
  {
   "cell_type": "markdown",
   "metadata": {},
   "source": [
    "1. À l’exception des caractères alphabétiques, transformez dans le fichier *5200-0.txt* du répertoire *files* tous les caractères en sauts de ligne ;\n",
    "2. supprimez les lignes vides ;\n",
    "3. triez par ordre alphabétique ;\n",
    "4. comptez enfin le nombre d’occurrences de chaque mot, indépendamment de la casse.\n",
    "\n",
    "Pour réaliser ce petit programme, vous aurez besoin des utilitaires `sed`, `uniq`, `sort` et `tr`."
   ]
  },
  {
   "cell_type": "code",
   "execution_count": null,
   "metadata": {},
   "outputs": [],
   "source": [
    "# your code here\n",
    "\n",
    "! tr -cs \"[:alpha:]\" \"\\n\" < ../data/5200-0.txt  | sed '/^$/d' | sort -f | uniq -c -i"
   ]
  },
  {
   "cell_type": "markdown",
   "metadata": {},
   "source": [
    "## Des lettres sur haute fréquence"
   ]
  },
  {
   "cell_type": "markdown",
   "metadata": {},
   "source": [
    "Quelles sont les lettres les plus fréquentes dans le fichier *pg2490.txt* ?"
   ]
  },
  {
   "cell_type": "code",
   "execution_count": null,
   "metadata": {},
   "outputs": [],
   "source": [
    "# your code here\n",
    "\n",
    "! cat ../data/pg2490.txt | sed 's/./&\\n/g' | sort | uniq -c | sort -rn"
   ]
  }
 ],
 "metadata": {
  "kernelspec": {
   "display_name": "Python 3 (ipykernel)",
   "language": "python",
   "name": "python3"
  },
  "language_info": {
   "codemirror_mode": {
    "name": "ipython",
    "version": 3
   },
   "file_extension": ".py",
   "mimetype": "text/x-python",
   "name": "python",
   "nbconvert_exporter": "python",
   "pygments_lexer": "ipython3",
   "version": "3.12.1"
  }
 },
 "nbformat": 4,
 "nbformat_minor": 4
}
