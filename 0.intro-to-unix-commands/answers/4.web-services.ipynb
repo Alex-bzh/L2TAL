{
 "cells": [
  {
   "cell_type": "markdown",
   "metadata": {},
   "source": [
    "# Services Web"
   ]
  },
  {
   "cell_type": "markdown",
   "metadata": {},
   "source": [
    "## Générer un QR code"
   ]
  },
  {
   "cell_type": "markdown",
   "metadata": {},
   "source": [
    "En utilisant le service Web [*QR code*](https://github.com/sayanarijit/qrcode.show), générez un QR code qui renvoie vers le [programme TV du jour](https://www.programme-tv.net/)."
   ]
  },
  {
   "cell_type": "code",
   "execution_count": null,
   "metadata": {},
   "outputs": [],
   "source": [
    "# your code here\n",
    "! curl 'qrcode.show/https://www.programme-tv.net/'"
   ]
  },
  {
   "cell_type": "markdown",
   "metadata": {},
   "source": [
    "## Chuck Norris never dies"
   ]
  },
  {
   "cell_type": "markdown",
   "metadata": {},
   "source": [
    "Cette fois-ci, en utilisant le service Web [The Internet Chuck Norris Database](http://www.icndb.com/api/) (ICNDB), invoquez une *joke* en remplaçant le nom de Chuck Norris par vos nom et prénom."
   ]
  },
  {
   "cell_type": "code",
   "execution_count": null,
   "metadata": {},
   "outputs": [],
   "source": [
    "# your code here\n",
    "! curl 'http://api.icndb.com/jokes/random?firstName=Alexandre&lastName=Roulois'"
   ]
  },
  {
   "cell_type": "markdown",
   "metadata": {},
   "source": [
    "## Une recherche bibliographique"
   ]
  },
  {
   "cell_type": "markdown",
   "metadata": {},
   "source": [
    "Grâce à [l’API de recherche HAL](https://api.archives-ouvertes.fr/docs/search), effectuez une recherche de la chaîne \"Doctor Who\" sur le titre des notices (paramètre `title_t`) et produisez une sortie en XML (paramètre `wt`)."
   ]
  },
  {
   "cell_type": "code",
   "execution_count": null,
   "metadata": {},
   "outputs": [],
   "source": [
    "# your code here\n",
    "! curl 'https://api.archives-ouvertes.fr/search/?q=title_t:%22doctor%20who%22&wt=xml'"
   ]
  }
 ],
 "metadata": {
  "kernelspec": {
   "display_name": "Python 3 (ipykernel)",
   "language": "python",
   "name": "python3"
  },
  "language_info": {
   "codemirror_mode": {
    "name": "ipython",
    "version": 3
   },
   "file_extension": ".py",
   "mimetype": "text/x-python",
   "name": "python",
   "nbconvert_exporter": "python",
   "pygments_lexer": "ipython3",
   "version": "3.11.7"
  }
 },
 "nbformat": 4,
 "nbformat_minor": 4
}
